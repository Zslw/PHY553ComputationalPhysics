{
 "cells": [
  {
   "cell_type": "markdown",
   "id": "fc3ae82f-7b4f-4fa3-8cad-fb1a2c66a817",
   "metadata": {},
   "source": [
    "# 2.4.3 Over and Underflow Exercises"
   ]
  },
  {
   "cell_type": "markdown",
   "id": "0fcbbeca-f6a8-4d47-a4df-31a80a458d64",
   "metadata": {},
   "source": [
    "1) Consider the 32-bit single-precision floating-point number A:\n",
    "\n",
    "|        | s        | e         | f                                      |\n",
    "|--------|----------|-----------|----------------------------------------|\n",
    "| Bit position | 31       | 30–23    | 22–0                                  |\n",
    "| Value  | 0        | 0000 1110 | 1010 0000 0000 0000 0000 0000 0000   |\n",
    "\n",
    "\n",
    "\n",
    "a) What are the binary values for the sign $s$, the exponent $e$, and the fractional mantissa\n",
    "\n",
    "f.(Hint:$e_{10}$ = 14.)\n",
    "\n",
    "\n",
    "b) Determine decimal values for the biased exponent $e$ and the true exponent p.\n",
    "\n",
    "c) Show that A’s mantissa equals 1.625000.\n",
    "\n",
    "d) Determine the full value of A."
   ]
  },
  {
   "cell_type": "markdown",
   "id": "7c6105ba-030d-4b9d-bbcf-91dc1d60e560",
   "metadata": {},
   "source": [
    "I thinnk a) is given in the table there.\n",
    "b) I think the biased exponent is 14 as hinted and the true exponent is \n",
    "$$p = e_{10} - 127$$"
   ]
  },
  {
   "cell_type": "code",
   "execution_count": 17,
   "id": "77898d33-f3ec-4f9a-b5d3-a4a80bb0c132",
   "metadata": {},
   "outputs": [
    {
     "data": {
      "text/plain": [
       "128"
      ]
     },
     "execution_count": 17,
     "metadata": {},
     "output_type": "execute_result"
    }
   ],
   "source": [
    "2**7"
   ]
  },
  {
   "cell_type": "code",
   "execution_count": 6,
   "id": "991de6ec-0fff-49c6-bd52-f4fc0c3d7785",
   "metadata": {},
   "outputs": [
    {
     "data": {
      "text/plain": [
       "14"
      ]
     },
     "execution_count": 6,
     "metadata": {},
     "output_type": "execute_result"
    }
   ],
   "source": [
    "e10 = 0*2**0 + 1*2**1 + 1*2**2 + 1*2**3 + 0*2**4 + 0*2**5 + 0*2**6 + 0*2**7\n",
    "e10"
   ]
  },
  {
   "cell_type": "code",
   "execution_count": 7,
   "id": "a7102052-8550-441c-bb9b-77b10794aa71",
   "metadata": {},
   "outputs": [
    {
     "data": {
      "text/plain": [
       "-113"
      ]
     },
     "execution_count": 7,
     "metadata": {},
     "output_type": "execute_result"
    }
   ],
   "source": [
    "p = e10 - 127\n",
    "p"
   ]
  },
  {
   "cell_type": "markdown",
   "id": "0c9cd765-1eac-4e4c-ad2b-cfa582e3f52f",
   "metadata": {},
   "source": [
    "Mantissa= 1.f= 1+m22 ×2−1 +m21 ×2−2 +···+m20 ×2−3,"
   ]
  },
  {
   "cell_type": "code",
   "execution_count": 9,
   "id": "27efdbdb-2bb0-4cad-bd0c-23b11a465a64",
   "metadata": {},
   "outputs": [
    {
     "data": {
      "text/plain": [
       "1.625"
      ]
     },
     "execution_count": 9,
     "metadata": {},
     "output_type": "execute_result"
    }
   ],
   "source": [
    "mantissa = 1 + 1*2**-1 + 0*2**-2 +  1*2**-3\n",
    "mantissa"
   ]
  },
  {
   "cell_type": "markdown",
   "id": "33973cbd-5cdf-47b9-90cc-5f9b4e42bcac",
   "metadata": {},
   "source": [
    "d) should be obtained from $(−1)^s ×0.f ×2^{p}$"
   ]
  },
  {
   "cell_type": "code",
   "execution_count": 13,
   "id": "ed00a5a4-58dc-44bc-99ef-06dc651e40a3",
   "metadata": {},
   "outputs": [
    {
     "data": {
      "text/plain": [
       "-1.5648180798146291e-34"
      ]
     },
     "execution_count": 13,
     "metadata": {},
     "output_type": "execute_result"
    }
   ],
   "source": [
    "s = 0\n",
    "A= -1**s * mantissa * 2**(p)\n",
    "A"
   ]
  },
  {
   "cell_type": "markdown",
   "id": "8a10d4e8-fef2-478e-9726-22e4257f7fd8",
   "metadata": {},
   "source": [
    "I found all the formulas and explanations for this particular problem in the textbook section 2.2.1\n",
    "The book gives the binary values of A so we can figure out what they mean, when $e_10$ calculated from \n",
    "the value on the table gives 14 which is the hint, then that would be the biased exp an to calculate true exponential p we substract 127 bits from the other exponent as the exponent uses 7 bits, then matissa is stored in 23 bits, so we use the binary number from position 22 to 0 and negative exponents of 2 to find it out. Finally we get the whole number made out of its pieces, the sign $s$, the mantissa, the true exponent with base 2"
   ]
  },
  {
   "cell_type": "markdown",
   "id": "03a7aedf-9c77-4ce5-8839-dfef175290b2",
   "metadata": {},
   "source": [
    "2) Write a program that determines the **underflow** and **overflow** limits (within a factor of 2)\n",
    "for Pythonon your computer. Here's a sample pseudocode"
   ]
  },
  {
   "cell_type": "markdown",
   "id": "2e1b8729-293a-4b57-b54b-e6470e51ea78",
   "metadata": {},
   "source": [
    "``` pseudocode \n",
    "under = 1.\n",
    "over = 1.\n",
    "3 begin do N times\n",
    "under = under/2.\n",
    "over = over ∗ 2.\n",
    "write out: loop number, under , over\n",
    "7 end do\n",
    "\n",
    "```"
   ]
  },
  {
   "cell_type": "markdown",
   "id": "60c1a330-94e4-4ea2-b4c5-00bffbface83",
   "metadata": {},
   "source": [
    "1) Check where under- and overflow occur for double-precision floating-point numbers.\n",
    "\n",
    "Give your answer in decimals.\n",
    "\n",
    "\n",
    "I want to split this into two codes so I can easily see where each happen\n",
    "\n",
    "for the overflow first:"
   ]
  },
  {
   "cell_type": "code",
   "execution_count": null,
   "id": "38537be4-ef96-4f33-a554-e7c62c5e61c8",
   "metadata": {},
   "outputs": [],
   "source": [
    "over = 1.\n",
    "i = 0\n",
    "for i in range(1023):\n",
    "    n_over = over*2.\n",
    "    over = n_over\n",
    "    i += 1    \n",
    "print('loop number =%1.0i , over =%.2e ' %(i,over))"
   ]
  },
  {
   "cell_type": "markdown",
   "id": "401dfeec-d1fd-4730-851f-0c1258e95826",
   "metadata": {},
   "source": [
    "If I change the value to 1024 it stalls \n",
    "so thats the limit, it check for 'inf' so that number should be actually ±1.7976931348623157×10+308\n",
    "as stated on the book but python has it built in.\n",
    "I knew that the 'inf' value was a upper value limit but didn't know what it was. Let's try print that out"
   ]
  },
  {
   "cell_type": "code",
   "execution_count": 30,
   "id": "2cbb2071-8056-4712-8d0a-5559d2a35348",
   "metadata": {},
   "outputs": [
    {
     "name": "stdout",
     "output_type": "stream",
     "text": [
      "Theoretical overflow limit = 1.80e+308\n",
      "inf\n"
     ]
    }
   ],
   "source": [
    "import sys\n",
    "print(f\"Theoretical overflow limit = {sys.float_info.max:.2e}\")\n",
    "print(float('inf'))"
   ]
  },
  {
   "cell_type": "markdown",
   "id": "ee86c31f-59ee-42e1-9bda-30df04fdbc8e",
   "metadata": {},
   "source": [
    "Then for the underflow:"
   ]
  },
  {
   "cell_type": "code",
   "execution_count": 19,
   "id": "f64d149e-e4d3-49ac-a3c1-8fada7c2f549",
   "metadata": {},
   "outputs": [
    {
     "name": "stdout",
     "output_type": "stream",
     "text": [
      "loop number =1074, under =4.94e-324 \n"
     ]
    }
   ],
   "source": [
    "under = 1.\n",
    "i = 0\n",
    "while True:\n",
    "    n_under = under/2.\n",
    "    if(n_under == 0.0):\n",
    "        break\n",
    "    under = n_under\n",
    "    i += 1    \n",
    "\n",
    "print('loop number =%1.0i, under =%.2e ' %(i,under))"
   ]
  },
  {
   "cell_type": "markdown",
   "id": "3fcddcb0-44ac-46f3-9ed0-2ec406bb91f3",
   "metadata": {},
   "source": [
    "3) Check where under- and overflow occur for integers. Note: There is no exponent stored\n",
    "for integers, so the smallest integer corresponds to the most negative one.\n",
    "To determine the largest and smallest integers,you must observe your program's output as you explicitly pass through the limits.\n",
    "You accomplish this by continually adding and subtracting 1.\n",
    "(Inasmuch as integer arithmetic uses two's complement arithmetic,you should expect some surprises.)"
   ]
  },
  {
   "cell_type": "code",
   "execution_count": 37,
   "id": "0a77a03f-25d2-4686-bc9b-f554498b8cfd",
   "metadata": {},
   "outputs": [
    {
     "name": "stdout",
     "output_type": "stream",
     "text": [
      "System word size: 9223372036854775807\n"
     ]
    }
   ],
   "source": []
  },
  {
   "cell_type": "markdown",
   "id": "a36ac12f-e089-488e-9955-13fb822db008",
   "metadata": {},
   "source": [
    "## 2.4.5 Experiment: Your Machine’s Precision\n",
    "\n",
    "Write a program to determine the machine precision $\\varepsilon_m$ of your computer system within a\n",
    "factor of 2. A sample pseudocode is\n",
    "\n",
    "```pseudocode\n",
    "\n",
    "eps = 1.\n",
    "begin do N times\n",
    "    eps = eps/2.    # Make smaller\n",
    "    one = 1. + eps  # Write loop number, one, eps\n",
    "end do\n",
    "\n",
    "```\n",
    "\n",
    "A Python implementation is given in Listing2.13, while a more precise one would work at\n",
    "the byte level.\n",
    "\n",
    "1) Determine experimentally the precision of double-precision floats.\n",
    "2) Determine experimentally the precision of complex numbers."
   ]
  },
  {
   "cell_type": "code",
   "execution_count": 61,
   "id": "924299e3-581d-4e3c-90c1-bc61ef46cf41",
   "metadata": {},
   "outputs": [
    {
     "name": "stdout",
     "output_type": "stream",
     "text": [
      "loop number =53, one =1.00e+00 , eps =1.11e-16\n"
     ]
    }
   ],
   "source": [
    "i = 0 \n",
    "eps = 1.\n",
    "while 1.0 + eps != 1.0: #cycle until 1+eps is different of 1\n",
    "    eps = eps/2. \n",
    "    i += 1\n",
    "print('loop number =%1.0i, one =%.2e , eps =%.2e' %(i,one,eps))\n",
    "    "
   ]
  },
  {
   "cell_type": "code",
   "execution_count": 57,
   "id": "0181adc1-73ca-4881-bb67-b426429d63e7",
   "metadata": {},
   "outputs": [
    {
     "name": "stdout",
     "output_type": "stream",
     "text": [
      "loop number =53 , eps =1.11e-16 (1+0j)\n"
     ]
    }
   ],
   "source": [
    "i = 0 \n",
    "eps = 1.\n",
    "z = 0j+1\n",
    "while z + eps != z:\n",
    "    eps = eps/2.\n",
    "    i += 1\n",
    "print('loop number =%1.0i , eps =%.2e' %(i,eps),z)\n",
    "    "
   ]
  },
  {
   "cell_type": "markdown",
   "id": "26300d8b-9a9e-4aae-96e5-6f533938a668",
   "metadata": {},
   "source": [
    "so in both cases the machine presicion is "
   ]
  },
  {
   "cell_type": "code",
   "execution_count": 59,
   "id": "f4305643-0867-46d2-93fe-fe3db4e0c45b",
   "metadata": {},
   "outputs": [
    {
     "data": {
      "text/plain": [
       "2.220446049250313e-16"
      ]
     },
     "execution_count": 59,
     "metadata": {},
     "output_type": "execute_result"
    }
   ],
   "source": [
    "eps*2"
   ]
  },
  {
   "cell_type": "markdown",
   "id": "4de2fc6f-93ec-445d-86cc-a16446e1528b",
   "metadata": {},
   "source": [
    "since the loop we used to stopped the cycle terminates when \n",
    "\n",
    "$1.0+\\text{eps}$ is no longer distinguishable from 1.0 so it should be 1 before that"
   ]
  },
  {
   "cell_type": "markdown",
   "id": "4211867e-e20e-48f6-87ab-9a72c7b1c342",
   "metadata": {},
   "source": [
    "## Exercise 2.7: Catalan Numbers\n",
    "\n",
    "The Catalan numbers $C_n$ are a sequence of integers $1, 1, 2, 5, 14, 42, 132, \\dots$ that play an important role in quantum mechanics and the theory of disordered systems. (They were central to Eugene Wigner’s proof of the so-called semicircle law.) They are given by:\n",
    "\n",
    "$$C_0 = 1, \\quad C_{n+1} = \\frac{4n + 2}{n + 2} C_n.$$\n",
    "\n",
    "Write a program that prints in increasing order all Catalan numbers less than or equal to one billion."
   ]
  },
  {
   "cell_type": "code",
   "execution_count": 65,
   "id": "a477b76f-c6c3-477e-bad2-b1a88046d998",
   "metadata": {},
   "outputs": [
    {
     "name": "stdout",
     "output_type": "stream",
     "text": [
      "Catalan numbers less than or equal to one billion: [1, 1, 2, 5, 14, 42, 132, 429, 1430, 4862, 16796, 58786, 208012, 742900, 2674440, 9694845, 35357670, 129644790, 477638700]\n"
     ]
    }
   ],
   "source": [
    "# Catalan numbers are calculated as per the formula:\n",
    "# C0 = 1\n",
    "# Cn+1 = (4n + 2) / (n + 2) * Cn\n",
    "\n",
    "# Function to calculate Catalan numbers less than or equal to a limit\n",
    "def calculate_catalan_numbers(limit):\n",
    "    catalan_numbers = []\n",
    "    Cn = 1  # Start with C0 = 1\n",
    "    n = 0\n",
    "\n",
    "    while Cn <= limit:\n",
    "        catalan_numbers.append(Cn)\n",
    "        # Calculate Cn+1 using the formula\n",
    "        Cn = (4 * n + 2) * Cn // (n + 2)\n",
    "        n += 1\n",
    "\n",
    "    return catalan_numbers\n",
    "\n",
    "\n",
    "limit = 1E9 #one billion\n",
    "catalan_numbers = calculate_catalan_numbers(limit)\n",
    "print(\"Catalan numbers less than or equal to one billion:\", catalan_numbers)"
   ]
  },
  {
   "cell_type": "markdown",
   "id": "eee02027-7aa8-457f-9355-c2f15ad95f13",
   "metadata": {},
   "source": [
    "# Exercise 2.13: Recursion\n",
    "\n",
    "A useful feature of user-defined functions is _recursion_, the ability of a function to call itself. For\n",
    "example, consider the following definition of the factorial $n!$ of a positive integer $n$:\n",
    "\n",
    "$$\n",
    "n! = \\begin{cases} \n",
    "1 & \\text{if } n = 1, \\\\\n",
    "n \\times (n - 1)! & \\text{if } n > 1.\n",
    "\\end{cases}\n",
    "$$\n",
    "\n",
    "This constitutes a complete definition of the factorial which allows us to calculate the value of\n",
    "$n!$ for any positive integer. We can employ this definition directly to create a Python function\n",
    "for factorials, like this:\n",
    "\n",
    "``` pseudocode\n",
    "\n",
    "def factorial(n):\n",
    "    if n==1:\n",
    "        return 1\n",
    "    else:\n",
    "        return n*factorial(n-1)\n",
    "\n",
    "```\n",
    "\n",
    "Note how, if $n$ is not equal to 1, the function calls itself to calculate the factorial of n − 1.\n",
    "This is recursion. If we now say `\"print(factorial(5))\"` the computer will correctly print the\n",
    "answer 120.\n",
    "\n",
    "a) We encountered the Catalan numbers $C_n$ previously in Exercise 2.7 on page 46. With just\n",
    "a little rearrangement, the definition given there can be rewritten in the form\n",
    "\n",
    "$$\n",
    "C_n = \\begin{cases}\n",
    "1 & \\text{if } n = 0, \\\\\n",
    "\\frac{4n - 2}{n + 1} C_{n-1} & \\text{if } n > 0.\n",
    "\\end{cases}\n",
    "$$\n",
    "\n",
    "Write a Python function, using recursion, that calculates $C_n$. Use your function to calculate and print $C_{100}$"
   ]
  },
  {
   "cell_type": "code",
   "execution_count": 66,
   "id": "83018dd5-f8fa-4604-8394-d0b0e27f8dbb",
   "metadata": {},
   "outputs": [],
   "source": [
    "def catalan_recursive(n):\n",
    "    if n == 0:\n",
    "        return 1\n",
    "    else:\n",
    "        return (4 * n - 2) * catalan_recursive(n - 1) // (n + 1)"
   ]
  },
  {
   "cell_type": "code",
   "execution_count": 67,
   "id": "a0d2b7fe-977c-4faa-bd2e-67a818363957",
   "metadata": {},
   "outputs": [
    {
     "data": {
      "text/plain": [
       "896519947090131496687170070074100632420837521538745909320"
      ]
     },
     "execution_count": 67,
     "metadata": {},
     "output_type": "execute_result"
    }
   ],
   "source": [
    "catalan_recursive(100)"
   ]
  },
  {
   "cell_type": "code",
   "execution_count": null,
   "id": "d966788f-6cb2-420a-b9ea-e1cfac8faeae",
   "metadata": {},
   "outputs": [],
   "source": []
  }
 ],
 "metadata": {
  "kernelspec": {
   "display_name": "Python 3 (ipykernel)",
   "language": "python",
   "name": "python3"
  },
  "language_info": {
   "codemirror_mode": {
    "name": "ipython",
    "version": 3
   },
   "file_extension": ".py",
   "mimetype": "text/x-python",
   "name": "python",
   "nbconvert_exporter": "python",
   "pygments_lexer": "ipython3",
   "version": "3.13.0"
  }
 },
 "nbformat": 4,
 "nbformat_minor": 5
}
