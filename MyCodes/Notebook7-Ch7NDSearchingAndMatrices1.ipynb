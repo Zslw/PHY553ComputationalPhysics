{
 "cells": [
  {
   "cell_type": "markdown",
   "id": "b947633c-fbfd-444b-a627-83bfc44a3f60",
   "metadata": {},
   "source": [
    "# NB7 N-D Searching & Matrices"
   ]
  },
  {
   "cell_type": "markdown",
   "id": "3b341e50-1df1-4791-9df2-af87f0d8671b",
   "metadata": {},
   "source": [
    "## Exercise - Landau Section 7.4 (Parts 1, 2, 3, 4): Tests Before Use\n",
    "\n",
    "- Hint: Work through all the text on Numpy, especially if this is new. There are\n",
    "many valuable details that illuminate the advantages of using numpy for matrix\n",
    "calculations.\n",
    "- This exercise is a way to apply these while exploring some of the linear algebra\n",
    "tools in the numpy.linalg package."
   ]
  },
  {
   "cell_type": "markdown",
   "id": "96f47d1d-577f-4002-8f80-df77512401d0",
   "metadata": {},
   "source": [
    "1) Find the numerical inverse of\n",
    "$$\n",
    "\\mathbf{A} =\n",
    "\\begin{bmatrix}\n",
    "+4&−2& +1 \\\\\n",
    "+3 &+6&−4 \\\\\n",
    "+2 &+1& +8\n",
    "\\end{bmatrix}\n",
    "$$\n",
    "\n",
    "    - a) As a general check, applicable even if you do not know the analytic answer, check your inverse in both directions; that is, check that $AA^{−1} = A^{−1}A= I$, and note the number of decimal places to which this is true. This also gives you some idea of the precision of your calculation.\n",
    "  \n",
    "    - b) Determine the number of decimal places of agreement there is between your numerical inverse and the analytic result: $\n",
    "\\mathbf{A^{−1}} =\n",
    "\\frac{1}{263}\n",
    "\\begin{bmatrix}\n",
    "+52 &+17& +2\\\\\n",
    "−32 &+30& +19\\\\\n",
    "−9&−8 &+30\n",
    "\\end{bmatrix}.\n",
    "$\n",
    "        Is this similar to the error in $AA^{−1}$?"
   ]
  },
  {
   "cell_type": "code",
   "execution_count": 1,
   "id": "f36e14bc-9730-4b8c-bac7-e21a5d47362f",
   "metadata": {},
   "outputs": [
    {
     "name": "stdout",
     "output_type": "stream",
     "text": [
      "A = \n",
      " [[ 4 -2  1]\n",
      " [ 3  6 -4]\n",
      " [ 2  1  8]]\n",
      "Ainv = \n",
      " [[ 0.19771863  0.06463878  0.00760456]\n",
      " [-0.121673    0.11406844  0.07224335]\n",
      " [-0.03422053 -0.03041825  0.11406844]]\n",
      "\n",
      " a) \n",
      "\n",
      "[[ 1.00000000e+00  6.93889390e-18  0.00000000e+00]\n",
      " [-5.55111512e-17  1.00000000e+00  1.00613962e-16]\n",
      " [-1.38777878e-17 -4.16333634e-17  1.00000000e+00]]\n",
      "[[ 1.00000000e+00 -3.46944695e-18  5.55111512e-17]\n",
      " [ 2.77555756e-17  1.00000000e+00  2.08166817e-16]\n",
      " [ 2.77555756e-17  0.00000000e+00  1.00000000e+00]]\n"
     ]
    }
   ],
   "source": [
    "import numpy as np\n",
    "from numpy.linalg import inv # for inv method\n",
    "\n",
    "A = [[4,-2,1],[3,6,-4],[2,1,8]]\n",
    "print(\"A = \\n\" , np.matrix(A))\n",
    "\n",
    "Ainv = np.linalg.inv(A)\n",
    "\n",
    "print(\"Ainv = \\n\" , np.matrix(Ainv))\n",
    "\n",
    "print(\"\\n a) \\n\")\n",
    "\n",
    "print(np.dot(A, Ainv))\n",
    "print(np.dot(Ainv, A))"
   ]
  },
  {
   "cell_type": "code",
   "execution_count": 2,
   "id": "621291e3-0747-4665-8fd7-e7fe297fd506",
   "metadata": {},
   "outputs": [
    {
     "name": "stdout",
     "output_type": "stream",
     "text": [
      "Ainvan = \n",
      " [[ 0.19771863  0.06463878  0.00760456]\n",
      " [-0.121673    0.11406844  0.07224335]\n",
      " [-0.03422053 -0.03041825  0.11406844]]\n"
     ]
    },
    {
     "data": {
      "text/plain": [
       "array([[ 0.00000000e+00,  0.00000000e+00, -6.07153217e-18],\n",
       "       [ 0.00000000e+00,  1.38777878e-17, -2.77555756e-17],\n",
       "       [ 0.00000000e+00,  3.46944695e-18, -1.38777878e-17]])"
      ]
     },
     "execution_count": 2,
     "metadata": {},
     "output_type": "execute_result"
    }
   ],
   "source": [
    "# Analitical Result\n",
    "\n",
    "coef = (1/263)\n",
    "mat = [[52,17,2],[-32,30,19],[-9,-8,30]]\n",
    "Ainvan = np.dot(coef,mat)\n",
    "\n",
    "print(\"Ainvan = \\n\" , np.matrix(Ainvan))\n",
    "\n",
    "Ainvan - Ainv"
   ]
  },
  {
   "cell_type": "markdown",
   "id": "b3abdf91-7615-4dac-9d7e-d0d593f6bf86",
   "metadata": {},
   "source": [
    "\n",
    "2) Consider the same matrix A as before, here being used to describe three simultaneous\n",
    "linear equations, $Ax= b$,or explicitly,\n",
    "\n",
    "$$\n",
    "\\begin{bmatrix}\n",
    "a_{00} &a_{01} &a_{02} \\\\\n",
    "a_{10} &a_{11} &a_{12} \\\\\n",
    "a_{20} &a_{21} &a_{22}\n",
    "\\end{bmatrix} \\space\n",
    "\\begin{bmatrix}\n",
    "x_0 \\\\\n",
    "x_1 \\\\\n",
    "x_2\n",
    "\\end{bmatrix} =\n",
    "\\begin{bmatrix}\n",
    "b_0 \\\\\n",
    "b_1 \\\\\n",
    "b_2\n",
    "\\end{bmatrix}.\\tag{7.30}\n",
    "$$\n",
    "\n",
    "Now the vector **b** on the RHS is assumed known, and the problem is to solve for the\n",
    "vector **x**. Use an appropriate subroutine to solve these equations for the three different\n",
    "**x** vectors appropriate to these three different **b** values on the RHS:\n",
    "$$\n",
    "\\mathbf{b_1} =\n",
    "\\begin{bmatrix}\n",
    "+12 \\\\\n",
    "-25 \\\\\n",
    "+32\n",
    "\\end{bmatrix}, \\quad\n",
    "\\mathbf{b_2} =\n",
    "\\begin{bmatrix}\n",
    "+4 \\\\\n",
    "-10 \\\\\n",
    "+22\n",
    "\\end{bmatrix}, \\quad\n",
    "\\mathbf{b_3} =\n",
    "\\begin{bmatrix}\n",
    "+20 \\\\\n",
    "-30 \\\\\n",
    "+40\n",
    "\\end{bmatrix}.\n",
    "$$\n",
    "\n",
    "The solutions should be\n",
    "\n",
    "$$\n",
    "\\mathbf{x_1} =\n",
    "\\begin{bmatrix}\n",
    "+1 \\\\\n",
    "-2 \\\\\n",
    "+4\n",
    "\\end{bmatrix}, \\quad\n",
    "\\mathbf{x_2} =\n",
    "\\begin{bmatrix}\n",
    "+0.312 \\\\\n",
    "-0.038 \\\\\n",
    "+2.677\n",
    "\\end{bmatrix}, \\quad\n",
    "\\mathbf{x_3} =\n",
    "\\begin{bmatrix}\n",
    "+2.319 \\\\\n",
    "-2.965 \\\\\n",
    "+4.790\n",
    "\\end{bmatrix}.\\tag{7.31}\n",
    "$$"
   ]
  },
  {
   "cell_type": "code",
   "execution_count": 3,
   "id": "6bedac5e-a528-426c-b1ad-701a02cdd58a",
   "metadata": {},
   "outputs": [
    {
     "data": {
      "text/plain": [
       "[array([ 1., -2.,  4.]),\n",
       " array([ 0.31178707, -0.03802281,  2.67680608]),\n",
       " array([ 2.31939163, -2.96577947,  4.79087452])]"
      ]
     },
     "execution_count": 3,
     "metadata": {},
     "output_type": "execute_result"
    }
   ],
   "source": [
    "bvec = [[12,-25,32],[4,-10,22],[20,-30,40]]\n",
    "xvec_solve = []\n",
    "\n",
    "for vec in bvec:\n",
    "    sol = np.linalg.solve(A, vec)\n",
    "    xvec_solve.append(sol)\n",
    "\n",
    "xvec_solve"
   ]
  },
  {
   "cell_type": "markdown",
   "id": "d9a4fa64-e963-452e-b621-963bede750fa",
   "metadata": {},
   "source": [
    "3) Consider the matrix $\n",
    "A= \\begin{bmatrix} \\alpha & \\beta \\\\ -\\beta & \\alpha \\end{bmatrix}\n",
    "$, where you are free to use any values you want for $\\alpha$ and $\\beta$. Use a numerical eigenvalue solver to show that the eigenvalues and eigenvectors are the complex conjugates.\n",
    "\n",
    "$$\n",
    "x_{1,2} = \\begin{bmatrix} 1 \\\\ \\mp i \\end{bmatrix}, \\quad \\lambda_{1,2} = \\alpha \\mp i\\beta. \\tag{7.32}\n",
    "$$\n"
   ]
  },
  {
   "cell_type": "code",
   "execution_count": 4,
   "id": "86def8fe-9a7d-417b-bfe2-2b0bb63fe3cd",
   "metadata": {},
   "outputs": [
    {
     "name": "stdout",
     "output_type": "stream",
     "text": [
      "Eigenvalues: [2.+3.j 2.-3.j]\n",
      "Eigenvectors:\n",
      "[[0.70710678+0.j         0.70710678-0.j        ]\n",
      " [0.        +0.70710678j 0.        -0.70710678j]]\n"
     ]
    }
   ],
   "source": [
    "import numpy as np\n",
    "from numpy.linalg import eig\n",
    "\n",
    "# Define the matrix A with arbitrary values for α and β\n",
    "alpha = 2\n",
    "beta = 3\n",
    "A = [[alpha, beta], [-beta, alpha]]\n",
    "\n",
    "# Compute eigenvalues and eigenvectors\n",
    "eigenvalues, eigenvectors = eig(A)\n",
    "\n",
    "print(f\"Eigenvalues: {eigenvalues}\\nEigenvectors:\\n{eigenvectors}\")\n"
   ]
  },
  {
   "cell_type": "markdown",
   "id": "3b4bf405-3afe-42ef-973b-c91805d0cd5a",
   "metadata": {},
   "source": [
    "4) Use your eigenvalue solver to find the eigenvalues of the matrix\n",
    "\n",
    "$$\n",
    "A=\n",
    "\\begin{bmatrix}\n",
    "-2 & +2 & -3 \\\\\n",
    "+2 & +1 & -6 \\\\\n",
    "-1 & -2 & 0\n",
    "\\end{bmatrix}. \\tag{7.33}\n",
    "$$\n",
    "\n",
    "- **a)** Verify that you obtain the eigenvalues $ \\lambda_1 = 5 $, $ \\lambda_2 = \\lambda_3 = -3 $. Beware, double roots can cause problems. In particular, there is a uniqueness issue with their eigenvectors because any combination of these eigenvectors is also an eigenvector.\n",
    "\n",
    "- **b)** Verify that the eigenvector for $ \\lambda_1 = 5 $ is proportional to  \n",
    "\n",
    "$$\n",
    "x_1 = \\frac{1}{\\sqrt{6}}\n",
    "\\begin{bmatrix}\n",
    "-1 \\\\\n",
    "-2 \\\\\n",
    "+1\n",
    "\\end{bmatrix}. \\tag{7.34}\n",
    "$$\n",
    "\n",
    "- **c)** The eigenvalue \\( -3 \\) corresponds to a double root. This means that the corresponding eigenvectors are degenerate, which in turn means that they are not unique. Two linearly independent ones are:\n",
    "\n",
    "$$\n",
    "x_2 = \\frac{1}{\\sqrt{5}}\n",
    "\\begin{bmatrix}\n",
    "-2 \\\\\n",
    "+1 \\\\\n",
    "0\n",
    "\\end{bmatrix}, \\quad\n",
    "x_3 = \\frac{1}{\\sqrt{10}}\n",
    "\\begin{bmatrix}\n",
    "3 \\\\\n",
    "0 \\\\\n",
    "1\n",
    "\\end{bmatrix}. \\tag{7.35}\n",
    "$$\n",
    "\n",
    "In this case, it’s not clear what your eigenvalue solver will give for the eigenvectors. Try to find a relationship between your computed eigenvectors with the eigenvalue \\( -3 \\) and these two linearly independent ones.\n"
   ]
  },
  {
   "cell_type": "code",
   "execution_count": 5,
   "id": "3c8434a0-c615-478b-a86d-ec7f3aee78e8",
   "metadata": {},
   "outputs": [
    {
     "name": "stdout",
     "output_type": "stream",
     "text": [
      "A = \n",
      " [[-2  2 -3]\n",
      " [ 2  1 -6]\n",
      " [-1 -2  0]]\n",
      "Eigenvalues: [-3.  5. -3.]\n",
      "Eigenvectors:\n",
      "[[-0.95257934  0.40824829  0.05155221]\n",
      " [ 0.27216553  0.81649658  0.82292764]\n",
      " [-0.13608276 -0.40824829  0.5658025 ]]\n"
     ]
    }
   ],
   "source": [
    "A = [[-2,2,-3],[2,1,-6],[-1,-2,0]]\n",
    "\n",
    "print(\"A = \\n\" , np.matrix(A))\n",
    "\n",
    "# Compute eigenvalues and eigenvectors\n",
    "eigenvalues, eigenvectors = eig(A)\n",
    "\n",
    "print(f\"Eigenvalues: {eigenvalues}\\nEigenvectors:\\n{eigenvectors}\")"
   ]
  },
  {
   "cell_type": "code",
   "execution_count": 6,
   "id": "44f7f5ca-d2b4-4730-a473-0739e8bba9e7",
   "metadata": {},
   "outputs": [],
   "source": [
    "#input the given values\n",
    "\n",
    "x1 = np.dot(1/np.sqrt(6),[-1,-2,1])\n",
    "x2 = np.dot(1/np.sqrt(5),[-2,1,0])\n",
    "x3 = np.dot(1/np.sqrt(10),[3,0,1])"
   ]
  },
  {
   "cell_type": "code",
   "execution_count": 7,
   "id": "e5f3bf6c-9aa7-4c16-9ac2-d7c15108d036",
   "metadata": {},
   "outputs": [
    {
     "name": "stdout",
     "output_type": "stream",
     "text": [
      "[-0.40824829 -0.81649658  0.40824829] [ 0.40824829  0.81649658 -0.40824829]\n"
     ]
    },
    {
     "data": {
      "text/plain": [
       "array([-1., -1., -1.])"
      ]
     },
     "execution_count": 7,
     "metadata": {},
     "output_type": "execute_result"
    }
   ],
   "source": [
    "# Extract the computed eigenvector for λ1 = 5\n",
    "index_lambda1 = np.where(np.isclose(eigenvalues, 5))[0][0] #compares arrays, picks the true value, slices the index\n",
    "x1_computed = eigenvectors[:, index_lambda1]\n",
    "\n",
    "print(x1,x1_computed)\n",
    "\n",
    "# Check proportionality\n",
    "scaling_factors_x1 = x1_computed / x1\n",
    "\n",
    "scaling_factors_x1"
   ]
  },
  {
   "cell_type": "code",
   "execution_count": 8,
   "id": "928665ce-b276-4a21-93b4-75b05cf714d2",
   "metadata": {},
   "outputs": [
    {
     "data": {
      "text/plain": [
       "array([[ 0.60858062,  1.84012215],\n",
       "       [-0.43033148,  1.7892246 ]])"
      ]
     },
     "execution_count": 8,
     "metadata": {},
     "output_type": "execute_result"
    }
   ],
   "source": [
    "# Extract eigenvectors for λ = -3\n",
    "indices_lambda_23 = np.where(np.isclose(eigenvalues, -3))[0]\n",
    "x2_computed = eigenvectors[:, indices_lambda_23[0]]\n",
    "x3_computed = eigenvectors[:, indices_lambda_23[1]]\n",
    "\n",
    "#linear combinations of x2 and x3\n",
    "computed_matrix = np.column_stack((x2_computed, x3_computed))\n",
    "theoretical_matrix = np.column_stack((x2, x3))\n",
    "\n",
    "coefficients, residuals, rank, singular_values = np.linalg.lstsq(theoretical_matrix, computed_matrix, rcond=None)\n",
    "\n",
    "coefficients\n"
   ]
  },
  {
   "cell_type": "markdown",
   "id": "5200f3a1-15ec-4d98-97bb-c3b144201dc5",
   "metadata": {},
   "source": [
    "## (Grad Students) Exercise – landau Section 7.4 (Part 5): Tests Before Use"
   ]
  },
  {
   "cell_type": "markdown",
   "id": "33d60823-9e21-4294-8931-bf97e3352afe",
   "metadata": {},
   "source": [
    "### **5) Solving a System of Coupled Linear Equations**\n",
    "\n",
    "Imagine that your model of some physical system results in \\( N = 100 \\) coupled linear equations in \\( N \\) unknowns:\n",
    "\n",
    "$$\n",
    "a_{00} y_0 + a_{01} y_1 + \\dots + a_{0(N-1)} y_{N-1} = b_0,\n",
    "$$\n",
    "\n",
    "$$\n",
    "a_{10} y_0 + a_{11} y_1 + \\dots + a_{1(N-1)} y_{N-1} = b_1,\n",
    "$$\n",
    "\n",
    "$$\n",
    "\\vdots\n",
    "$$\n",
    "\n",
    "$$\n",
    "a_{(N-1)0} y_0 + a_{(N-1)1} y_1 + \\dots + a_{(N-1)(N-1)} y_{N-1} = b_{N-1}.\n",
    "$$\n",
    "\n",
    "In many cases, the \\( a \\) and \\( b \\) values are known, so your exercise is to solve for all the \\( y \\) values, taking:\n",
    "\n",
    "- $ A $ as the **Hilbert matrix**:\n",
    "  \n",
    "  $$\n",
    "  [a_{ij}] = A = \\left[ \\frac{1}{i + j - 1} \\right] =\n",
    "  \\begin{bmatrix}\n",
    "  1 & \\frac{1}{2} & \\frac{1}{3} & \\dots & \\frac{1}{100} \\\\\n",
    "  \\frac{1}{2} & \\frac{1}{3} & \\frac{1}{4} & \\dots & \\frac{1}{101} \\\\\n",
    "  \\vdots & \\vdots & \\vdots & \\ddots & \\vdots \\\\\n",
    "  \\frac{1}{100} & \\frac{1}{101} & \\frac{1}{102} & \\dots & \\frac{1}{199}\n",
    "  \\end{bmatrix}\n",
    "  $$\n",
    "  \n",
    "- $ b $ as its **first column**:\n",
    "\n",
    "  $$\n",
    "  [b_i] = b = \\left[ \\frac{1}{i} \\right] =\n",
    "  \\begin{bmatrix}\n",
    "  1 \\\\\n",
    "  \\frac{1}{2} \\\\\n",
    "  \\frac{1}{3} \\\\\n",
    "  \\vdots \\\\\n",
    "  \\frac{1}{100}\n",
    "  \\end{bmatrix}\n",
    "  $$\n",
    "\n",
    "Compare your computed solution to the **analytic solution**:\n",
    "$$\n",
    "    \\begin{bmatrix}\n",
    "    y_1 \\\\\n",
    "    y_2 \\\\\n",
    "    \\vdots \\\\\n",
    "    y_N\n",
    "    \\end{bmatrix}\n",
    "    =\n",
    "    \\begin{bmatrix}\n",
    "    1 \\\\\n",
    "    0 \\\\\n",
    "    \\vdots \\\\\n",
    "    0\n",
    "    \\end{bmatrix}.\n",
    "    $$\n"
   ]
  },
  {
   "cell_type": "code",
   "execution_count": 9,
   "id": "3d24dedc-e68a-4fe2-a445-70afc7f5f4d4",
   "metadata": {},
   "outputs": [],
   "source": [
    "def generate_hilbert_matrix(N):\n",
    "    \"\"\"Generate an NxN Hilbert matrix manually using loops.\"\"\"\n",
    "    H = np.zeros((N, N))  # Initialize an NxN matrix with zeros\n",
    "    for i in range(N):\n",
    "        for j in range(N):\n",
    "            H[i, j] = 1 / (i + j + 1)  # Hilbert matrix formula\n",
    "    return H"
   ]
  },
  {
   "cell_type": "code",
   "execution_count": 10,
   "id": "6670e7ca-0d07-47b6-ab2c-59e583c5bf07",
   "metadata": {},
   "outputs": [
    {
     "name": "stdout",
     "output_type": "stream",
     "text": [
      "[ 1.  0.  0.  0.  0.  0.  0.  0. -0. -0. -0.  0.  0.  0. -0. -0. -0.  0.\n",
      "  0.  0.  0. -0.  0. -0. -0.  0.  0. -0. -0.  0. -0.  0. -0.  0. -0.  0.\n",
      " -0. -0.  0.  0.  0. -0.  0. -0.  0. -0. -0.  0. -0.  0.  0.  0. -0. -0.\n",
      " -0. -0.  0.  0.  0.  0.  0.  0. -0. -0. -0.  0. -0.  0. -0. -0.  0.  0.\n",
      "  0. -0.  0.  0.  0. -0. -0. -0.  0. -0.  0.  0. -0. -0. -0. -0. -0. -0.\n",
      " -0.  0. -0. -0. -0. -0. -0.  0.  0. -0.]\n"
     ]
    }
   ],
   "source": [
    "N = 100\n",
    "\n",
    "#  Hilbert matrix A (NxN)\n",
    "A = generate_hilbert_matrix(N)\n",
    "\n",
    "# vector b (first column of Hilbert matrix)\n",
    "b = np.array([1 / (i + 1) for i in range(N)])\n",
    "\n",
    "# Solve the system Ax = b\n",
    "y = np.linalg.solve(A, b)\n",
    "\n",
    "print(y)"
   ]
  },
  {
   "cell_type": "markdown",
   "id": "57ba4179-b82a-44a5-899b-60e3bedcf3d1",
   "metadata": {},
   "source": [
    "## Exercise - Landau Section 7.5 (Parts 1 & 2): Solution to String Problem"
   ]
  },
  {
   "cell_type": "markdown",
   "id": "4c4e1622-21bb-4ce4-8fe9-20357e21ef21",
   "metadata": {},
   "source": [
    "1) See at what point your initial guess for the angles of the strings gets so bad that the\n",
    "computer is unable to find a physical solution."
   ]
  },
  {
   "cell_type": "markdown",
   "id": "3c66b827-2d32-4025-9cce-8cd0d2fd5efc",
   "metadata": {},
   "source": [
    "From the book 7.1 code `NewtonNDanimate_NoAnimation` solves 9 coupled equations.\n",
    "\n",
    "### Geometric Constraints (Position of Strings)\n",
    "\n",
    "$$\n",
    "L_1 \\cos\\theta_1 + L_2 \\cos\\theta_2 + L_3 \\cos\\theta_3 = L\n",
    "$$\n",
    "\n",
    "$$\n",
    "L_1 \\sin\\theta_1 + L_2 \\sin\\theta_2 - L_3 \\sin\\theta_3 = 0\n",
    "$$\n",
    "\n",
    "### Force Equilibrium Equations (Newton’s Laws)\n",
    "\n",
    "$$\n",
    "T_1 \\sin\\theta_1 - T_2 \\sin\\theta_2 - W_1 = 0\n",
    "$$\n",
    "\n",
    "$$\n",
    "T_1 \\cos\\theta_1 - T_2 \\cos\\theta_2 = 0\n",
    "$$\n",
    "\n",
    "$$\n",
    "T_2 \\sin\\theta_2 + T_3 \\sin\\theta_3 - W_2 = 0\n",
    "$$\n",
    "\n",
    "$$\n",
    "T_2 \\cos\\theta_2 - T_3 \\cos\\theta_3 = 0\n",
    "$$\n",
    "\n",
    "### Trigonometric Identities  \n",
    "(to treat $\\sin\\theta$ and $\\cos\\theta$ as independent)\n",
    "\n",
    "$$\n",
    "\\sin^2\\theta_1 + \\cos^2\\theta_1 = 1\n",
    "$$\n",
    "\n",
    "$$\n",
    "\\sin^2\\theta_2 + \\cos^2\\theta_2 = 1\n",
    "$$\n",
    "\n",
    "$$\n",
    "\\sin^2\\theta_3 + \\cos^2\\theta_3 = 1\n",
    "$$\n",
    "\n",
    "Since these equations are nonlinear, we solve them iteratively using Newton's Method.\n"
   ]
  },
  {
   "cell_type": "markdown",
   "id": "15da3272-fb9d-43c1-975e-67f2f63d9700",
   "metadata": {},
   "source": [
    "After reviewing the code `NewtonNDanimate_NoAnimation` we see this is a Newton-Raphson problem, from the previos NB we know that the solution may fail to converge if:\n",
    "\n",
    "- The initial guess is too far from the correct values (x array)\n",
    "- The iterative process diverges due to a bad conditioning of the Jacobian (deriv)\n",
    "\n",
    "Let's turn the code into a function that can take initial guesses as parameter for 1)"
   ]
  },
  {
   "cell_type": "code",
   "execution_count": 44,
   "id": "f3433829-6d16-41d8-b70f-4ffb7bce5d68",
   "metadata": {},
   "outputs": [],
   "source": [
    "import numpy as np\n",
    "from numpy.linalg import inv # for inv method\n",
    "\n",
    "def newton_nd_solve(initial_guess, eps=1e-3, max_iterations=100,mode='legacy'):\n",
    "    \"\"\"\n",
    "    Solves the nonlinear system of equations for the two-mass, three-string problem\n",
    "    using Newton's method. As shown in NewtonNDanimate_NoAnimation\n",
    "\n",
    "    Parameters:\n",
    "    - initial_guess: array-like, initial values for sin(theta_i), cos(theta_i), and tensions\n",
    "    - eps: float, convergence tolerance\n",
    "    - max_iterations: int, maximum number of iterations allowed\n",
    "\n",
    "    Returns:\n",
    "    - solution: dictionary containing final values of angles and tensions\n",
    "    - iterations: number of iterations taken to converge\n",
    "    - success: boolean indicating whether the method converged\n",
    "\n",
    "    Use:\n",
    "    initial_guess = [0.5, 0.5, 0.5, 0.5, 0.5, 0.5, 0.5, 1., 1.] As in the original code\n",
    "\n",
    "    should result on \n",
    "\n",
    "    Number of iterations =  99 \n",
    "     Final Solution:\n",
    "    x[ 0 ] =   0.7610026921018717\n",
    "    x[ 1 ] =   0.26495381028070264\n",
    "    x[ 2 ] =   0.8357058293571064\n",
    "    x[ 3 ] =   0.6487487207029421\n",
    "    x[ 4 ] =   0.9642611048972874\n",
    "    x[ 5 ] =   0.549177354575506\n",
    "    x[ 6 ] =   17.16020978460729\n",
    "    x[ 7 ] =   11.545279684327756\n",
    "    x[ 8 ] =   20.271578044639117\n",
    "    \"\"\"\n",
    "    import numpy as np\n",
    "\n",
    "    # Number of unknowns\n",
    "    n = 9\n",
    "    deriv = np.zeros((n, n), float)\n",
    "    f = np.zeros(n, float)\n",
    "    #eps = 1e-3 default value on the function parameters\n",
    "    x = np.array(initial_guess)\n",
    "\n",
    "    def F(x, f):                                       # F function\n",
    "        f[0] = 3*x[3]  +  4*x[4]  +  4*x[5]  -  8.0\n",
    "        f[1] = 3*x[0]  +  4*x[1]  -  4*x[2]\n",
    "        f[2] = x[6]*x[0]  -  x[7]*x[1]  -  10.0\n",
    "        f[3] = x[6]*x[3]  -  x[7]*x[4]\n",
    "        f[4] = x[7]*x[1]  +  x[8]*x[2]  -  20.0\n",
    "        f[5] = x[7]*x[4]  -  x[8]*x[5]\n",
    "        # original f6,f7,f8\n",
    "        if mode == 'legacy':\n",
    "            f[6] = x[0]**2 + x[3]**2 - 1.0\n",
    "            f[7] = x[1]**2 + x[4]**2 - 1.0\n",
    "            f[8] = x[2]**2 + x[5]**2 - 1.0\n",
    "        elif mode == 'modified': #modified f6,f7,f8 for 2)\n",
    "            f[6] = x[3] - np.sqrt(max(0, 1 - x[0]**2))\n",
    "            f[7] = x[4] - np.sqrt(max(0, 1 - x[1]**2))\n",
    "            f[8] = x[5] - np.sqrt(max(0, 1 - x[2]**2))\n",
    "        \n",
    "    def dFi_dXj(x, deriv, n):                           # Derivatives\n",
    "        h = 1e-4                                             \n",
    "        for j in range(0, n):\n",
    "             temp = x[j]\n",
    "             x[j] = x[j] +  h/2.\n",
    "             F(x, f)                                                 \n",
    "             for i in range(0, n):  deriv[i, j] = f[i] \n",
    "             x[j] = temp\n",
    "        for j in range(0, n):\n",
    "             temp = x[j]\n",
    "             x[j] = x[j] - h/2.\n",
    "             F(x, f)\n",
    "             for i in range(0, n): deriv[i, j] = (deriv[i, j] - f[i])/h\n",
    "             x[j] = temp\n",
    "             \n",
    "\n",
    "    # Newton-Raphson\n",
    "    for it in range(1, max_iterations + 1):\n",
    "        # rate(1)                            # 1 second between graphs\n",
    "        F(x, f)                              \n",
    "        dFi_dXj(x, deriv, n)   \n",
    "        B = np.array([[-f[0]], [-f[1]], [-f[2]], [-f[3]], [-f[4]], [-f[5]],\\\n",
    "            [-f[6]], [-f[7]], [-f[8]]])      \n",
    "        sol = np.linalg.solve(deriv, B)\n",
    "        dx = np.take(sol, (0, ), 1).flatten()               # First column of sol\n",
    "        for i in range(0, n):\n",
    "            x[i]  = x[i]  +  dx[i]\n",
    "            # plotconfig()\n",
    "            errX = errF = errXi = 0.0\n",
    "        for i in range(0, n):\n",
    "            if ( x[i] !=  0.): errXi = abs(dx[i]/x[i])\n",
    "            else:  errXi = abs(dx[i])\n",
    "            if ( errXi > errX): errX = errXi                            \n",
    "            if ( abs(f[i]) > errF ):  errF = abs(f[i])        \n",
    "        if ( (errX <=  eps) and (errF <=  eps) ): break #this line in the code from listing is indented wrong causing to always iterate max times\n",
    "\n",
    "    return {f\"x[{i}]\": x[i] for i in range(n)}, it, (it < max_iterations)"
   ]
  },
  {
   "cell_type": "code",
   "execution_count": 30,
   "id": "92db2f80-2f0b-42a2-af03-5219d3e35232",
   "metadata": {},
   "outputs": [
    {
     "data": {
      "text/plain": [
       "({'x[0]': np.float64(0.7610026921018719),\n",
       "  'x[1]': np.float64(0.26495381028070225),\n",
       "  'x[2]': np.float64(0.8357058293571062),\n",
       "  'x[3]': np.float64(0.6487487207029418),\n",
       "  'x[4]': np.float64(0.9642611048972874),\n",
       "  'x[5]': np.float64(0.5491773545755062),\n",
       "  'x[6]': np.float64(17.16020978460727),\n",
       "  'x[7]': np.float64(11.545279684327738),\n",
       "  'x[8]': np.float64(20.27157804463919)},\n",
       " 9,\n",
       " True)"
      ]
     },
     "execution_count": 30,
     "metadata": {},
     "output_type": "execute_result"
    }
   ],
   "source": [
    "initial_guess = [0.5, 0.5, 0.5, 0.5, 0.5, 0.5, 0.5, 1., 1.]\n",
    "solution, iterations, success = newton_nd_solve(initial_guess)\n",
    "\n",
    "solution, iterations, success"
   ]
  },
  {
   "cell_type": "markdown",
   "id": "2221b2af-196e-49a5-a23d-e886d5952913",
   "metadata": {},
   "source": [
    "Ok now that is working let's find some bad guesses like, \n",
    "some impossible stuff or things that are not physically allowed"
   ]
  },
  {
   "cell_type": "markdown",
   "id": "99966294-0a14-4639-995e-9dc3da92f2ae",
   "metadata": {},
   "source": [
    "- Extreme angles ($\\sin\\theta, \\cos\\theta$ values way outside normal range)\n",
    "  \n",
    "  $sinθ = 2.0$ (impossible) or $cosθ = -1.5$ (non-physical).\n",
    "\n",
    "- Negative and large tensions (physically impossible cases)\n",
    "  \n",
    "- Initial tensions set to $-10$ or $10000$.\n",
    "\n",
    "- Random guesses"
   ]
  },
  {
   "cell_type": "code",
   "execution_count": 26,
   "id": "acd387e3-9b0d-41cb-ad87-c8dfb7add991",
   "metadata": {},
   "outputs": [
    {
     "data": {
      "text/plain": [
       "({'x[0]': np.float64(0.7610026921018724),\n",
       "  'x[1]': np.float64(0.2649538102807103),\n",
       "  'x[2]': np.float64(0.8357058293571146),\n",
       "  'x[3]': np.float64(0.6487487207029563),\n",
       "  'x[4]': np.float64(0.9642611048972869),\n",
       "  'x[5]': np.float64(0.5491773545754958),\n",
       "  'x[6]': np.float64(17.160209784606252),\n",
       "  'x[7]': np.float64(11.545279684326744),\n",
       "  'x[8]': np.float64(20.271578044640997)},\n",
       " 36,\n",
       " True)"
      ]
     },
     "execution_count": 26,
     "metadata": {},
     "output_type": "execute_result"
    }
   ],
   "source": [
    "guess = [2.0, 1.0, 2.0, 0.01, -1.5, 0.01, -10.0, -10000.0, 10000.0]\n",
    "solution, iterations, success = newton_nd_solve(guess)\n",
    "\n",
    "solution, iterations, success"
   ]
  },
  {
   "cell_type": "code",
   "execution_count": 28,
   "id": "acac9830-a1da-4156-8016-ba9eaef6726c",
   "metadata": {},
   "outputs": [
    {
     "data": {
      "text/plain": [
       "({'x[0]': np.float64(0.761002692101863),\n",
       "  'x[1]': np.float64(0.2649538102807129),\n",
       "  'x[2]': np.float64(0.8357058293571101),\n",
       "  'x[3]': np.float64(0.6487487207029529),\n",
       "  'x[4]': np.float64(0.9642611048972848),\n",
       "  'x[5]': np.float64(0.5491773545755005),\n",
       "  'x[6]': np.float64(17.16020978460797),\n",
       "  'x[7]': np.float64(11.545279684328518),\n",
       "  'x[8]': np.float64(20.271578044639494)},\n",
       " 33,\n",
       " True,\n",
       " [-25.091976230527507,\n",
       "  90.14286128198324,\n",
       "  46.39878836228101,\n",
       "  19.73169683940732,\n",
       "  -68.79627191151269,\n",
       "  -68.80109593275947,\n",
       "  -88.3832775663601,\n",
       "  73.23522915498702,\n",
       "  20.223002348641756])"
      ]
     },
     "execution_count": 28,
     "metadata": {},
     "output_type": "execute_result"
    }
   ],
   "source": [
    "# Random Bull$*(t go!\n",
    "np.random.seed(42) #obviously\n",
    "random_guess = np.random.uniform(-100, 100, 9).tolist()\n",
    "\n",
    "solution, iterations, success = newton_nd_solve(random_guess)\n",
    "\n",
    "solution, iterations, success, random_guess"
   ]
  },
  {
   "cell_type": "markdown",
   "id": "434a1de0-fe80-4e99-b824-b04c385dc748",
   "metadata": {},
   "source": [
    "2) A possible problem with the formalism we have just laid out is that by incorporating the\n",
    "identity $ \\sin^2\\theta_i + \\cos^2\\theta_i = 1 $ into the equations, we may be discarding some information\n",
    "about the sign of $ \\sin\\theta $ or $ \\cos\\theta $. If you look at Figure 7.1, you can observe that for some\n",
    "values of the weights and lengths, $ \\theta_2 $ may turn out to be negative, yet $ \\cos\\theta $ should remain\n",
    "positive. We can build this condition into our equations by replacing $ f_7 - f_9 $ with $ f' $s\n",
    "based on the form:\n",
    "\n",
    "$$\n",
    "f_7 = x_4 - \\sqrt{1 - x_1^2}, \\quad\n",
    "f_8 = x_5 - \\sqrt{1 - x_2^2}, \\quad\n",
    "f_9 = x_6 - \\sqrt{1 - x_3^2}.\n",
    "\\tag{7.39}\n",
    "$$\n",
    "\n",
    "See if this makes any difference in the solutions obtained."
   ]
  },
  {
   "cell_type": "markdown",
   "id": "c87cc909-5ecd-410b-8a24-af64d3d1e804",
   "metadata": {},
   "source": [
    "Okay im going to change the calculation of f8, f9, f10 of function newton_nd_solve above\n",
    "\n",
    "from \n",
    "``` python\n",
    "        f[6] = pow(x[0], 2)  +  pow(x[3], 2)  -  1.0\n",
    "        f[7] = pow(x[1], 2)  +  pow(x[4], 2)  -  1.0\n",
    "        f[8] = pow(x[2], 2)  +  pow(x[5], 2)  -  1.0\n",
    "```\n",
    "\n",
    "to \n",
    "\n",
    "``` python\n",
    "# Modified conditions for cos(theta)\n",
    "        f[6] = x[3] - np.sqrt(max(0, 1 - x[0]**2))\n",
    "        f[7] = x[4] - np.sqrt(max(0, 1 - x[1]**2))\n",
    "        f[8] = x[5] - np.sqrt(max(0, 1 - x[2]**2))\n",
    "\n",
    "```"
   ]
  },
  {
   "cell_type": "code",
   "execution_count": 24,
   "id": "911fce68-4f98-4c68-8425-a9442735d29b",
   "metadata": {
    "scrolled": true
   },
   "outputs": [
    {
     "name": "stdout",
     "output_type": "stream",
     "text": [
      "Legacy Version: {'x[0]': np.float64(0.7610026921018729), 'x[1]': np.float64(0.2649538102807012), 'x[2]': np.float64(0.8357058293571059), 'x[3]': np.float64(0.6487487207029408), 'x[4]': np.float64(0.9642611048972878), 'x[5]': np.float64(0.5491773545755066), 'x[6]': np.float64(17.160209784607172), 'x[7]': np.float64(11.545279684327637), 'x[8]': np.float64(20.271578044639423)} 5 True\n",
      "Modified Version: {'x[0]': np.float64(0.7610026921120219), 'x[1]': np.float64(0.2649538102869575), 'x[2]': np.float64(0.8357058293709739), 'x[3]': np.float64(0.6487487206988066), 'x[4]': np.float64(0.9642611048965519), 'x[5]': np.float64(0.5491773545793432), 'x[6]': np.float64(17.160209784362262), 'x[7]': np.float64(11.545279684053229), 'x[8]': np.float64(20.271578043745098)} 5 True\n"
     ]
    }
   ],
   "source": [
    "initial_guess = [\n",
    "    np.sin(np.pi / 4),  \n",
    "    np.sin(np.pi / 4),  \n",
    "    np.sin(np.pi / 4),  \n",
    "    np.cos(np.pi / 4),  \n",
    "    np.cos(np.pi / 4),  \n",
    "    np.cos(np.pi / 4),  \n",
    "    10.0,               \n",
    "    10.0,                \n",
    "    10.0                \n",
    "]\n",
    "\n",
    "solution_legacy, iterations_legacy, success_legacy = newton_nd_solve(initial_guess, mode='legacy')\n",
    "solution_modified, iterations_modified, success_modified = newton_nd_solve(initial_guess, mode='modified')\n",
    "\n",
    "print(\"Legacy Version:\", solution_legacy, iterations_legacy, success_legacy)\n",
    "print(\"Modified Version:\", solution_modified, iterations_modified, success_modified)"
   ]
  },
  {
   "cell_type": "code",
   "execution_count": 25,
   "id": "d85270dc-1846-44df-96f3-cbd403f8402c",
   "metadata": {},
   "outputs": [
    {
     "name": "stdout",
     "output_type": "stream",
     "text": [
      "\n",
      "Legacy Version:\n",
      "  Converged: Yes in 5 iterations\n",
      "  Final Solution:\n",
      "    x[0] = 0.7610026921\n",
      "    x[1] = 0.2649538103\n",
      "    x[2] = 0.8357058294\n",
      "    x[3] = 0.6487487207\n",
      "    x[4] = 0.9642611049\n",
      "    x[5] = 0.5491773546\n",
      "    x[6] = 17.1602097846\n",
      "    x[7] = 11.5452796843\n",
      "    x[8] = 20.2715780446\n",
      "\n",
      "Modified Version:\n",
      "  Converged: Yes in 5 iterations\n",
      "  Final Solution:\n",
      "    x[0] = 0.7610026921\n",
      "    x[1] = 0.2649538103\n",
      "    x[2] = 0.8357058294\n",
      "    x[3] = 0.6487487207\n",
      "    x[4] = 0.9642611049\n",
      "    x[5] = 0.5491773546\n",
      "    x[6] = 17.1602097844\n",
      "    x[7] = 11.5452796841\n",
      "    x[8] = 20.2715780437\n"
     ]
    }
   ],
   "source": [
    "solution_legacy, iterations_legacy, success_legacy = newton_nd_solve(initial_guess)\n",
    "solution_modified, iterations_modified, success_modified = newton_nd_solve(initial_guess, mode='modified')\n",
    "\n",
    "# Print results\n",
    "print_solution(\"Legacy\", solution_legacy, iterations_legacy, success_legacy)\n",
    "print_solution(\"Modified\", solution_modified, iterations_modified, success_modified)"
   ]
  },
  {
   "cell_type": "code",
   "execution_count": 6,
   "id": "f0807f62-5b41-49a2-a316-e7710434132d",
   "metadata": {},
   "outputs": [],
   "source": [
    "#That looks awful let me reprint\n",
    "\n",
    "def print_solution(name, solution, iterations, success):\n",
    "    print(f\"\\n{name} Version:\")\n",
    "    print(f\"  Converged: {'Yes' if success else 'No'} in {iterations} iterations\")\n",
    "    print(\"  Final Solution:\")\n",
    "    for key, value in solution.items():\n",
    "        print(f\"    {key} = {value:.10f}\")"
   ]
  },
  {
   "cell_type": "code",
   "execution_count": 29,
   "id": "cd521386-0d01-485c-a5b3-f89a01248838",
   "metadata": {},
   "outputs": [
    {
     "ename": "LinAlgError",
     "evalue": "Singular matrix",
     "output_type": "error",
     "traceback": [
      "\u001b[0;31m---------------------------------------------------------------------------\u001b[0m",
      "\u001b[0;31mLinAlgError\u001b[0m                               Traceback (most recent call last)",
      "Cell \u001b[0;32mIn[29], line 2\u001b[0m\n\u001b[1;32m      1\u001b[0m solution_legacy, iterations_legacy, success_legacy \u001b[38;5;241m=\u001b[39m newton_nd_solve(random_guess)\n\u001b[0;32m----> 2\u001b[0m solution_modified, iterations_modified, success_modified \u001b[38;5;241m=\u001b[39m \u001b[43mnewton_nd_solve\u001b[49m\u001b[43m(\u001b[49m\u001b[43mrandom_guess\u001b[49m\u001b[43m,\u001b[49m\u001b[43m \u001b[49m\u001b[43mmode\u001b[49m\u001b[38;5;241;43m=\u001b[39;49m\u001b[38;5;124;43m'\u001b[39;49m\u001b[38;5;124;43mmodified\u001b[39;49m\u001b[38;5;124;43m'\u001b[39;49m\u001b[43m)\u001b[49m\n\u001b[1;32m      4\u001b[0m print_solution(\u001b[38;5;124m\"\u001b[39m\u001b[38;5;124mLegacy\u001b[39m\u001b[38;5;124m\"\u001b[39m, solution_legacy, iterations_legacy, success_legacy)\n\u001b[1;32m      5\u001b[0m print_solution(\u001b[38;5;124m\"\u001b[39m\u001b[38;5;124mModified\u001b[39m\u001b[38;5;124m\"\u001b[39m, solution_modified, iterations_modified, success_modified)\n",
      "Cell \u001b[0;32mIn[14], line 85\u001b[0m, in \u001b[0;36mnewton_nd_solve\u001b[0;34m(initial_guess, eps, max_iterations, mode)\u001b[0m\n\u001b[1;32m     82\u001b[0m dFi_dXj(x, deriv, n)   \n\u001b[1;32m     83\u001b[0m B \u001b[38;5;241m=\u001b[39m np\u001b[38;5;241m.\u001b[39marray([[\u001b[38;5;241m-\u001b[39mf[\u001b[38;5;241m0\u001b[39m]], [\u001b[38;5;241m-\u001b[39mf[\u001b[38;5;241m1\u001b[39m]], [\u001b[38;5;241m-\u001b[39mf[\u001b[38;5;241m2\u001b[39m]], [\u001b[38;5;241m-\u001b[39mf[\u001b[38;5;241m3\u001b[39m]], [\u001b[38;5;241m-\u001b[39mf[\u001b[38;5;241m4\u001b[39m]], [\u001b[38;5;241m-\u001b[39mf[\u001b[38;5;241m5\u001b[39m]],\\\n\u001b[1;32m     84\u001b[0m     [\u001b[38;5;241m-\u001b[39mf[\u001b[38;5;241m6\u001b[39m]], [\u001b[38;5;241m-\u001b[39mf[\u001b[38;5;241m7\u001b[39m]], [\u001b[38;5;241m-\u001b[39mf[\u001b[38;5;241m8\u001b[39m]]])      \n\u001b[0;32m---> 85\u001b[0m sol \u001b[38;5;241m=\u001b[39m \u001b[43mnp\u001b[49m\u001b[38;5;241;43m.\u001b[39;49m\u001b[43mlinalg\u001b[49m\u001b[38;5;241;43m.\u001b[39;49m\u001b[43msolve\u001b[49m\u001b[43m(\u001b[49m\u001b[43mderiv\u001b[49m\u001b[43m,\u001b[49m\u001b[43m \u001b[49m\u001b[43mB\u001b[49m\u001b[43m)\u001b[49m\n\u001b[1;32m     86\u001b[0m dx \u001b[38;5;241m=\u001b[39m np\u001b[38;5;241m.\u001b[39mtake(sol, (\u001b[38;5;241m0\u001b[39m, ), \u001b[38;5;241m1\u001b[39m)\u001b[38;5;241m.\u001b[39mflatten()               \u001b[38;5;66;03m# First column of sol\u001b[39;00m\n\u001b[1;32m     87\u001b[0m \u001b[38;5;28;01mfor\u001b[39;00m i \u001b[38;5;129;01min\u001b[39;00m \u001b[38;5;28mrange\u001b[39m(\u001b[38;5;241m0\u001b[39m, n):\n",
      "File \u001b[0;32m~/.local/pipx/venvs/jupyterlab/lib/python3.13/site-packages/numpy/linalg/_linalg.py:413\u001b[0m, in \u001b[0;36msolve\u001b[0;34m(a, b)\u001b[0m\n\u001b[1;32m    410\u001b[0m signature \u001b[38;5;241m=\u001b[39m \u001b[38;5;124m'\u001b[39m\u001b[38;5;124mDD->D\u001b[39m\u001b[38;5;124m'\u001b[39m \u001b[38;5;28;01mif\u001b[39;00m isComplexType(t) \u001b[38;5;28;01melse\u001b[39;00m \u001b[38;5;124m'\u001b[39m\u001b[38;5;124mdd->d\u001b[39m\u001b[38;5;124m'\u001b[39m\n\u001b[1;32m    411\u001b[0m \u001b[38;5;28;01mwith\u001b[39;00m errstate(call\u001b[38;5;241m=\u001b[39m_raise_linalgerror_singular, invalid\u001b[38;5;241m=\u001b[39m\u001b[38;5;124m'\u001b[39m\u001b[38;5;124mcall\u001b[39m\u001b[38;5;124m'\u001b[39m,\n\u001b[1;32m    412\u001b[0m               over\u001b[38;5;241m=\u001b[39m\u001b[38;5;124m'\u001b[39m\u001b[38;5;124mignore\u001b[39m\u001b[38;5;124m'\u001b[39m, divide\u001b[38;5;241m=\u001b[39m\u001b[38;5;124m'\u001b[39m\u001b[38;5;124mignore\u001b[39m\u001b[38;5;124m'\u001b[39m, under\u001b[38;5;241m=\u001b[39m\u001b[38;5;124m'\u001b[39m\u001b[38;5;124mignore\u001b[39m\u001b[38;5;124m'\u001b[39m):\n\u001b[0;32m--> 413\u001b[0m     r \u001b[38;5;241m=\u001b[39m \u001b[43mgufunc\u001b[49m\u001b[43m(\u001b[49m\u001b[43ma\u001b[49m\u001b[43m,\u001b[49m\u001b[43m \u001b[49m\u001b[43mb\u001b[49m\u001b[43m,\u001b[49m\u001b[43m \u001b[49m\u001b[43msignature\u001b[49m\u001b[38;5;241;43m=\u001b[39;49m\u001b[43msignature\u001b[49m\u001b[43m)\u001b[49m\n\u001b[1;32m    415\u001b[0m \u001b[38;5;28;01mreturn\u001b[39;00m wrap(r\u001b[38;5;241m.\u001b[39mastype(result_t, copy\u001b[38;5;241m=\u001b[39m\u001b[38;5;28;01mFalse\u001b[39;00m))\n",
      "File \u001b[0;32m~/.local/pipx/venvs/jupyterlab/lib/python3.13/site-packages/numpy/linalg/_linalg.py:104\u001b[0m, in \u001b[0;36m_raise_linalgerror_singular\u001b[0;34m(err, flag)\u001b[0m\n\u001b[1;32m    103\u001b[0m \u001b[38;5;28;01mdef\u001b[39;00m \u001b[38;5;21m_raise_linalgerror_singular\u001b[39m(err, flag):\n\u001b[0;32m--> 104\u001b[0m     \u001b[38;5;28;01mraise\u001b[39;00m LinAlgError(\u001b[38;5;124m\"\u001b[39m\u001b[38;5;124mSingular matrix\u001b[39m\u001b[38;5;124m\"\u001b[39m)\n",
      "\u001b[0;31mLinAlgError\u001b[0m: Singular matrix"
     ]
    }
   ],
   "source": [
    "solution_legacy, iterations_legacy, success_legacy = newton_nd_solve(random_guess)\n",
    "solution_modified, iterations_modified, success_modified = newton_nd_solve(random_guess, mode='modified')\n",
    "\n",
    "print_solution(\"Legacy\", solution_legacy, iterations_legacy, success_legacy)\n",
    "print_solution(\"Modified\", solution_modified, iterations_modified, success_modified)"
   ]
  },
  {
   "cell_type": "markdown",
   "id": "692032b9-dbc0-409b-af44-7e9881e5d4d3",
   "metadata": {},
   "source": [
    "What im getting is that if the initial guess is not good enough, the jacobian is not invertible\n",
    "and we don't get a solution out of it. Funny since without account for sign change we did get solutions\n",
    "\n",
    "\n",
    "For this to work, or at least dont pop up an error we need to make sure the matrix is invertible\n",
    "then prompt the user to give a better guess if it isn't. Or said it wont converge try another guess"
   ]
  },
  {
   "cell_type": "markdown",
   "id": "9a75c547-7b58-4c76-8880-00496e6dc713",
   "metadata": {},
   "source": [
    "3) ⊙ Solve the similar three-mass problem. The approach is the same, but the number of\n",
    "equations is larger."
   ]
  },
  {
   "cell_type": "code",
   "execution_count": 71,
   "id": "ec7595e4-e2ad-4215-bff7-4e30e77f8e7f",
   "metadata": {},
   "outputs": [],
   "source": [
    "import numpy as np\n",
    "from numpy.linalg import inv  # for inv method\n",
    "\n",
    "def newton_nd_solve(initial_guess, eps=1e-3, max_iterations=100, mode='legacy', masses=3):\n",
    "    \"\"\"\n",
    "    Solves the nonlinear system of equations for the multi-mass, multi-string problem\n",
    "    using Newton's method.\n",
    "\n",
    "    Parameters:\n",
    "    - initial_guess: array-like, initial values for sin(theta_i), cos(theta_i), and tensions\n",
    "    - eps: float, convergence tolerance\n",
    "    - max_iterations: int, maximum number of iterations allowed\n",
    "    - mode: str, 'legacy' for the original method, 'modified' for handling sign constraints\n",
    "    - masses: int, number of masses in the system (supports any N masses)\n",
    "\n",
    "    Returns:\n",
    "    - solution: dictionary containing final values of angles and tensions\n",
    "    - iterations: number of iterations taken to converge\n",
    "    - success: boolean indicating whether the method converged\n",
    "    \"\"\"\n",
    "    n = 3 * (masses + 1)  # Corrected number of unknowns for N masses\n",
    "    deriv = np.zeros((n, n), float)\n",
    "    f = np.zeros(n, float)\n",
    "    x = np.array(initial_guess)\n",
    "\n",
    "    \n",
    "    def F(x, f):\n",
    "        # Force balance equations for each mass\n",
    "\n",
    "        #f[0] = 3*x[3]  +  4*x[4]  +  4*x[5]  -  8.0 2masses \n",
    "        f[0] = 3*x[4] + 4*x[5] + 4*x[6] + 5*x[7] - 8.0\n",
    "        #f[2] = x[6]*x[0]  -  x[7]*x[1]  -  10.0\n",
    "        f[2] = x[8]*x[0] - x[9]*x[1] - 10.0\n",
    "        #f[4] = x[7]*x[1]  +  x[8]*x[2]  -  20.0\n",
    "        f[4] = x[9]*x[1] + x[10]*x[2] - 20.0\n",
    "        f[6] = x[10]*x[2] + x[11]*x[3] - 30.0\n",
    "\n",
    "        #f[1] = 3*x[0]  +  4*x[1]  -  4*x[2]\n",
    "        f[1] = 3*x[0] + 4*x[1] + 5*x[2] - 5*x[3]\n",
    "        #f[3] = x[6]*x[3]  -  x[7]*x[4]\n",
    "        f[3] = x[8]*x[4] - x[9]*x[5]\n",
    "        #f[5] = x[7]*x[4]  -  x[8]*x[5]\n",
    "        f[5] = x[9]*x[5] - x[10]*x[6]\n",
    "        f[7] = x[10]*x[6] - x[11]*x[7]\n",
    "\n",
    "        #2 aditional equations\n",
    "        \n",
    "        # Trigonometric constraints\n",
    "        if mode == 'legacy':\n",
    "            #f[6] = x[0]**2 + x[3]**2 - 1.0 now is 8\n",
    "            f[8] = x[0]**2 + x[4]**2 - 1.0\n",
    "\n",
    "            #f[7] = x[1]**2 + x[4]**2 - 1.0 now is 9\n",
    "            f[9] = x[1]**2 + x[5]**2 - 1.0\n",
    "\n",
    "            #f[8] = x[2]**2 + x[5]**2 - 1.0 now is 10\n",
    "            f[10] = x[2]**2 + x[6]**2 - 1.0\n",
    "\n",
    "            #1 additional eq\n",
    "            f[11] = x[3]**2 + x[7]**2 - 1.0\n",
    "        elif mode == 'modified':\n",
    "            f[8] = x[4] - np.sqrt(max(0, 1 - x[0]**2))\n",
    "            f[9] = x[5] - np.sqrt(max(0, 1 - x[1]**2))\n",
    "            f[10] = x[6] - np.sqrt(max(0, 1 - x[2]**2))\n",
    "            f[11] = x[7] - np.sqrt(max(0, 1 - x[3]**2))\n",
    "        \n",
    "    def dFi_dXj(x, deriv, n):                           # Derivatives\n",
    "        h = 1e-4                                             \n",
    "        for j in range(0, n):\n",
    "             temp = x[j]\n",
    "             x[j] = x[j] +  h/2.\n",
    "             F(x, f)                                                 \n",
    "             for i in range(0, n):  deriv[i, j] = f[i] \n",
    "             x[j] = temp\n",
    "        for j in range(0, n):\n",
    "             temp = x[j]\n",
    "             x[j] = x[j] - h/2.\n",
    "             F(x, f)\n",
    "             for i in range(0, n): deriv[i, j] = (deriv[i, j] - f[i])/h\n",
    "             x[j] = temp\n",
    "             \n",
    "\n",
    "    # Newton-Raphson\n",
    "    for it in range(1, max_iterations + 1):\n",
    "        # rate(1)                            # 1 second between graphs\n",
    "        F(x, f)                              \n",
    "        dFi_dXj(x, deriv, n)   \n",
    "        B = np.array([[-f[i]] for i in range(n)])    \n",
    "        sol = np.linalg.solve(deriv, B)\n",
    "        dx = np.take(sol, (0, ), 1).flatten()               # First column of sol\n",
    "        for i in range(0, n):\n",
    "            x[i]  = x[i]  +  dx[i]\n",
    "            # plotconfig()\n",
    "            errX = errF = errXi = 0.0\n",
    "        for i in range(0, n):\n",
    "            if ( x[i] !=  0.): errXi = abs(dx[i]/x[i])\n",
    "            else:  errXi = abs(dx[i])\n",
    "            if ( errXi > errX): errX = errXi                            \n",
    "            if ( abs(f[i]) > errF ):  errF = abs(f[i])        \n",
    "        if ( (errX <=  eps) and (errF <=  eps) ): break #this line in the code from listing is indented wrong causing to always iterate max times\n",
    "\n",
    "    return {f\"x[{i}]\": x[i] for i in range(n)}, it, (it < max_iterations)\n"
   ]
  },
  {
   "cell_type": "code",
   "execution_count": 72,
   "id": "f8728710-d4e9-423f-a4ff-4beaeeb01e0c",
   "metadata": {},
   "outputs": [],
   "source": [
    "masses = 3"
   ]
  },
  {
   "cell_type": "code",
   "execution_count": 73,
   "id": "b268186b-59da-4af9-aa51-f704f9e5ca92",
   "metadata": {},
   "outputs": [
    {
     "name": "stdout",
     "output_type": "stream",
     "text": [
      "Initial Guess: [0.500000, 0.642788, 0.766044, 0.866025, 0.866025, 0.766044, 0.642788, 0.500000, 10.000000, 10.000000, 10.000000, 10.000000]\n"
     ]
    },
    {
     "data": {
      "text/plain": [
       "12"
      ]
     },
     "execution_count": 73,
     "metadata": {},
     "output_type": "execute_result"
    }
   ],
   "source": [
    "def generate_initial_guess(masses):\n",
    "    angles = np.linspace(np.pi/6, np.pi/3, masses + 1)  # Spread angles between 30° and 60°\n",
    "    initial_guess = []\n",
    "\n",
    "    # sin(theta) and cos(theta) values\n",
    "    for theta in angles:\n",
    "        initial_guess.append(np.sin(theta))  # sin(theta_i)\n",
    "    for theta in angles:\n",
    "        initial_guess.append(np.cos(theta))  # cos(theta_i)\n",
    "\n",
    "    # Tensions: reasonable initial tensions\n",
    "    initial_guess.extend([10.0] * (masses + 1))  # Set all tensions to 10.0\n",
    "\n",
    "    return initial_guess\n",
    "\n",
    "initial_guess = generate_initial_guess(masses)\n",
    "print(\"Initial Guess:\", \"[\" + \", \".join(f\"{x:.6f}\" for x in initial_guess) + \"]\")\n",
    "len(initial_guess)"
   ]
  },
  {
   "cell_type": "code",
   "execution_count": 74,
   "id": "9d785e4b-8798-4f0d-a454-242badb02ad0",
   "metadata": {},
   "outputs": [
    {
     "name": "stdout",
     "output_type": "stream",
     "text": [
      "\n",
      "3 mases Version:\n",
      "  Converged: Yes in 8 iterations\n",
      "  Final Solution:\n",
      "    x[0] = 0.9491672053\n",
      "    x[1] = 0.9055905028\n",
      "    x[2] = -0.3446602539\n",
      "    x[3] = 0.9493124715\n",
      "    x[4] = 0.3167081042\n",
      "    x[5] = 0.4264401825\n",
      "    x[6] = 0.9414536300\n",
      "    x[7] = 0.3156600875\n",
      "    x[8] = 36.0259814125\n",
      "    x[9] = 26.7521923849\n",
      "    x[10] = 11.9290018778\n",
      "    x[11] = 36.0711488677\n"
     ]
    }
   ],
   "source": [
    "solution, iterations, success = newton_nd_solve(initial_guess, masses)\n",
    "print_solution(f\"{masses} mases\", solution, iterations, success)"
   ]
  },
  {
   "cell_type": "markdown",
   "id": "beb1c82e-0afb-4bbf-ba7d-3a6a2ff8d7a3",
   "metadata": {},
   "source": [
    "## Exercise - Landau Section 7.7.2 (Parts 1, 2, 3, 4, 5): Speed up exercises\n",
    "\n",
    "- IMPORTANT: Make clear which work is for each part and add a short description\n",
    "summarizing your observations for each part.\n",
    "- Hint: Working through the examples in 7.7.1 first will help you."
   ]
  },
  {
   "cell_type": "markdown",
   "id": "35394ce4-1948-43c1-9a1c-95ec352d6876",
   "metadata": {},
   "source": [
    "1) Timing an operation"
   ]
  },
  {
   "cell_type": "code",
   "execution_count": 15,
   "id": "067a9715-ae3c-410d-971e-6fc7a5862eef",
   "metadata": {},
   "outputs": [
    {
     "name": "stdout",
     "output_type": "stream",
     "text": [
      "hello\n",
      "4.482269287109375e-05\n"
     ]
    }
   ],
   "source": [
    "import time\n",
    "start = time.time()\n",
    "print(\"hello\" )\n",
    "end = time.time()\n",
    "print(end - start )"
   ]
  },
  {
   "cell_type": "markdown",
   "id": "1c389073-94d4-49c3-80a8-12b037063dfc",
   "metadata": {},
   "source": [
    "In this one we are importing a pkg for run time execution. \n",
    "we record the time at the very beginning \n",
    "then run code, record the time afterwards. Get the diference to see how long it took to run"
   ]
  },
  {
   "cell_type": "markdown",
   "id": "0c75f15e-01d1-4903-b75e-1659ca1f0f74",
   "metadata": {},
   "source": [
    "2) Run the two simple codes listed below, timing how long each takes. Note that although\n",
    "each has the same number of arithmetic operations, one takes significantly more time\n",
    "because it makes large jumps through memory.\n",
    "\n",
    "### Sequential column references\n",
    "\n",
    "``` pseudocode\n",
    "for j = 1, 999999;\n",
    "x(j) = m(1, j) // Sequential column reference\n",
    "```"
   ]
  },
  {
   "cell_type": "code",
   "execution_count": 16,
   "id": "af7e1e17-fe0e-4c62-b46e-c960b175f620",
   "metadata": {},
   "outputs": [],
   "source": [
    "size = 10000  # Adjust based on available memory\n",
    "m = [[0 for _ in range(size)] for _ in range(size)]"
   ]
  },
  {
   "cell_type": "code",
   "execution_count": 17,
   "id": "9028da91-2ee2-4520-b16e-94ae4bd397f7",
   "metadata": {},
   "outputs": [
    {
     "name": "stdout",
     "output_type": "stream",
     "text": [
      "0.0007290840148925781\n"
     ]
    }
   ],
   "source": [
    "import time\n",
    "start = time.time()\n",
    "x = [0] * size\n",
    "\n",
    "for j in range(size):\n",
    "    x = m[0][j] #Sequential column reference\n",
    "\n",
    "end = time.time()\n",
    "\n",
    "print(end - start)"
   ]
  },
  {
   "cell_type": "markdown",
   "id": "1ba75149-dc42-4f44-9787-fea4287cd1a4",
   "metadata": {},
   "source": [
    "### Sequential row references\n",
    "``` pseudocode\n",
    "    for j = 1, 999999;\n",
    "2   x(j) = m(j ,1) // Sequential row reference\n",
    "```"
   ]
  },
  {
   "cell_type": "code",
   "execution_count": 18,
   "id": "6d44692c-d4b6-4833-93b2-907a2dac4bfd",
   "metadata": {},
   "outputs": [
    {
     "name": "stdout",
     "output_type": "stream",
     "text": [
      "0.003002166748046875\n"
     ]
    }
   ],
   "source": [
    "import time\n",
    "start = time.time()\n",
    "x = [0] * size\n",
    "\n",
    "for j in range(size):\n",
    "    x = m[j][0] #Sequential column reference\n",
    "\n",
    "end = time.time()\n",
    "\n",
    "print(end - start)"
   ]
  },
  {
   "cell_type": "markdown",
   "id": "93d5e709-c996-4ed1-b88c-1058c873ccc4",
   "metadata": {},
   "source": [
    "This code is going though a zeros matrix of size x size. And slicing first row then first column and moving through it as it fills a vector with 0 from those parts of the matrix. We can see it takes significantly more time to do this in the comlumn part that in rows by an order of magnitude. At least in my machine"
   ]
  },
  {
   "cell_type": "markdown",
   "id": "636b03b6-78a6-4900-a963-b6e1be007c67",
   "metadata": {},
   "source": [
    "3) Test the effect of stride on your machine by comparing the time it takes to run these two\n",
    "programs. Run for increasing column size `idiom` and compare the times for loop A versus\n",
    "those for loop B. Loop A steps through the matrix vec in column order, while loop B steps\n",
    "through in row order. Both loops take us through all the elements of the matrix, but the\n",
    "stride is different.\n",
    "\n",
    "### Loop A bad (large) stride\n",
    "\n",
    "```pseudocode\n",
    "    Dimension vec(N, M) // Stride 1 fetch (f90)\n",
    "2   for j = 1, M;\n",
    "    for i=1, N; Ansi = Ansi + vec(i , j)∗ vec(i , j)\n",
    "```"
   ]
  },
  {
   "cell_type": "code",
   "execution_count": 19,
   "id": "4c701a57-f8e3-49e2-b607-3c51f3ca0773",
   "metadata": {},
   "outputs": [],
   "source": [
    "import numpy as np\n",
    "import time\n",
    "N, M = 10000, 10000\n",
    "\n",
    "# Create a large matrix filled with random values\n",
    "vec = np.random.rand(N, M)"
   ]
  },
  {
   "cell_type": "code",
   "execution_count": 20,
   "id": "dca43f06-e69a-4dfd-aa0c-3b76f4f2172f",
   "metadata": {},
   "outputs": [
    {
     "name": "stdout",
     "output_type": "stream",
     "text": [
      "35.72884202003479\n"
     ]
    }
   ],
   "source": [
    "start = time.time()\n",
    "\n",
    "# Loop A: Column-wise access (bad stride (step size in memory))\n",
    "Ansi = 0.0\n",
    "for j in range(M):  # Iterate over columns first\n",
    "    for i in range(N):  # Iterate over rows second \n",
    "        Ansi += vec[i, j] * vec[i, j]  \n",
    "\n",
    "end = time.time()\n",
    "\n",
    "print(end - start)"
   ]
  },
  {
   "cell_type": "markdown",
   "id": "df765c68-dbb1-4939-927f-8a877f31360c",
   "metadata": {},
   "source": [
    "### Loop B good (small) stride\n",
    "```pseudocode\n",
    "1   Dimension vec(N, M) // Stride dim fetch (f90)\n",
    "    for i = 1, N;\n",
    "    for j=1, M; Ansi = Ansi + vec(i , j)∗ vec(i , j)\n",
    "```"
   ]
  },
  {
   "cell_type": "code",
   "execution_count": 21,
   "id": "323c5e06-d5cf-46dd-ae3d-d70d8a27cc9c",
   "metadata": {},
   "outputs": [
    {
     "name": "stdout",
     "output_type": "stream",
     "text": [
      "35.74391794204712\n"
     ]
    }
   ],
   "source": [
    "start = time.time()\n",
    "ansi = 0\n",
    "for i in range(N):    # Iterate over rows first\n",
    "    for j in range(M):\n",
    "        ansi += vec[i, j] * vec[i, j]\n",
    "end = time.time()\n",
    "print(end - start)"
   ]
  },
  {
   "cell_type": "code",
   "execution_count": null,
   "id": "5d0f3890-60cd-4e5d-9d0a-5b8065673531",
   "metadata": {},
   "outputs": [],
   "source": []
  }
 ],
 "metadata": {
  "kernelspec": {
   "display_name": "Python 3 (ipykernel)",
   "language": "python",
   "name": "python3"
  },
  "language_info": {
   "codemirror_mode": {
    "name": "ipython",
    "version": 3
   },
   "file_extension": ".py",
   "mimetype": "text/x-python",
   "name": "python",
   "nbconvert_exporter": "python",
   "pygments_lexer": "ipython3",
   "version": "3.13.0"
  }
 },
 "nbformat": 4,
 "nbformat_minor": 5
}
