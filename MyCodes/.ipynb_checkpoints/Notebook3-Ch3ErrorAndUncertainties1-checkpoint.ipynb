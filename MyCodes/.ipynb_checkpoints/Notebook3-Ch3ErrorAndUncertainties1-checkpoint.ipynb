{
 "cells": [
  {
   "cell_type": "markdown",
   "id": "a6cfc331-839e-4481-880e-6548001d3b56",
   "metadata": {},
   "source": [
    "# Lecture 5: Chapter 3 Errors and Uncertainties, Part 1"
   ]
  },
  {
   "cell_type": "markdown",
   "id": "d563a963-4137-499c-8f36-1d2436a7f879",
   "metadata": {},
   "source": [
    "**Exercise A**: For each assigned exercise add the prompt before your solution in a\n",
    "Markdown cell and format the equations with Markup/Latex."
   ]
  },
  {
   "cell_type": "markdown",
   "id": "67c45222-2832-43e4-a593-ed44193a1d70",
   "metadata": {},
   "source": [
    "**Exercise B**: Errors and conditional statements\n",
    "\n",
    " - Try the following, see what happens, modify as suggested until “Success!”\n",
    "\n",
    "``` Python\n",
    "a = 1.1\n",
    "b = 2.2\n",
    "x = a + b # What type of number/variable is x?\n",
    "if (x == 3.3):\n",
    "print( ‘Success!’ )\n",
    "else:\n",
    "print( ‘The value of x is not 3.3. It is ‘, x )\n",
    "print( ‘The difference is %e = ‘%(x) )\n",
    "```\n",
    "\n",
    "- Modify the conditional statement until you find “Success!”\n",
    "- Hint: It is best, with floating point numbers, to avoid == in conditional\n",
    "statements (ints are okay). Better to check that the difference is less than some\n",
    "very small tolerance, ε, or eps. Maybe $eps = 10^{-12}$, for example."
   ]
  },
  {
   "cell_type": "code",
   "execution_count": 10,
   "id": "b257519d-c746-4dd7-af89-a9836b90af66",
   "metadata": {},
   "outputs": [
    {
     "name": "stdout",
     "output_type": "stream",
     "text": [
      "Success!\n"
     ]
    }
   ],
   "source": [
    "a = 1.1\n",
    "b = 2.2\n",
    "x = a + b # What type of number/variable is x? Float\n",
    "#if (x == 3.3):\n",
    "eps = 1E-12           # Define eps to check later\n",
    "if ((x - 3.3) < eps): # Check whether the diff is less than eps\n",
    "    print('Success!')\n",
    "else:\n",
    "    print('The value of x is not 3.3. It is ', x )\n",
    "    print('The difference is %e = '%(x) )"
   ]
  },
  {
   "cell_type": "code",
   "execution_count": 5,
   "id": "e487b934-fcd9-4c66-aba3-0495a301625e",
   "metadata": {},
   "outputs": [
    {
     "data": {
      "text/plain": [
       "float"
      ]
     },
     "execution_count": 5,
     "metadata": {},
     "output_type": "execute_result"
    }
   ],
   "source": [
    "type(x)"
   ]
  },
  {
   "cell_type": "markdown",
   "id": "ce1bb288-e691-40bc-bf25-30beea625300",
   "metadata": {},
   "source": [
    "## 3.1.2 Subtractive Cancelation Exercises"
   ]
  },
  {
   "cell_type": "markdown",
   "id": "d29d2157-a561-4230-9c16-dad0aef83558",
   "metadata": {},
   "source": [
    "### Landau Section 3.1.2, Exercise 1"
   ]
  },
  {
   "cell_type": "markdown",
   "id": "7779b91f-b5a3-48e7-a4e8-48941b00a3fa",
   "metadata": {},
   "source": [
    "1) Remember back in high school when you learned that the quadratic equation\n",
    "    $$\n",
    "    ax^2 +bx+c= 0 \n",
    "    \\tag{3.8}\n",
    "    $$\n",
    "has ananalytic solution that can be written as either\n",
    "    $$ \n",
    "    x_{1,2} = \\frac{-b \\pm \\sqrt{b^2-4ac}}{2a} \n",
    "    \\space\\space\\text{or}\\space\\space\n",
    "    x^{'}_{1,2} = \\frac{-2c}{b \\pm \\sqrt{b^2-4ac}}\n",
    "    \\tag{3.9}\n",
    "    $$\n",
    "\n",
    "Inspection of(3.9) indicates that subtractive cancelation (and consequently an increase\n",
    "in error) arises when $b2 ≫ 4ac$, as then the square root and its preceding term nearly\n",
    "cancel for one of the roots.\n",
    "\n",
    "- a) Write a program that calculates all solutions for arbitrary values of a, b, and c.\n",
    "\n",
    "- b) Investigate how errors in your computed answers become large as the subtractive\n",
    "cancelation increases, and relate this to the known machine precision. Hint: A good\n",
    "test case utilizes $a= 1,b= 1,c= 10−n,n= 1,2,3,…$."
   ]
  },
  {
   "cell_type": "code",
   "execution_count": null,
   "id": "e120aa00-e79e-4b42-8403-d17242996da9",
   "metadata": {},
   "outputs": [],
   "source": []
  },
  {
   "cell_type": "markdown",
   "id": "fc1c7814-2ccb-4b91-8094-4113a2ae9e12",
   "metadata": {},
   "source": [
    "### Landau Section 3.1.2, Exercise 2"
   ]
  },
  {
   "cell_type": "markdown",
   "id": "9f45099a-4eec-40bc-9b7e-60518b9600f8",
   "metadata": {},
   "source": [
    "2) As we have seen, subtractive cancelation occurs when summing a series with alternating\n",
    "signs. As another example, consider the finite sum\n",
    "$$ S^{(1)}_{N}= \\sum_{n=1}^{2N} (-1)^n \\frac{n}{n+1}. \\tag{3.10}$$\n",
    "\n",
    "If you sum the even and odd values of $n$ separately, you get two sums:\n",
    "$$ S^{(2)}_{N}= -\\sum_{n=1}^{N}\\frac{2n - 1}{2n} + \\sum_{n=1}^{N}\\frac{2n}{2n+1}. \\tag{3.11}$$\n",
    "\n",
    "All terms are positive in this form with just a single subtraction at the end of the cal-\n",
    "\n",
    "culation. Yet even this one subtraction and its resulting cancelation can be avoided by\n",
    "combining the series analytically to obtain\n",
    "$$ S^{(3)}_{N}= \\sum_{n=1}^{N}\\frac{1}{2n(2n+1)}. \\tag{3.12}$$\n",
    "\n",
    "Although all three summations $S^{(1)}$ ,$S^{(2)}$, and $S^{(3)}$ are mathematically equal, they may\n",
    "give different numerical results.\n",
    "\n",
    "- 1) Write a double-precision program that calculates $S^{(1)}$ ,$S^{(2)}$, and $S^{(3)}$ .\n",
    "     \n",
    "- 2) Assume $S^{(3)}$ to be the exact answer. Make a log–log plot of the relative error versus the\n",
    "number of terms, that is, of $log_{10}|(S^{(1)}_{N} - S^{(3)}_{N})/S^{(3)}_{N}|$ versus $log_{10}(N)$. Start with $N= 1$\n",
    "and work up to $N = 1,000,000$. (Recall that $log_{10}x = ln x∕ln10$.) The negative of the\n",
    "ordinate in this plot gives an approximate value for the number of significant figures.\n",
    "\n",
    "- 3) See whether straight-line behavior for the error occurs in some regions of your plot.\n",
    "\n",
    "This indicates that the error is proportional to a power of $N$."
   ]
  },
  {
   "cell_type": "code",
   "execution_count": null,
   "id": "3708d2d1-bb3b-4a4d-8b68-97d81fcb6f30",
   "metadata": {},
   "outputs": [],
   "source": []
  },
  {
   "cell_type": "markdown",
   "id": "b1c8d896-c8f2-4e0e-a3a5-d68c371731b9",
   "metadata": {},
   "source": [
    "### Landau Section 3.1.2, Exercise 3"
   ]
  },
  {
   "attachments": {},
   "cell_type": "markdown",
   "id": "a42f3b68-3ac5-4be8-ad82-8ee2d6d830ab",
   "metadata": {},
   "source": [
    "3) Inspite of the power of your trusty computer, calculating the sum of even a simple series\n",
    "may require some thought and care. Consider the two series\n",
    "\n",
    "\n",
    "$$\n",
    "S^{(up)} = \\sum_{n=1}^{N} \\frac{1}{n} \\text{,}S^{(down)} = \\sum_{n=N}^{1} \\frac{1}{n} \\tag{3.13}\n",
    "$$\n",
    "\n",
    "Both series are finite as long as $N$ is finite, and when summed analytically both give the\n",
    "same answer. Nonetheless, because of round-off error, the numerical value of $S^{(up)}$ will\n",
    "not be precisely that of $S^{(down)}$.\n",
    "\n",
    "- a) Write a program to calculate $S^{(up)}$ and $S^{(down)}$ as functions of $N$.\n",
    "- b) Make a log–log plot of $(S^{(up)} − S^{(down)})∕(|S^{(up)}| +|S^{(down)}|)$ versus $N$.\n",
    "- c) Observe the linear regime on your graph and explain why the downward sum is generally more precise."
   ]
  },
  {
   "cell_type": "code",
   "execution_count": null,
   "id": "480f283a-2e61-480d-b303-30ba10d2aa33",
   "metadata": {},
   "outputs": [],
   "source": []
  }
 ],
 "metadata": {
  "kernelspec": {
   "display_name": "Python 3 (ipykernel)",
   "language": "python",
   "name": "python3"
  },
  "language_info": {
   "codemirror_mode": {
    "name": "ipython",
    "version": 3
   },
   "file_extension": ".py",
   "mimetype": "text/x-python",
   "name": "python",
   "nbconvert_exporter": "python",
   "pygments_lexer": "ipython3",
   "version": "3.13.0"
  }
 },
 "nbformat": 4,
 "nbformat_minor": 5
}
