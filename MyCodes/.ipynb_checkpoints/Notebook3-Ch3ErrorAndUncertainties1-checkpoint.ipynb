{
 "cells": [
  {
   "cell_type": "markdown",
   "id": "a6cfc331-839e-4481-880e-6548001d3b56",
   "metadata": {},
   "source": [
    "# Lecture 5: Chapter 3 Errors and Uncertainties, Part 1"
   ]
  },
  {
   "cell_type": "markdown",
   "id": "d563a963-4137-499c-8f36-1d2436a7f879",
   "metadata": {},
   "source": [
    "**Exercise A**: For each assigned exercise add the prompt before your solution in a\n",
    "Markdown cell and format the equations with Markup/Latex."
   ]
  },
  {
   "cell_type": "markdown",
   "id": "67c45222-2832-43e4-a593-ed44193a1d70",
   "metadata": {},
   "source": [
    "**Exercise B**: Errors and conditional statements\n",
    "\n",
    " - Try the following, see what happens, modify as suggested until “Success!”\n",
    "\n",
    "``` Python\n",
    "a = 1.1\n",
    "b = 2.2\n",
    "x = a + b # What type of number/variable is x?\n",
    "if (x == 3.3):\n",
    "print( ‘Success!’ )\n",
    "else:\n",
    "print( ‘The value of x is not 3.3. It is ‘, x )\n",
    "print( ‘The difference is %e = ‘%(x) )\n",
    "```\n",
    "\n",
    "- Modify the conditional statement until you find “Success!”\n",
    "- Hint: It is best, with floating point numbers, to avoid == in conditional\n",
    "statements (ints are okay). Better to check that the difference is less than some\n",
    "very small tolerance, ε, or eps. Maybe $eps = 10**-12$, for example."
   ]
  },
  {
   "cell_type": "code",
   "execution_count": 10,
   "id": "b257519d-c746-4dd7-af89-a9836b90af66",
   "metadata": {},
   "outputs": [
    {
     "name": "stdout",
     "output_type": "stream",
     "text": [
      "Success!\n"
     ]
    }
   ],
   "source": [
    "a = 1.1\n",
    "b = 2.2\n",
    "x = a + b # What type of number/variable is x? Float\n",
    "#if (x == 3.3):\n",
    "eps = 1E-12           # Define eps to check later\n",
    "if ((x - 3.3) < eps): # Check whether the diff is less than eps\n",
    "    print('Success!')\n",
    "else:\n",
    "    print('The value of x is not 3.3. It is ', x )\n",
    "    print('The difference is %e = '%(x) )"
   ]
  },
  {
   "cell_type": "code",
   "execution_count": 5,
   "id": "e487b934-fcd9-4c66-aba3-0495a301625e",
   "metadata": {},
   "outputs": [
    {
     "data": {
      "text/plain": [
       "float"
      ]
     },
     "execution_count": 5,
     "metadata": {},
     "output_type": "execute_result"
    }
   ],
   "source": [
    "type(x)"
   ]
  },
  {
   "cell_type": "markdown",
   "id": "d29d2157-a561-4230-9c16-dad0aef83558",
   "metadata": {},
   "source": [
    "## 3.1.2 Subtractive Cancelation Exercises"
   ]
  },
  {
   "cell_type": "code",
   "execution_count": null,
   "id": "30657bad-e4e9-483f-9082-093e4bd324d6",
   "metadata": {},
   "outputs": [],
   "source": []
  }
 ],
 "metadata": {
  "kernelspec": {
   "display_name": "Python 3 (ipykernel)",
   "language": "python",
   "name": "python3"
  },
  "language_info": {
   "codemirror_mode": {
    "name": "ipython",
    "version": 3
   },
   "file_extension": ".py",
   "mimetype": "text/x-python",
   "name": "python",
   "nbconvert_exporter": "python",
   "pygments_lexer": "ipython3",
   "version": "3.13.0"
  }
 },
 "nbformat": 4,
 "nbformat_minor": 5
}
