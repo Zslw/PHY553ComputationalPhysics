{
 "cells": [
  {
   "cell_type": "code",
   "execution_count": 2,
   "id": "76f8c8ad-affc-46ea-bbc6-2f10a14ee201",
   "metadata": {},
   "outputs": [
    {
     "name": "stdout",
     "output_type": "stream",
     "text": [
      " it = 0  x =  3.5  f(x) = -5.372913374581593\n",
      " it = 1  x =  1.75  f(x) = -2.106492111298984\n",
      " it = 2  x =  0.875  f(x) = 0.4069937163266504\n",
      " it = 3  x =  1.3125  f(x) = -0.8016324662223766\n",
      " it = 4  x =  1.09375  f(x) = -0.1754354562153918\n",
      " it = 5  x =  0.984375  f(x) = 0.12239260297994448\n",
      " it = 6  x =  1.0390625  f(x) = -0.025005422765343566\n",
      " it = 7  x =  1.01171875  f(x) = 0.049090138545859086\n",
      " it = 8  x =  1.025390625  f(x) = 0.012139324014991404\n",
      " it = 9  x =  1.0322265625  f(x) = -0.006409081221774748\n",
      " it = 10  x =  1.02880859375  f(x) = 0.002871147695383547\n",
      " it = 11  x =  1.030517578125  f(x) = -0.0017674644655765182\n",
      " it = 12  x =  1.0296630859375  f(x) = 0.0005522177242860415\n",
      "\n",
      " Root found with precision eps =  0.001\n",
      " Root = 1.0296630859375\n"
     ]
    }
   ],
   "source": [
    "\"\"\" From \"COMPUTATIONAL PHYSICS\" & \"COMPUTER PROBLEMS in PHYSICS\"\n",
    "    by RH Landau, MJ Paez, and CC Bordeianu (deceased)\n",
    "    Copyright R Landau, Oregon State Unv, MJ Paez, Univ Antioquia, \n",
    "    C Bordeianu, Univ Bucharest, 2018. \n",
    "    Please respect copyright & acknowledge our work.\"\"\"\n",
    "\n",
    "# Bisection.py: Matplotlib, 0 of f(x) via Bisection algorithm\n",
    "\n",
    "from numpy import *\n",
    "import math\n",
    "eps = 1e-3;  Nmax = 100;  a = 0.0; b = 7.0     # Precision, [a,b]\n",
    "                          \n",
    "def f(x): return 2*math.cos(x) - x           # Your function here\n",
    "    \n",
    "def Bisection(Xminus, Xplus, Nmax, eps):          # Do not change    \n",
    "   for it in range(0, Nmax):\n",
    "       x = (Xplus +  Xminus)/2.                      \n",
    "       print(\" it =\", it, \" x = \", x, \" f(x) =\", f(x))\n",
    "       if (f(Xplus)*f(x) > 0.): Xplus = x       # Change x+ to x\n",
    "       else: Xminus =  x                        # Change x- to x\n",
    "       if (abs(f(x) ) < eps):                   # Converged?\n",
    "          print(\"\\n Root found with precision eps = \", eps)\n",
    "          break\n",
    "       if it == Nmax-1: print (\"\\n No root after N iterations\\n\")\n",
    "   return x\n",
    "\n",
    "root = Bisection(a, b, Nmax, eps)\n",
    "print(\" Root =\", root)"
   ]
  },
  {
   "cell_type": "code",
   "execution_count": null,
   "id": "3470aa29-dd54-4125-971b-0867f3f5fdf5",
   "metadata": {},
   "outputs": [],
   "source": []
  }
 ],
 "metadata": {
  "kernelspec": {
   "display_name": "Python 3 (ipykernel)",
   "language": "python",
   "name": "python3"
  },
  "language_info": {
   "codemirror_mode": {
    "name": "ipython",
    "version": 3
   },
   "file_extension": ".py",
   "mimetype": "text/x-python",
   "name": "python",
   "nbconvert_exporter": "python",
   "pygments_lexer": "ipython3",
   "version": "3.13.0"
  }
 },
 "nbformat": 4,
 "nbformat_minor": 5
}
