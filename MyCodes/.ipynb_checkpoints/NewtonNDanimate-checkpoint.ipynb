{
 "cells": [
  {
   "cell_type": "code",
   "execution_count": 2,
   "id": "cad5c662-308c-4a3d-8819-b43bc99cff5a",
   "metadata": {},
   "outputs": [
    {
     "data": {
      "text/html": [
       "<div id=\"glowscript\" class=\"glowscript\"></div>"
      ],
      "text/plain": [
       "<IPython.core.display.HTML object>"
      ]
     },
     "metadata": {},
     "output_type": "display_data"
    },
    {
     "data": {
      "application/javascript": [
       "if (typeof Jupyter !== \"undefined\") { window.__context = { glowscript_container: $(\"#glowscript\").removeAttr(\"id\")};}else{ element.textContent = ' ';}"
      ],
      "text/plain": [
       "<IPython.core.display.Javascript object>"
      ]
     },
     "metadata": {},
     "output_type": "display_data"
    },
    {
     "name": "stderr",
     "output_type": "stream",
     "text": [
      "C:\\Users\\chris\\AppData\\Local\\Temp\\ipykernel_2804\\3125452761.py:115: DeprecationWarning: Conversion of an array with ndim > 0 to a scalar is deprecated, and will error in future. Ensure you extract a single element from your array before performing this operation. (Deprecated NumPy 1.25.)\n",
      "  x[i]  = x[i]  +  dx[i]\n"
     ]
    },
    {
     "ename": "KeyboardInterrupt",
     "evalue": "",
     "output_type": "error",
     "traceback": [
      "\u001b[1;31m---------------------------------------------------------------------------\u001b[0m",
      "\u001b[1;31mKeyboardInterrupt\u001b[0m                         Traceback (most recent call last)",
      "Cell \u001b[1;32mIn[2], line 106\u001b[0m\n\u001b[0;32m    103\u001b[0m          x[j] \u001b[38;5;241m=\u001b[39m temp\n\u001b[0;32m    105\u001b[0m \u001b[38;5;28;01mfor\u001b[39;00m it \u001b[38;5;129;01min\u001b[39;00m \u001b[38;5;28mrange\u001b[39m(\u001b[38;5;241m1\u001b[39m, \u001b[38;5;241m100\u001b[39m):\n\u001b[1;32m--> 106\u001b[0m     rate(\u001b[38;5;241m1\u001b[39m)                            \u001b[38;5;66;03m# 1 second between graphs\u001b[39;00m\n\u001b[0;32m    107\u001b[0m     \u001b[38;5;66;03m#rate(100)\u001b[39;00m\n\u001b[0;32m    108\u001b[0m     F(x, f)                              \n",
      "File \u001b[1;32m~\\anaconda3\\Lib\\site-packages\\vpython\\rate_control.py:266\u001b[0m, in \u001b[0;36m_RateKeeper2.__call__\u001b[1;34m(self, N)\u001b[0m\n\u001b[0;32m    264\u001b[0m \u001b[38;5;28mself\u001b[39m\u001b[38;5;241m.\u001b[39mrval \u001b[38;5;241m=\u001b[39m N\n\u001b[0;32m    265\u001b[0m \u001b[38;5;28;01mif\u001b[39;00m \u001b[38;5;28mself\u001b[39m\u001b[38;5;241m.\u001b[39mrval \u001b[38;5;241m<\u001b[39m \u001b[38;5;241m1\u001b[39m: \u001b[38;5;28;01mraise\u001b[39;00m \u001b[38;5;167;01mValueError\u001b[39;00m(\u001b[38;5;124m\"\u001b[39m\u001b[38;5;124mrate value must be greater than or equal to 1\u001b[39m\u001b[38;5;124m\"\u001b[39m)\n\u001b[1;32m--> 266\u001b[0m \u001b[38;5;28msuper\u001b[39m(_RateKeeper2, \u001b[38;5;28mself\u001b[39m)\u001b[38;5;241m.\u001b[39m\u001b[38;5;21m__call__\u001b[39m(\u001b[38;5;28mself\u001b[39m\u001b[38;5;241m.\u001b[39mrval)\n",
      "File \u001b[1;32m~\\anaconda3\\Lib\\site-packages\\vpython\\rate_control.py:214\u001b[0m, in \u001b[0;36mRateKeeper.__call__\u001b[1;34m(self, maxRate)\u001b[0m\n\u001b[0;32m    212\u001b[0m \u001b[38;5;28;01mif\u001b[39;00m \u001b[38;5;28mself\u001b[39m\u001b[38;5;241m.\u001b[39mwhenToRender[\u001b[38;5;28mself\u001b[39m\u001b[38;5;241m.\u001b[39mrenderIndex] \u001b[38;5;241m==\u001b[39m \u001b[38;5;28mself\u001b[39m\u001b[38;5;241m.\u001b[39mrateCount:\n\u001b[0;32m    213\u001b[0m     sleeps \u001b[38;5;241m+\u001b[39m\u001b[38;5;241m=\u001b[39m \u001b[38;5;241m1\u001b[39m\n\u001b[1;32m--> 214\u001b[0m     _sleep(\u001b[38;5;28mself\u001b[39m\u001b[38;5;241m.\u001b[39minteractionPeriod)\n\u001b[0;32m    215\u001b[0m \u001b[38;5;28;01melse\u001b[39;00m:\n\u001b[0;32m    216\u001b[0m     \u001b[38;5;28;01mbreak\u001b[39;00m\n",
      "File \u001b[1;32m~\\anaconda3\\Lib\\site-packages\\vpython\\rate_control.py:62\u001b[0m, in \u001b[0;36m_sleep\u001b[1;34m(dt)\u001b[0m\n\u001b[0;32m     60\u001b[0m dtsleep \u001b[38;5;241m=\u001b[39m nticks\u001b[38;5;241m*\u001b[39m_tick\n\u001b[0;32m     61\u001b[0m t \u001b[38;5;241m=\u001b[39m _clock()\n\u001b[1;32m---> 62\u001b[0m time\u001b[38;5;241m.\u001b[39msleep(dtsleep)\n\u001b[0;32m     63\u001b[0m t \u001b[38;5;241m=\u001b[39m _clock()\u001b[38;5;241m-\u001b[39mt\n\u001b[0;32m     64\u001b[0m dt \u001b[38;5;241m-\u001b[39m\u001b[38;5;241m=\u001b[39m t\n",
      "\u001b[1;31mKeyboardInterrupt\u001b[0m: "
     ]
    }
   ],
   "source": [
    "\"\"\" From \"COMPUTATIONAL PHYSICS\", 3rd Ed, Enlarged Python eTextBook  \n",
    "    by RH Landau, MJ Paez, and CC Bordeianu\n",
    "    Copyright Wiley-VCH Verlag GmbH & Co. KGaA, Berlin;  Copyright R Landau,\n",
    "    Oregon State Unv, MJ Paez, Univ Antioquia, C Bordeianu, Univ Bucharest, 2015.\n",
    "    Support by National Science Foundation\"\"\"\n",
    "\n",
    "# NewtonNDanimate.py:              MultiDimension Newton Search\n",
    "\n",
    "from vpython import *\n",
    "from numpy import zeros, array, take\n",
    "from numpy.linalg import solve\n",
    "\n",
    "canvas()\n",
    "\n",
    "scene = display(x=0,y=0,width=500,height=500,\n",
    "                title='String and masses configuration')\n",
    "tempe = curve(x=range(0,500),color=color.black)\n",
    "\n",
    "n = 9\n",
    "eps = 1e-3\n",
    "deriv = zeros( (n, n), float)\n",
    "f = zeros( (n), float)\n",
    "objects = [] # For keeping track of objects to draw in a list\n",
    "\n",
    "# Initial values for parameters x array\n",
    "#x = array([0.5, 0.5, 0.5, 0.5, 0.5, 0.5, 0.5, 1., 1., 1.])\n",
    "x = array([0.5, 0.5, 0.5, 0.5, 0.5, 0.5, 1., 1., 1.])\n",
    "# x = array([0.5, 0.5, 0.5, 1000.5, 0.5, -100.5, 1., 1., 1.])\n",
    "\n",
    "\n",
    "def plotconfig(it, objects):\n",
    "\n",
    "    for obj in objects:\n",
    "        obj.visible = False                 # Erase previous configuration\n",
    "        del obj\n",
    "        \n",
    "    L1 = 3.0\n",
    "    L2 = 4.0\n",
    "    L3 = 4.0\n",
    "    xa = L1*x[3]                # L1*cos(th1)\n",
    "    ya = L1*x[0]                # L1 sin(th1)\n",
    "    xb = xa+L2*x[4]             # L1*cos(th1)+L2*cos(th2)\n",
    "    yb = ya+L2*x[1]             # L1*sin(th1)+L2*sen(th2)\n",
    "    xc = xb+L3*x[5]             # L1*cos(th1)+L2*cos(th2)+L3*cos(th3)\n",
    "    yc = yb-L3*x[2]             # L1*sin(th1)+L2*sen(th2)-L3*sin(th3)\n",
    "    mx = 100.0                  # for linear coordinate transformation\n",
    "    bx = -500.0                 # from 0=< x =<10\n",
    "    my = -100.0                 # to    -500 =<x_window=>500\n",
    "    by = 400.0                  # same transformation for y\n",
    "                                # to keep aspect ratio\n",
    "    xap = mx*xa+bx\n",
    "    yap = my*ya+by\n",
    "    ball1 = sphere(pos=vector(xap,yap,0), color=color.cyan,radius=15) \n",
    "    \n",
    "    xbp = mx*xb+bx\n",
    "    ybp = my*yb+by\n",
    "    ball2 = sphere(pos=vector(xbp,ybp,0), color=color.cyan,radius=25) \n",
    "    \n",
    "    xcp = mx*xc+bx\n",
    "    ycp = my*yc+by\n",
    "    x0 = mx*0+bx\n",
    "    y0 = my*0+by\n",
    "    line1 = curve(pos=[vector(x0,y0,0),vector(xap,yap,0)], color=color.yellow,radius=4)\n",
    "    line2 = curve(pos=[vector(xap,yap,0),vector(xbp,ybp,0)], color=color.yellow,radius=4)\n",
    "    line3 = curve(pos=[vector(xbp,ybp,0),vector(xcp,ycp,0)], color=color.yellow,radius=4)\n",
    "    topline = curve(pos=[vector(x0,y0,0),vector(xcp,ycp,0)], color=color.red,radius=4)\n",
    "\n",
    "    objects.append(ball1)\n",
    "    objects.append(ball2)\n",
    "    objects.append(line1)\n",
    "    objects.append(line2)\n",
    "    objects.append(line3)\n",
    "    objects.append(topline)\n",
    "    \n",
    "    return objects\n",
    "    \n",
    "\n",
    "\n",
    "def F(x, f):                                       # F function\n",
    "    f[0] = 3*x[3]  +  4*x[4]  +  4*x[5]  -  8.0\n",
    "    f[1] = 3*x[0]  +  4*x[1]  -  4*x[2]\n",
    "    f[2] = x[6]*x[0]  -  x[7]*x[1]  -  10.0\n",
    "    f[3] = x[6]*x[3]  -  x[7]*x[4]\n",
    "    f[4] = x[7]*x[1]  +  x[8]*x[2]  -  20.0\n",
    "    f[5] = x[7]*x[4]  -  x[8]*x[5]\n",
    "    f[6] = pow(x[0], 2)  +  pow(x[3], 2)  -  1.0\n",
    "    f[7] = pow(x[1], 2)  +  pow(x[4], 2)  -  1.0\n",
    "    f[8] = pow(x[2], 2)  +  pow(x[5], 2)  -  1.0\n",
    "    \n",
    "def dFi_dXj(x, deriv, n):                           # Derivatives\n",
    "    h = 1e-4                                             \n",
    "    for j in range(0, n):\n",
    "         temp = x[j]\n",
    "         x[j] = x[j] +  h/2.\n",
    "         F(x, f)                                                 \n",
    "         for i in range(0, n):  deriv[i, j] = f[i] \n",
    "         x[j] = temp\n",
    "    for j in range(0, n):\n",
    "         temp = x[j]\n",
    "         x[j] = x[j] - h/2.\n",
    "         F(x, f)\n",
    "         for i in range(0, n): deriv[i, j] = (deriv[i, j] - f[i])/h\n",
    "         x[j] = temp\n",
    "         \n",
    "for it in range(1, 100):\n",
    "    rate(1)                            # 1 second between graphs\n",
    "    #rate(100)                         # Increase rate number to run faster\n",
    "    F(x, f)                              \n",
    "    dFi_dXj(x, deriv, n)   \n",
    "    B = array([[-f[0]], [-f[1]], [-f[2]], [-f[3]], [-f[4]], [-f[5]],\\\n",
    "        \t[-f[6]], [-f[7]], [-f[8]]])      \n",
    "    sol = solve(deriv, B)\n",
    "    dx = take(sol, (0, ), 1)               # First column of sol\n",
    "    for i in range(0, n):\n",
    "        x[i]  = x[i]  +  dx[i]\n",
    "    \n",
    "    objects = plotconfig(it, objects)\n",
    "    errX = errF = errXi = 0.0\n",
    "    for i in range(0, n):\n",
    "      if ( x[i] !=  0.): \n",
    "          errXi = abs(dx[i]/x[i])\n",
    "      else:  \n",
    "          errXi = abs(dx[i])\n",
    "      if ( errXi > errX): \n",
    "          errX = errXi                            \n",
    "      if ( abs(f[i]) > errF ):  \n",
    "          errF = abs(f[i])        \n",
    "      if ( (errX <=  eps) and (errF <=  eps) ): \n",
    "          break\n",
    "        \n",
    "print('Number of iterations = ', it, \"\\n Final Solution:\")\n",
    "for i in range(0, n):\n",
    "        print('x[', i, '] =  ', x[i])"
   ]
  }
 ],
 "metadata": {
  "kernelspec": {
   "display_name": "Python 3 (ipykernel)",
   "language": "python",
   "name": "python3"
  },
  "language_info": {
   "codemirror_mode": {
    "name": "ipython",
    "version": 3
   },
   "file_extension": ".py",
   "mimetype": "text/x-python",
   "name": "python",
   "nbconvert_exporter": "python",
   "pygments_lexer": "ipython3",
   "version": "3.12.7"
  }
 },
 "nbformat": 4,
 "nbformat_minor": 5
}
