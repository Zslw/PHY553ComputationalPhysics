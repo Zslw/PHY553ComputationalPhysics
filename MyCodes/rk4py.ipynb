{
 "cells": [
  {
   "cell_type": "code",
   "execution_count": 1,
   "id": "945c3d2c-8c0b-4e2f-9a31-92cacebbe75f",
   "metadata": {},
   "outputs": [
    {
     "data": {
      "text/html": [
       "<div id=\"glowscript\" class=\"glowscript\"></div>"
      ],
      "text/plain": [
       "<IPython.core.display.HTML object>"
      ]
     },
     "metadata": {},
     "output_type": "display_data"
    },
    {
     "data": {
      "application/javascript": [
       "if (typeof Jupyter !== \"undefined\") { window.__context = { glowscript_container: $(\"#glowscript\").removeAttr(\"id\")};}else{ element.textContent = ' ';}"
      ],
      "text/plain": [
       "<IPython.core.display.Javascript object>"
      ]
     },
     "metadata": {},
     "output_type": "display_data"
    }
   ],
   "source": [
    "import numpy as np\n",
    "from vpython import graph, gcurve, color, rate  # Updated for modern visualization\n",
    "\n",
    "# Initialization\n",
    "a = 0.0\n",
    "b = 10.0\n",
    "n = 100\n",
    "\n",
    "ydumb = np.zeros(2, float)\n",
    "y = np.zeros(2, float)\n",
    "fReturn = np.zeros(2, float)\n",
    "k1 = np.zeros(2, float)\n",
    "k2 = np.zeros(2, float)\n",
    "k3 = np.zeros(2, float)\n",
    "k4 = np.zeros(2, float)\n",
    "\n",
    "y[0] = 3.0\n",
    "y[1] = -5.0\n",
    "t = a\n",
    "h = (b - a) / n\n",
    "\n",
    "# Force function\n",
    "def f(t, y):\n",
    "    fReturn[0] = y[1]\n",
    "    fReturn[1] = -100.0 * y[0] - 2.0 * y[1] + 10.0 * np.sin(3.0 * t)\n",
    "    return np.copy(fReturn)\n",
    "\n",
    "# Graphs for visualization\n",
    "graph1 = graph(width=400, height=400, title=\"RK4\", xtitle=\"t\", ytitle=\"Y[0]\", xmin=0, xmax=10, ymin=-2, ymax=3)\n",
    "funct1 = gcurve(color=color.yellow)\n",
    "\n",
    "graph2 = graph(width=400, height=400, title=\"RK4\", xtitle=\"t\", ytitle=\"Y[1]\", xmin=0, xmax=10, ymin=-25, ymax=18)\n",
    "funct2 = gcurve(color=color.red)\n",
    "\n",
    "# RK4 function\n",
    "def rk4(t, h, n):\n",
    "    k1 = np.zeros(n)\n",
    "    k2 = np.zeros(n)\n",
    "    k3 = np.zeros(n)\n",
    "    k4 = np.zeros(n)\n",
    "    ydumb = np.zeros(n)\n",
    "\n",
    "    fR = f(t, y)\n",
    "    for i in range(n):\n",
    "        k1[i] = h * fR[i]\n",
    "\n",
    "    for i in range(n):\n",
    "        ydumb[i] = y[i] + k1[i] / 2.0\n",
    "    k2 = h * f(t + h / 2.0, ydumb)\n",
    "\n",
    "    for i in range(n):\n",
    "        ydumb[i] = y[i] + k2[i] / 2.0\n",
    "    k3 = h * f(t + h / 2.0, ydumb)\n",
    "\n",
    "    for i in range(n):\n",
    "        ydumb[i] = y[i] + k3[i]\n",
    "    k4 = h * f(t + h, ydumb)\n",
    "\n",
    "    for i in range(n):\n",
    "        y[i] = y[i] + (k1[i] + 2.0 * (k2[i] + k3[i]) + k4[i]) / 6.0\n",
    "\n",
    "    return y\n",
    "\n",
    "# Time loop\n",
    "while t < b:\n",
    "    if (t + h) > b:\n",
    "        h = b - t\n",
    "    y = rk4(t, h, 2)\n",
    "    t = t + h\n",
    "    rate(30)\n",
    "    funct1.plot(pos=(t, y[0]))\n",
    "    funct2.plot(pos=(t, y[1]))\n"
   ]
  },
  {
   "cell_type": "code",
   "execution_count": null,
   "id": "73fc4b48-a170-49b9-9be6-c9e905e9c429",
   "metadata": {},
   "outputs": [],
   "source": []
  }
 ],
 "metadata": {
  "kernelspec": {
   "display_name": "Python 3 (ipykernel)",
   "language": "python",
   "name": "python3"
  },
  "language_info": {
   "codemirror_mode": {
    "name": "ipython",
    "version": 3
   },
   "file_extension": ".py",
   "mimetype": "text/x-python",
   "name": "python",
   "nbconvert_exporter": "python",
   "pygments_lexer": "ipython3",
   "version": "3.13.0"
  }
 },
 "nbformat": 4,
 "nbformat_minor": 5
}
