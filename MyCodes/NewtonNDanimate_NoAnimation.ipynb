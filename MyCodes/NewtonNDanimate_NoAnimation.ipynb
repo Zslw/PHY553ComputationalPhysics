{
 "cells": [
  {
   "cell_type": "code",
   "execution_count": 1,
   "id": "56d085ae-0295-4b81-a5be-41ee88a4249f",
   "metadata": {},
   "outputs": [
    {
     "data": {
      "text/html": [
       "<div id=\"glowscript\" class=\"glowscript\"></div>"
      ],
      "text/plain": [
       "<IPython.core.display.HTML object>"
      ]
     },
     "metadata": {},
     "output_type": "display_data"
    },
    {
     "data": {
      "application/javascript": [
       "if (typeof Jupyter !== \"undefined\") { window.__context = { glowscript_container: $(\"#glowscript\").removeAttr(\"id\")};}else{ element.textContent = ' ';}"
      ],
      "text/plain": [
       "<IPython.core.display.Javascript object>"
      ]
     },
     "metadata": {},
     "output_type": "display_data"
    },
    {
     "name": "stdout",
     "output_type": "stream",
     "text": [
      "Number of iterations =  99 \n",
      " Final Solution:\n",
      "x[ 0 ] =   0.7610026921018717\n",
      "x[ 1 ] =   0.26495381028070264\n",
      "x[ 2 ] =   0.8357058293571064\n",
      "x[ 3 ] =   0.6487487207029421\n",
      "x[ 4 ] =   0.9642611048972874\n",
      "x[ 5 ] =   0.549177354575506\n",
      "x[ 6 ] =   17.16020978460729\n",
      "x[ 7 ] =   11.545279684327756\n",
      "x[ 8 ] =   20.271578044639117\n"
     ]
    },
    {
     "name": "stderr",
     "output_type": "stream",
     "text": [
      "/var/folders/rq/4gv3g_sn73l94q6vfzvc2g6w0000gn/T/ipykernel_2055/3202813574.py:94: DeprecationWarning: Conversion of an array with ndim > 0 to a scalar is deprecated, and will error in future. Ensure you extract a single element from your array before performing this operation. (Deprecated NumPy 1.25.)\n",
      "  x[i]  = x[i]  +  dx[i]\n"
     ]
    }
   ],
   "source": [
    "\"\"\" From \"COMPUTATIONAL PHYSICS\", 3rd Ed, Enlarged Python eTextBook  \n",
    "    by RH Landau, MJ Paez, and CC Bordeianu\n",
    "    Copyright Wiley-VCH Verlag GmbH & Co. KGaA, Berlin;  Copyright R Landau,\n",
    "    Oregon State Unv, MJ Paez, Univ Antioquia, C Bordeianu, Univ Bucharest, 2015.\n",
    "    Support by National Science Foundation\"\"\"\n",
    "\n",
    "# NewtonNDanimate.py:              MultiDimension Newton Search\n",
    "\n",
    "from vpython import *\n",
    "from numpy import zeros, array, take\n",
    "from numpy.linalg import solve\n",
    "#from visual.graph import *\n",
    "#canvas()\n",
    "\n",
    "scene = display(x=0,y=0,width=500,height=500,\n",
    "                title='String and masses configuration')\n",
    "tempe = curve(x=range(0,500),color=color.black)\n",
    "\n",
    "n = 9\n",
    "eps = 1e-3\n",
    "deriv = zeros( (n, n), float)\n",
    "f = zeros( (n), float)\n",
    "x = array([0.5, 0.5, 0.5, 0.5, 0.5, 0.5, 0.5, 1., 1., 1.])\n",
    "#objects = [] # Keep track of objects in a list\n",
    "\n",
    "'''\n",
    "def plotconfig():\n",
    "    for obj in scene.objects:\n",
    "        obj.visible=0                  # Erase previous configuration\n",
    "    L1 = 3.0\n",
    "    L2 = 4.0\n",
    "    L3 = 4.0\n",
    "    xa = L1*x[3]                # L1*cos(th1)\n",
    "    ya = L1*x[0]                # L1 sin(th1)\n",
    "    xb = xa+L2*x[4]             # L1*cos(th1)+L2*cos(th2)\n",
    "    yb = ya+L2*x[1]             # L1*sin(th1)+L2*sen(th2)\n",
    "    xc = xb+L3*x[5]             # L1*cos(th1)+L2*cos(th2)+L3*cos(th3)\n",
    "    yc = yb-L3*x[2]             # L1*sin(th1)+L2*sen(th2)-L3*sin(th3)\n",
    "    mx = 100.0                  # for linear coordinate transformation\n",
    "    bx = -500.0                 # from 0=< x =<10\n",
    "    my = -100.0                 # to    -500 =<x_window=>500\n",
    "    by = 400.0                  # same transformation for y\n",
    "    xap = mx*xa+bx              # to keep aspect ratio\n",
    "    yap = my*ya+by\n",
    "    ball1 = sphere(pos=(xap,yap), color=color.cyan,radius=15) \n",
    "    xbp = mx*xb+bx\n",
    "    ybp = my*yb+by\n",
    "    ball2 = sphere(pos=(xbp,ybp), color=color.cyan,radius=25) \n",
    "    xcp = mx*xc+bx\n",
    "    ycp = my*yc+by\n",
    "    x0 = mx*0+bx\n",
    "    y0 = my*0+by\n",
    "    line1 = curve(pos=[(x0,y0),(xap,yap)], color=color.yellow,radius=4)\n",
    "    line2 = curve(pos=[(xap,yap),(xbp,ybp)], color=color.yellow,radius=4)\n",
    "    line3 = curve(pos=[(xbp,ybp),(xcp,ycp)], color=color.yellow,radius=4)\n",
    "    topline = curve(pos=[(x0,y0),(xcp,ycp)], color=color.red,radius=4)\n",
    "'''\n",
    "\n",
    "def F(x, f):                                       # F function\n",
    "    f[0] = 3*x[3]  +  4*x[4]  +  4*x[5]  -  8.0\n",
    "    f[1] = 3*x[0]  +  4*x[1]  -  4*x[2]\n",
    "    f[2] = x[6]*x[0]  -  x[7]*x[1]  -  10.0\n",
    "    f[3] = x[6]*x[3]  -  x[7]*x[4]\n",
    "    f[4] = x[7]*x[1]  +  x[8]*x[2]  -  20.0\n",
    "    f[5] = x[7]*x[4]  -  x[8]*x[5]\n",
    "    f[6] = pow(x[0], 2)  +  pow(x[3], 2)  -  1.0\n",
    "    f[7] = pow(x[1], 2)  +  pow(x[4], 2)  -  1.0\n",
    "    f[8] = pow(x[2], 2)  +  pow(x[5], 2)  -  1.0\n",
    "    \n",
    "def dFi_dXj(x, deriv, n):                           # Derivatives\n",
    "    h = 1e-4                                             \n",
    "    for j in range(0, n):\n",
    "         temp = x[j]\n",
    "         x[j] = x[j] +  h/2.\n",
    "         F(x, f)                                                 \n",
    "         for i in range(0, n):  deriv[i, j] = f[i] \n",
    "         x[j] = temp\n",
    "    for j in range(0, n):\n",
    "         temp = x[j]\n",
    "         x[j] = x[j] - h/2.\n",
    "         F(x, f)\n",
    "         for i in range(0, n): deriv[i, j] = (deriv[i, j] - f[i])/h\n",
    "         x[j] = temp\n",
    "         \n",
    "for it in range(1, 100):\n",
    "      # rate(1)                            # 1 second between graphs\n",
    "      F(x, f)                              \n",
    "      dFi_dXj(x, deriv, n)   \n",
    "      B = array([[-f[0]], [-f[1]], [-f[2]], [-f[3]], [-f[4]], [-f[5]],\\\n",
    "\t\t\t[-f[6]], [-f[7]], [-f[8]]])      \n",
    "      sol = solve(deriv, B)\n",
    "      dx = take(sol, (0, ), 1)               # First column of sol\n",
    "      for i in range(0, n):\n",
    "        x[i]  = x[i]  +  dx[i]\n",
    "      # plotconfig()\n",
    "      errX = errF = errXi = 0.0\n",
    "      for i in range(0, n):\n",
    "        if ( x[i] !=  0.): errXi = abs(dx[i]/x[i])\n",
    "        else:  errXi = abs(dx[i])\n",
    "        if ( errXi > errX): errX = errXi                            \n",
    "        if ( abs(f[i]) > errF ):  errF = abs(f[i])        \n",
    "        if ( (errX <=  eps) and (errF <=  eps) ): break\n",
    "        \n",
    "print('Number of iterations = ', it, \"\\n Final Solution:\")\n",
    "for i in range(0, n):\n",
    "        print('x[', i, '] =  ', x[i])"
   ]
  },
  {
   "cell_type": "code",
   "execution_count": null,
   "id": "b77a39f9-e9ad-4e03-a315-3aa81de2b567",
   "metadata": {},
   "outputs": [],
   "source": []
  }
 ],
 "metadata": {
  "kernelspec": {
   "display_name": "Python 3 (ipykernel)",
   "language": "python",
   "name": "python3"
  },
  "language_info": {
   "codemirror_mode": {
    "name": "ipython",
    "version": 3
   },
   "file_extension": ".py",
   "mimetype": "text/x-python",
   "name": "python",
   "nbconvert_exporter": "python",
   "pygments_lexer": "ipython3",
   "version": "3.13.0"
  }
 },
 "nbformat": 4,
 "nbformat_minor": 5
}
