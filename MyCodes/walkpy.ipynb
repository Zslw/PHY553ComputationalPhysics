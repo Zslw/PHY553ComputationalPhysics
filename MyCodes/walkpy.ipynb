{
 "cells": [
  {
   "cell_type": "code",
   "execution_count": 1,
   "id": "0be00ae6-f1ab-4fb9-b6d6-588c98ec6066",
   "metadata": {},
   "outputs": [
    {
     "data": {
      "text/html": [
       "<div id=\"glowscript\" class=\"glowscript\"></div>"
      ],
      "text/plain": [
       "<IPython.core.display.HTML object>"
      ]
     },
     "metadata": {},
     "output_type": "display_data"
    },
    {
     "data": {
      "application/javascript": [
       "if (typeof Jupyter !== \"undefined\") { window.__context = { glowscript_container: $(\"#glowscript\").removeAttr(\"id\")};}else{ element.textContent = ' ';}"
      ],
      "text/plain": [
       "<IPython.core.display.Javascript object>"
      ]
     },
     "metadata": {},
     "output_type": "display_data"
    }
   ],
   "source": [
    "\"\"\" From \"COMPUTATIONAL PHYSICS\" & \"COMPUTER PROBLEMS in PHYSICS\"\n",
    "    by RH Landau, MJ Paez, and CC Bordeianu (deceased)\n",
    "    Copyright R Landau, Oregon State Unv, MJ Paez, Univ Antioquia, \n",
    "    C Bordeianu, Univ Bucharest, 2018. \n",
    "    Please respect copyright & acknowledge our work.\"\"\"\n",
    "\n",
    "# Walk.py  Random walk with graph\n",
    "\n",
    "from vpython import *  \n",
    "import random\n",
    "\n",
    "random.seed(None)                  # None => system clock\n",
    "jmax = 20\n",
    "x    = 0.;          y = 0.              # Start at origin\n",
    "\n",
    "graph1 = graph(width=300, height=300, title='Random Walk', \n",
    "\txtitle='x', ytitle='y')\n",
    "pts = gcurve(color = color.blue)  \n",
    "\n",
    "for i in range(0, jmax + 1):\n",
    "    pts.plot(pos = (x, y) )                   # Plot points\n",
    "    x += (random.random() - 0.5)*2.          # -1 =< x =< 1\n",
    "    y += (random.random() - 0.5)*2.          # -1 =< y =< 1\n",
    "    pts.plot(pos = (x, y))\n",
    "    rate(100)"
   ]
  },
  {
   "cell_type": "code",
   "execution_count": null,
   "id": "8de19fff-b976-4243-afaa-43be8ebe1252",
   "metadata": {},
   "outputs": [],
   "source": []
  }
 ],
 "metadata": {
  "kernelspec": {
   "display_name": "Python 3 (ipykernel)",
   "language": "python",
   "name": "python3"
  },
  "language_info": {
   "codemirror_mode": {
    "name": "ipython",
    "version": 3
   },
   "file_extension": ".py",
   "mimetype": "text/x-python",
   "name": "python",
   "nbconvert_exporter": "python",
   "pygments_lexer": "ipython3",
   "version": "3.13.0"
  }
 },
 "nbformat": 4,
 "nbformat_minor": 5
}
