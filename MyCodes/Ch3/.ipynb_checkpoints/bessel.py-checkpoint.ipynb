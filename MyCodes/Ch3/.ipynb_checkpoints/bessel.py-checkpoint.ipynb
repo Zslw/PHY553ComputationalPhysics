{
 "cells": [
  {
   "cell_type": "code",
   "execution_count": 1,
   "id": "a880f20c-6a4a-44e2-9bd4-be4940333fac",
   "metadata": {},
   "outputs": [
    {
     "data": {
      "text/html": [
       "<div id=\"glowscript\" class=\"glowscript\"></div>"
      ],
      "text/plain": [
       "<IPython.core.display.HTML object>"
      ]
     },
     "metadata": {},
     "output_type": "display_data"
    },
    {
     "data": {
      "application/javascript": [
       "if (typeof Jupyter !== \"undefined\") { window.__context = { glowscript_container: $(\"#glowscript\").removeAttr(\"id\")};}else{ element.textContent = ' ';}"
      ],
      "text/plain": [
       "<IPython.core.display.Javascript object>"
      ]
     },
     "metadata": {},
     "output_type": "display_data"
    }
   ],
   "source": [
    "# -*- coding: utf-8 -*-\n",
    "\"\"\" From \"COMPUTATIONAL PHYSICS\" & \"COMPUTER PROBLEMS in PHYSICS\"\n",
    "    by RH Landau, MJ Paez, and CC Bordeianu (deceased)\n",
    "    Copyright R Landau, Oregon State Unv, MJ Paez, Univ Antioquia, \n",
    "    C Bordeianu, Univ Bucharest, 2020. \n",
    "    Please respect copyright & acknowledge our work.\"\"\"\n",
    "\n",
    "# Bessel.py Spherical Bessel function by recursion\n",
    "\n",
    "from vpython import *\n",
    "import numpy as np\n",
    "Xmax = 40.\n",
    "Xmin = 0.25\n",
    "step = 0.1                                       # Global class variables\n",
    "order = 10; start = 50        # Plot j_order\n",
    "graph1 = graph(width = 500, height = 500, title = 'Sperical Bessel',        \n",
    "    xtitle = 'x', ytitle = 'j(x)', xmin=Xmin,xmax=Xmax,ymin=-0.2,ymax=0.5)    #removed L = 1 (red), 10', \n",
    "funct1 = gcurve(color=color.red)\n",
    "funct2 = gcurve(color=color.green)\n",
    "\n",
    "def down (x, n, m):                        # Method down, recurs downward\n",
    "     j = np.zeros( (start  +  2), float)\n",
    "     j[m  +  1] = j[m] = 1.                         # Start with anything\n",
    "     for k in range(m, 0,  - 1):\n",
    "         j[k - 1] = ( (2.*k + 1.)/x)*j[k]  -  j[k + 1]\n",
    "     scale = (sin(x)/x)/j[0]               # Scale solution to known j[0]\n",
    "     return j[n] * scale\n",
    "\n",
    "for x in arange(Xmin, Xmax, step):\n",
    "    funct1.plot(pos = (x, down(x, order, start)))\n",
    "    \n",
    "for x in arange(Xmin, Xmax, step):\n",
    "    funct2.plot(pos = (x, down(x,1,start)))"
   ]
  },
  {
   "cell_type": "code",
   "execution_count": null,
   "id": "9ca829c9-ad40-4273-a7cf-bc15d3709980",
   "metadata": {},
   "outputs": [],
   "source": []
  }
 ],
 "metadata": {
  "kernelspec": {
   "display_name": "Python 3 (ipykernel)",
   "language": "python",
   "name": "python3"
  },
  "language_info": {
   "codemirror_mode": {
    "name": "ipython",
    "version": 3
   },
   "file_extension": ".py",
   "mimetype": "text/x-python",
   "name": "python",
   "nbconvert_exporter": "python",
   "pygments_lexer": "ipython3",
   "version": "3.13.0"
  }
 },
 "nbformat": 4,
 "nbformat_minor": 5
}
