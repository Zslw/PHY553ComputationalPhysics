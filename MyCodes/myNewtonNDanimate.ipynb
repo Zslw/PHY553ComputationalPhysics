{
 "cells": [
  {
   "cell_type": "code",
   "execution_count": 2,
   "id": "c2315f33-3df4-4fff-91f1-af6cd7eea624",
   "metadata": {},
   "outputs": [
    {
     "data": {
      "text/html": [
       "<div id=\"glowscript\" class=\"glowscript\"></div>"
      ],
      "text/plain": [
       "<IPython.core.display.HTML object>"
      ]
     },
     "metadata": {},
     "output_type": "display_data"
    },
    {
     "data": {
      "application/javascript": [
       "if (typeof Jupyter !== \"undefined\") { window.__context = { glowscript_container: $(\"#glowscript\").removeAttr(\"id\")};}else{ element.textContent = ' ';}"
      ],
      "text/plain": [
       "<IPython.core.display.Javascript object>"
      ]
     },
     "metadata": {},
     "output_type": "display_data"
    },
    {
     "name": "stdout",
     "output_type": "stream",
     "text": [
      "Number of iterations = 8\n",
      "Final Solution:\n",
      "x[0] = 0.7610026921027666\n",
      "x[1] = 0.2649538102803502\n",
      "x[2] = 0.8357058293574252\n",
      "x[3] = 0.6487487207025591\n",
      "x[4] = 0.9642611048975938\n",
      "x[5] = 0.5491773545754871\n",
      "x[6] = 17.16020978460789\n",
      "x[7] = 11.545279684340569\n",
      "x[8] = 20.271578044634516\n"
     ]
    }
   ],
   "source": [
    "from vpython import *\n",
    "from numpy.linalg import solve\n",
    "import numpy as np\n",
    "\n",
    "scene = canvas(width=500, height=500, title='String and masses configuration')\n",
    "\n",
    "def plotconfig():\n",
    "    scene.delete()  # Clear previous objects\n",
    "    L1, L2, L3 = 3.0, 4.0, 4.0\n",
    "    xa, ya = L1 * x[3], L1 * x[0]\n",
    "    xb, yb = xa + L2 * x[4], ya + L2 * x[1]\n",
    "    xc, yc = xb + L3 * x[5], yb - L3 * x[2]\n",
    "    mx, bx, my, by = 100.0, -500.0, -100.0, 400.0\n",
    "    xap, yap = mx * xa + bx, my * ya + by\n",
    "    xbp, ybp = mx * xb + bx, my * yb + by\n",
    "    xcp, ycp = mx * xc + bx, my * yc + by\n",
    "    x0, y0 = mx * 0 + bx, my * 0 + by\n",
    "    \n",
    "    sphere(pos=vector(xap, yap, 0), color=color.cyan, radius=15)\n",
    "    sphere(pos=vector(xbp, ybp, 0), color=color.cyan, radius=25)\n",
    "    curve(pos=[vector(x0, y0, 0), vector(xap, yap, 0)], color=color.yellow, radius=4)\n",
    "    curve(pos=[vector(xap, yap, 0), vector(xbp, ybp, 0)], color=color.yellow, radius=4)\n",
    "    curve(pos=[vector(xbp, ybp, 0), vector(xcp, ycp, 0)], color=color.yellow, radius=4)\n",
    "    curve(pos=[vector(x0, y0, 0), vector(xcp, ycp, 0)], color=color.red, radius=4)\n",
    "\n",
    "n = 9\n",
    "eps = 1e-3\n",
    "x = np.array([0.5] * 6 + [1.0, 1.0, 1.0])  # Ensure correct size (9 elements)\n",
    "f = np.zeros(n)\n",
    "deriv = np.zeros((n, n))\n",
    "\n",
    "def F(x, f):\n",
    "    f[0] = 3*x[3] + 4*x[4] + 4*x[5] - 8.0\n",
    "    f[1] = 3*x[0] + 4*x[1] - 4*x[2]\n",
    "    f[2] = x[6]*x[0] - x[7]*x[1] - 10.0\n",
    "    f[3] = x[6]*x[3] - x[7]*x[4]\n",
    "    f[4] = x[7]*x[1] + x[8]*x[2] - 20.0\n",
    "    f[5] = x[7]*x[4] - x[8]*x[5]\n",
    "    f[6] = x[0]**2 + x[3]**2 - 1.0\n",
    "    f[7] = x[1]**2 + x[4]**2 - 1.0\n",
    "    f[8] = x[2]**2 + x[5]**2 - 1.0\n",
    "\n",
    "def dFi_dXj(x, deriv, n):\n",
    "    h = 1e-4\n",
    "    for j in range(n):\n",
    "        temp = x[j]\n",
    "        x[j] += h/2.0\n",
    "        F(x, f)\n",
    "        deriv[:, j] = f[:]\n",
    "        x[j] = temp\n",
    "    for j in range(n):\n",
    "        temp = x[j]\n",
    "        x[j] -= h/2.0\n",
    "        F(x, f)\n",
    "        deriv[:, j] = (deriv[:, j] - f[:]) / h\n",
    "        x[j] = temp\n",
    "\n",
    "for it in range(1, 100):\n",
    "    rate(1)  # Slows down animation\n",
    "    F(x, f)\n",
    "    dFi_dXj(x, deriv, n)\n",
    "    B = np.array([[-f[i]] for i in range(n)])\n",
    "    dx = solve(deriv, B).flatten()\n",
    "    x[:n] += dx  # Ensure correct array size\n",
    "    plotconfig()\n",
    "    \n",
    "    errX, errF = max(abs(dx / np.where(x[:n] != 0, x[:n], 1))), max(abs(f))\n",
    "    if errX <= eps and errF <= eps:\n",
    "        break\n",
    "\n",
    "print(f'Number of iterations = {it}\\nFinal Solution:')\n",
    "for i in range(n):\n",
    "    print(f'x[{i}] = {x[i]}')\n"
   ]
  },
  {
   "cell_type": "code",
   "execution_count": null,
   "id": "0d29c895-ae1a-44a5-a238-2d233fda4f64",
   "metadata": {},
   "outputs": [],
   "source": []
  }
 ],
 "metadata": {
  "kernelspec": {
   "display_name": "Python 3 (ipykernel)",
   "language": "python",
   "name": "python3"
  },
  "language_info": {
   "codemirror_mode": {
    "name": "ipython",
    "version": 3
   },
   "file_extension": ".py",
   "mimetype": "text/x-python",
   "name": "python",
   "nbconvert_exporter": "python",
   "pygments_lexer": "ipython3",
   "version": "3.13.0"
  }
 },
 "nbformat": 4,
 "nbformat_minor": 5
}
