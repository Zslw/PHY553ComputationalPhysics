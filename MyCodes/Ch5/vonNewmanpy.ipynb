{
 "cells": [
  {
   "cell_type": "code",
   "execution_count": 5,
   "id": "10e206de-dfd5-4a26-98a8-32a7388bbcd2",
   "metadata": {},
   "outputs": [
    {
     "data": {
      "text/html": [
       "<div id=\"glowscript\" class=\"glowscript\"></div>"
      ],
      "text/plain": [
       "<IPython.core.display.HTML object>"
      ]
     },
     "metadata": {},
     "output_type": "display_data"
    },
    {
     "data": {
      "application/javascript": [
       "if (typeof Jupyter !== \"undefined\") { window.__context = { glowscript_container: $(\"#glowscript\").removeAttr(\"id\")};}else{ element.textContent = ' ';}"
      ],
      "text/plain": [
       "<IPython.core.display.Javascript object>"
      ]
     },
     "metadata": {},
     "output_type": "display_data"
    },
    {
     "ename": "AttributeError",
     "evalue": "'builtin_function_or_method' object has no attribute 'uniform'",
     "output_type": "error",
     "traceback": [
      "\u001b[0;31m---------------------------------------------------------------------------\u001b[0m",
      "\u001b[0;31mAttributeError\u001b[0m                            Traceback (most recent call last)",
      "Cell \u001b[0;32mIn[5], line 51\u001b[0m\n\u001b[1;32m     49\u001b[0m \u001b[38;5;28;01mfor\u001b[39;00m i \u001b[38;5;129;01min\u001b[39;00m \u001b[38;5;28mrange\u001b[39m(\u001b[38;5;241m1\u001b[39m, Npts):  \u001b[38;5;66;03m# Points inside the box\u001b[39;00m\n\u001b[1;32m     50\u001b[0m     rate(\u001b[38;5;241m500\u001b[39m)  \u001b[38;5;66;03m# Slow process for visualization\u001b[39;00m\n\u001b[0;32m---> 51\u001b[0m     x \u001b[38;5;241m=\u001b[39m \u001b[38;5;241m2.0\u001b[39m \u001b[38;5;241m*\u001b[39m pi \u001b[38;5;241m*\u001b[39m \u001b[43mrandom\u001b[49m\u001b[38;5;241;43m.\u001b[39;49m\u001b[43muniform\u001b[49m(\u001b[38;5;241m0\u001b[39m, \u001b[38;5;241m1\u001b[39m)\n\u001b[1;32m     52\u001b[0m     y \u001b[38;5;241m=\u001b[39m \u001b[38;5;241m5\u001b[39m \u001b[38;5;241m*\u001b[39m random\u001b[38;5;241m.\u001b[39muniform(\u001b[38;5;241m0\u001b[39m, \u001b[38;5;241m1\u001b[39m)\n\u001b[1;32m     53\u001b[0m     xp \u001b[38;5;241m=\u001b[39m x \u001b[38;5;241m*\u001b[39m \u001b[38;5;241m80.0\u001b[39m \u001b[38;5;241m/\u001b[39m pi \u001b[38;5;241m-\u001b[39m \u001b[38;5;241m80\u001b[39m\n",
      "\u001b[0;31mAttributeError\u001b[0m: 'builtin_function_or_method' object has no attribute 'uniform'"
     ]
    }
   ],
   "source": [
    "import random\n",
    "from vpython import *\n",
    "\n",
    "N = 100  # Points to plot the function\n",
    "graph = canvas(width=500, height=500, title='vonNeumann Rejection Int')\n",
    "\n",
    "# Initialize the function curve\n",
    "xsinx = curve(color=color.yellow, radius=0.5)\n",
    "\n",
    "# Labels\n",
    "pts = label(pos=vector(-60, -60, 0), text='points=', box=False)\n",
    "pts2 = label(pos=vector(-30, -60, 0), box=False)\n",
    "inside = label(pos=vector(30, -60, 0), text='accepted=', box=False)\n",
    "inside2 = label(pos=vector(60, -60, 0), box=False)\n",
    "arealbl = label(pos=vector(-65, 60, 0), text='area=', box=False)\n",
    "arealbl2 = label(pos=vector(-35, 60, 0), box=False)\n",
    "areanal = label(pos=vector(30, 60, 0), text='analytical=', box=False)\n",
    "zero = label(pos=vector(-85, -48, 0), text='0', box=False)\n",
    "five = label(pos=vector(-85, 50, 0), text='5', box=False)\n",
    "twopi = label(pos=vector(90, -48, 0), text='2pi', box=False)\n",
    "\n",
    "# Function definition\n",
    "def fx(x):\n",
    "    return x * sin(x) * sin(x)  # Integrand\n",
    "\n",
    "# Function plot\n",
    "def plotfunc():\n",
    "    incr = 2.0 * pi / N\n",
    "    for i in range(N):\n",
    "        xx = i * incr\n",
    "        xsinx.append(pos=vector((80.0 / pi) * xx - 80, 20 * fx(xx) - 50, 0))\n",
    "\n",
    "    # Box outline\n",
    "    curve(pos=[\n",
    "        vector(-80, -50, 0), vector(-80, 50, 0),\n",
    "        vector(80, 50, 0), vector(80, -50, 0),\n",
    "        vector(-80, -50, 0)\n",
    "    ], color=color.white)\n",
    "\n",
    "plotfunc()  # Plot function\n",
    "\n",
    "# Monte Carlo Simulation\n",
    "j = 0\n",
    "Npts = 3001  # Number of points\n",
    "analyt = (pi)**2  # Analytical integral\n",
    "areanal.text = 'analytical=%8.5f' % analyt\n",
    "genpts = []\n",
    "\n",
    "for i in range(1, Npts):  # Points inside the box\n",
    "    rate(500)  # Slow process for visualization\n",
    "    x = 2.0 * pi * random.uniform(0, 1)\n",
    "    y = 5 * random.uniform(0, 1)\n",
    "    xp = x * 80.0 / pi - 80\n",
    "    yp = 20.0 * y - 50\n",
    "    pts2.text = '%4s' % i\n",
    "\n",
    "    if y <= fx(x):  # Below the curve\n",
    "        j += 1\n",
    "        genpts.append(points(pos=[vector(xp, yp, 0)], color=color.cyan, radius=2))\n",
    "        inside2.text = '%4s' % j\n",
    "    else:\n",
    "        genpts.append(points(pos=[vector(xp, yp, 0)], color=color.green, radius=2))\n",
    "\n",
    "    boxarea = 2.0 * pi * 5.0\n",
    "    area = boxarea * j / (Npts - 1)\n",
    "    arealbl2.text = '%8.5f' % area\n"
   ]
  },
  {
   "cell_type": "code",
   "execution_count": null,
   "id": "1d233c7f-15c5-421a-9a96-dbc9f689a634",
   "metadata": {},
   "outputs": [],
   "source": [
    "import random\n",
    "print(random.random())"
   ]
  },
  {
   "cell_type": "code",
   "execution_count": null,
   "id": "81cedb8a-6c09-4e73-a332-d126132dd927",
   "metadata": {},
   "outputs": [],
   "source": [
    "x = 2.0 * pi * random.random()\n",
    "y = 5 * random.random()\n",
    "x,y"
   ]
  },
  {
   "cell_type": "code",
   "execution_count": null,
   "id": "b5a9fec6-3577-4092-b41a-71084d98125e",
   "metadata": {},
   "outputs": [],
   "source": []
  }
 ],
 "metadata": {
  "kernelspec": {
   "display_name": "Python 3 (ipykernel)",
   "language": "python",
   "name": "python3"
  },
  "language_info": {
   "codemirror_mode": {
    "name": "ipython",
    "version": 3
   },
   "file_extension": ".py",
   "mimetype": "text/x-python",
   "name": "python",
   "nbconvert_exporter": "python",
   "pygments_lexer": "ipython3",
   "version": "3.13.0"
  }
 },
 "nbformat": 4,
 "nbformat_minor": 5
}
