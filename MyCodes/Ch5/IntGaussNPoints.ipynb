{
 "cells": [
  {
   "cell_type": "code",
   "execution_count": 2,
   "id": "4222f6fc-5e41-413a-a70b-b4d6fa5c68ae",
   "metadata": {},
   "outputs": [],
   "source": [
    "\"\"\" From \"COMPUTATIONAL PHYSICS\" & \"COMPUTER PROBLEMS in PHYSICS\"\n",
    "    by RH Landau, MJ Paez, and CC Bordeianu (deceased)\n",
    "    Copyright R Landau, Oregon State Unv, MJ Paez, Univ Antioquia, \n",
    "    C Bordeianu, Univ Bucharest, 2018. \n",
    "    Please respect copyright & acknowledge our work.\"\"\"\n",
    "\n",
    "# GaussPoints.py: N point Gaussian quadrature pts & Wts generation\n",
    "\n",
    "import math\n",
    "from numpy import *\n",
    "\n",
    "def GaussPoints(Npts, a, b, x, w, eps):\n",
    "    m = 0; i = 0; j = 0; t = 0.; t1 = 0.; pp = 0.\n",
    "    p1 = 0.; p2 = 0.; p3 = 0.  \n",
    "    m = int((Npts+1)/2)\n",
    "    for i in range(1, m+1):\n",
    "        t = math.cos(math.pi*(float(i)-0.25)/(float(Npts)+0.5))\n",
    "        t1 = 1 \n",
    "        while((abs(t-t1)) >=  eps):\n",
    "            p1 = 1. ;  p2 = 0.  \n",
    "            for j in range(1, Npts + 1):\n",
    "                p3 = p2;   p2 = p1 \n",
    "                p1 = ((2.*float(j)-1)*t*p2 - (float(j)-1.)*p3)/(float(j))\n",
    "            pp = Npts*(t*p1 - p2)/(t*t - 1.) \n",
    "            t1 = t\n",
    "            t = t1 - p1/pp\n",
    "        x[i-1] =  -t\n",
    "        x[Npts-i] = t \n",
    "        w[i-1] = 2./( (1.-t*t)*pp*pp) \n",
    "        w[Npts-i] = w[i-1]\n",
    "        \n",
    "    for j in range(0, Npts):               # Scale [-1,+1] to [a,b]\n",
    "            x[j] = x[j]*(b-a)/2. + (b+a)/2. \n",
    "            w[j] = w[j]*(b-a)/2. "
   ]
  },
  {
   "cell_type": "code",
   "execution_count": 4,
   "id": "4afdf51e-d5b4-4d62-908e-2346a5ac1bd3",
   "metadata": {},
   "outputs": [
    {
     "name": "stdout",
     "output_type": "stream",
     "text": [
      "\n",
      " Npts = 10 ,   Ans = 1.7182818284590295\n",
      " eps = 3e-14 , Error = -1.554312234475219e-14\n"
     ]
    }
   ],
   "source": [
    "\"\"\" From \"COMPUTATIONAL PHYSICS\" & \"COMPUTER PROBLEMS in PHYSICS\"\n",
    "    by RH Landau, MJ Paez, and CC Bordeianu (deceased)\n",
    "    Copyright R Landau, Oregon State Unv, MJ Paez, Univ Antioquia, \n",
    "    C Bordeianu, Univ Bucharest, 2018. \n",
    "    Please respect copyright & acknowledge our work.\"\"\"\n",
    "\n",
    "# IntegGaussCall.py: N point Gaussian quadrature \\int[a,b] f(x)dx\n",
    " \n",
    "from numpy import *\n",
    "\n",
    "Npts = 10; Ans = 0;  a = 0.;  b = 1.;  eps = 3.E-14\n",
    "w = zeros(2001, float);  x = zeros(2001, float)       # Arrays\n",
    "\n",
    "def f(x):  return exp(x)                           # Integrand \n",
    "\n",
    "GaussPoints(Npts, a, b, x, w, eps)      #  eps: precison of pts  \n",
    "for i in  range(0,Npts): Ans += f(x[i])*w[i]   # Sum integrands\n",
    "print ('\\n Npts =', Npts, ',   Ans =', Ans)\n",
    "print (' eps =',eps, ', Error =', Ans-(exp(1)-1) )"
   ]
  },
  {
   "cell_type": "code",
   "execution_count": null,
   "id": "64c7a505-312d-4749-a94f-5bb7dc1678db",
   "metadata": {},
   "outputs": [],
   "source": []
  }
 ],
 "metadata": {
  "kernelspec": {
   "display_name": "Python 3 (ipykernel)",
   "language": "python",
   "name": "python3"
  },
  "language_info": {
   "codemirror_mode": {
    "name": "ipython",
    "version": 3
   },
   "file_extension": ".py",
   "mimetype": "text/x-python",
   "name": "python",
   "nbconvert_exporter": "python",
   "pygments_lexer": "ipython3",
   "version": "3.13.0"
  }
 },
 "nbformat": 4,
 "nbformat_minor": 5
}
