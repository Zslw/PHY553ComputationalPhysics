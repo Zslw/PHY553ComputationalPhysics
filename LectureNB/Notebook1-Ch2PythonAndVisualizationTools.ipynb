{
 "cells": [
  {
   "cell_type": "markdown",
   "id": "6d0e5cb9-f1a4-4d6c-958c-10791b65ef11",
   "metadata": {},
   "source": [
    "# Notebook 1: Chapter 2 - Part 1\n",
    "\n",
    "We will not cover Chapter 2 in quite the same order as the text. This notebook is meant to guide you through part of Chapter reviewing or learning some Python. We will also explore many examples of the visualization capabilities. These will serve as examples and starting points for some of your work. \n",
    "\n",
    "I advise using this in parallel with the text. Work through the numbered exercises. Take enough time to think about the code, note the format, appreciate the possibilities. In places throughout the notebook, I will draw your attention to certain observations that I want you to make.\n",
    "\n",
    "Each of you will work through the material at a somewhat different pace. My hope is that, in this format, I can point out certain information to each of you as you arrive at that point in your learning."
   ]
  },
  {
   "cell_type": "markdown",
   "id": "b621ab35-514d-469d-91d6-69fd487866ed",
   "metadata": {},
   "source": [
    "**Goals**\n",
    "This exercise will serve several purposes including\n",
    "1. Review or familiarize yourself with Python\n",
    "2. Explore an array of tools we will be using or that are available such as\n",
    "   a. visualization capabilities of *vpython* and *matplotlib*.\n",
    "   b. SymPy module for symbolic mathematical calculations\n",
    "   c. animation capabilities\n",
    "3. Familiarize yourself with the text format and location of resources (online code, etc.)\n",
    "4. Familiarize yourself with Jupyter Notebooks in case those are new (practice shortcut keys)\n",
    "5. Do some first exercises both coding to solve a problem and interpreting code and pseudocode.\n",
    "\n",
    "As a group you undoubtedly have a wide range of prior experience. I hope that everyone benefit from the list above. Also, I hope at the end of the exercise we have some similar, common understanding of the tools needed for the course.\n",
    "\n",
    "This notebook will have you work through the text. That is really how it is structured. As you do there will be exercise embeded. I may also supplement at times with activities from other texts. \n",
    "\n",
    "This notebook will have you\n",
    "1. Work through section 2.3 to review python basics.\n",
    "2. Work through section 2.4.1. (We will come back to the other parts of 2.4.)\n",
    "3. Work through Section 2.5 to learn some of the visualization and animation capabilities\n",
    "4. Complete some exercises along the way to reinforce your understanding."
   ]
  },
  {
   "cell_type": "markdown",
   "id": "715ca511-50c5-492d-882b-64144c705801",
   "metadata": {},
   "source": [
    "## 2.3 Python Mini Tutorial\n",
    "\n",
    "We begin Section 2.3 by learning how to define (def) a function in Python. The first line \n",
    "<p style=\"text-align:center;\">def <function name>(arguments):\"</p> always has this format. Everything after that is indented four spaces (or more if it is inside the while loop structure). The code performs the calculation or action that you specify. At the end this function returns something, a numerical value in this case. Once the function is defined we can call it anytime later in the program and do the same calculation without rewriting all the code. \n",
    "    \n",
    "**1. Enter the code for the Defunct function. Observe the error in the code the textbook gave you. This is a common mistake and easy to fix. Fix it by adding the line x=2 just before calling Defunct(x, 3).**"
   ]
  },
  {
   "cell_type": "code",
   "execution_count": 2,
   "id": "abd536aa-f0ef-4db9-93e9-7cca3c30424f",
   "metadata": {},
   "outputs": [
    {
     "name": "stdout",
     "output_type": "stream",
     "text": [
      "1\n",
      "2\n",
      "3\n",
      "4\n",
      "5\n",
      "6\n",
      "7\n",
      "8\n",
      "9\n"
     ]
    },
    {
     "data": {
      "text/plain": [
       "80"
      ]
     },
     "execution_count": 2,
     "metadata": {},
     "output_type": "execute_result"
    }
   ],
   "source": [
    "def Defunct(x, j): # Defines the function\n",
    "    i = 1\n",
    "    max = 10\n",
    "    while (i < max):\n",
    "        print(i)\n",
    "        i = i + 1\n",
    "    return i*x**j\n",
    "\n",
    "x = 2\n",
    "Defunct(x,3) # Calls the function"
   ]
  },
  {
   "cell_type": "markdown",
   "id": "2ff1b186-f3a1-41d7-84a8-dde50cd74d09",
   "metadata": {},
   "source": [
    "It's useful to avoid lines that are too long so we can have screens open side by side. A \\ at the end of a line tells the computer to continue on the next line. \n",
    "\n",
    "**2. Edit the following line using a \\ in appropriate places to display the following long line on three separate lines.**"
   ]
  },
  {
   "cell_type": "code",
   "execution_count": 4,
   "id": "cd3c77b7-9b3a-44e7-ab11-0ec3a10921e1",
   "metadata": {},
   "outputs": [
    {
     "name": "stdout",
     "output_type": "stream",
     "text": [
      "909090909090911\n"
     ]
    }
   ],
   "source": [
    "x = 10\n",
    "print ( 1 + x - x**2 + x**3 - x**4 + x**5 - x**6 \\\n",
    "       + x**7 - x**8 + \\\n",
    "       x**9 - x**10 + x**11 - x**12 \\\n",
    "       + x**13 - x**14 + x**15 )"
   ]
  },
  {
   "cell_type": "markdown",
   "id": "bb56a95c-818a-4227-b781-53df0744fad6",
   "metadata": {},
   "source": [
    "Python has built-in math functions you can access by importing the math package as follows. \n",
    "\n",
    "**3. Note the functions listed in the text (or look them up online), and constants math.e, math.pi, math.inf, and math.nan. In the following cell, use pring statements and determine if the math.log() function is a base e or base 10 logrithm. Demonstrate how to obtain both base e and base 10 logrithms.**\n",
    "\n",
    "In the following cell notice the generic log() function is natural log, ln(). Add a couple lines where you print a couple of these. Remember to put \"math.\". What's log(math.e)?**"
   ]
  },
  {
   "cell_type": "code",
   "execution_count": 12,
   "id": "baf18f49-7c7d-4a54-b9ec-7e0c57bb05ec",
   "metadata": {},
   "outputs": [
    {
     "data": {
      "text/plain": [
       "1.0"
      ]
     },
     "execution_count": 12,
     "metadata": {},
     "output_type": "execute_result"
    }
   ],
   "source": [
    "import math\n",
    "math.log(math.e)"
   ]
  },
  {
   "cell_type": "markdown",
   "id": "5f65d196-fdfc-473b-8c9b-0492697379ae",
   "metadata": {},
   "source": [
    "In Python, we can assign a value to almost any variable name, EXCEPT a few keywords listed in Section 2.3.2 that are reserved. \n",
    "\n",
    "**4. Does False = True, import = 1, or continue = 'Please stop already!'?  In the next cell, I dare you to try...**"
   ]
  },
  {
   "cell_type": "code",
   "execution_count": 15,
   "id": "de3b69cb-8e8c-4a0a-9416-1355a7c396e3",
   "metadata": {},
   "outputs": [
    {
     "ename": "SyntaxError",
     "evalue": "cannot assign to False (2778346704.py, line 1)",
     "output_type": "error",
     "traceback": [
      "\u001b[0;36m  Cell \u001b[0;32mIn[15], line 1\u001b[0;36m\u001b[0m\n\u001b[0;31m    False = True\u001b[0m\n\u001b[0m    ^\u001b[0m\n\u001b[0;31mSyntaxError\u001b[0m\u001b[0;31m:\u001b[0m cannot assign to False\n"
     ]
    }
   ],
   "source": [
    "False = True"
   ]
  },
  {
   "cell_type": "code",
   "execution_count": 16,
   "id": "6c5cd849-207f-429d-aab0-9d181629c837",
   "metadata": {},
   "outputs": [
    {
     "ename": "SyntaxError",
     "evalue": "invalid syntax (3407073972.py, line 1)",
     "output_type": "error",
     "traceback": [
      "\u001b[0;36m  Cell \u001b[0;32mIn[16], line 1\u001b[0;36m\u001b[0m\n\u001b[0;31m    import = 1\u001b[0m\n\u001b[0m           ^\u001b[0m\n\u001b[0;31mSyntaxError\u001b[0m\u001b[0;31m:\u001b[0m invalid syntax\n"
     ]
    }
   ],
   "source": [
    "import = 1"
   ]
  },
  {
   "cell_type": "code",
   "execution_count": 17,
   "id": "ed07da4b-f06d-4e09-a3e9-8062c9e7cf09",
   "metadata": {},
   "outputs": [
    {
     "ename": "SyntaxError",
     "evalue": "unterminated string literal (detected at line 1) (1157435483.py, line 1)",
     "output_type": "error",
     "traceback": [
      "\u001b[0;36m  Cell \u001b[0;32mIn[17], line 1\u001b[0;36m\u001b[0m\n\u001b[0;31m    continue = 'Please stop already!\u001b[0m\n\u001b[0m               ^\u001b[0m\n\u001b[0;31mSyntaxError\u001b[0m\u001b[0;31m:\u001b[0m unterminated string literal (detected at line 1)\n"
     ]
    }
   ],
   "source": [
    "continue = 'Please stop already!"
   ]
  },
  {
   "cell_type": "markdown",
   "id": "5efd16ef-79b9-458e-a7c5-6c1f7b54b706",
   "metadata": {},
   "source": [
    "Python variables can be integers (int), floating point numbers (float) complex numbers (complex), booleans (bool) or strings (str). Most languages have floats (single precision numbers) and doubles (double precision numbers). In python, floats already have double precision. Next week we'll learn more about the finite precision of numbers and problems this can cause.\n",
    "\n",
    "In some languages if you divide two integers, you get an integer output (it drops anything after the decimal point. Others convert to a float (decimal) number. \n",
    "\n",
    "**5. What does python do? The author said his computer printed 3/6 as 0 rather than 0.5. Mine printed 0.5. Try printing the division case in the text (6/3, 3/6 and 3./6).**\n"
   ]
  },
  {
   "cell_type": "code",
   "execution_count": 22,
   "id": "2128b9b5-a633-4710-9228-0f19c29e4367",
   "metadata": {},
   "outputs": [
    {
     "data": {
      "text/plain": [
       "2.0"
      ]
     },
     "execution_count": 22,
     "metadata": {},
     "output_type": "execute_result"
    }
   ],
   "source": [
    "6/3"
   ]
  },
  {
   "cell_type": "code",
   "execution_count": 39,
   "id": "2df32a9f-e87e-4c23-8ecb-8501e54473f6",
   "metadata": {},
   "outputs": [
    {
     "data": {
      "text/plain": [
       "18.0"
      ]
     },
     "execution_count": 39,
     "metadata": {},
     "output_type": "execute_result"
    }
   ],
   "source": [
    "x = 3.\n",
    "y = 6\n",
    "\n",
    "x*y"
   ]
  },
  {
   "cell_type": "code",
   "execution_count": 23,
   "id": "38dfee5e-4641-4015-aeae-1b9e840e726b",
   "metadata": {},
   "outputs": [
    {
     "data": {
      "text/plain": [
       "0.5"
      ]
     },
     "execution_count": 23,
     "metadata": {},
     "output_type": "execute_result"
    }
   ],
   "source": [
    "3./6"
   ]
  },
  {
   "cell_type": "markdown",
   "id": "291392e8-6a75-4508-9f36-63323dffa76f",
   "metadata": {},
   "source": [
    "In most programming languages (C, Fortran, Java, etc) you must specify the type of variable when you create it. In C \n",
    "\n",
    "int x;\n",
    "double y;\n",
    "x = 10.0;\n",
    "\n",
    "creates a variable x that is an integer and a variable y that is a double precision number. This tells the computer how much memory to store for that type of number. If you assigned a decimal value to an integer (x = 1.23) it will cause an error. There's not enough memory reserved in x. \n",
    "\n",
    "Python can tell the type and will switch types if needed. \n",
    "\n",
    "**6. Type in the code from the textbook to see what happens when you multiply or divide numbers that are integers and floats. The decimal point tells it the number is a float.**"
   ]
  },
  {
   "cell_type": "code",
   "execution_count": 27,
   "id": "f2a201f4-6bc7-4a9b-9ec1-b164e179081a",
   "metadata": {},
   "outputs": [
    {
     "data": {
      "text/plain": [
       "24.0"
      ]
     },
     "execution_count": 27,
     "metadata": {},
     "output_type": "execute_result"
    }
   ],
   "source": [
    "4.000*6.000"
   ]
  },
  {
   "cell_type": "code",
   "execution_count": 28,
   "id": "4daa73d2-4d2c-4610-9703-99a8294ad022",
   "metadata": {},
   "outputs": [
    {
     "data": {
      "text/plain": [
       "24"
      ]
     },
     "execution_count": 28,
     "metadata": {},
     "output_type": "execute_result"
    }
   ],
   "source": [
    "4*6"
   ]
  },
  {
   "cell_type": "code",
   "execution_count": 31,
   "id": "295f8952-f401-4f6b-a304-84eeb1288943",
   "metadata": {},
   "outputs": [
    {
     "data": {
      "text/plain": [
       "5.333333333333333"
      ]
     },
     "execution_count": 31,
     "metadata": {},
     "output_type": "execute_result"
    }
   ],
   "source": [
    "16.000/3.000"
   ]
  },
  {
   "cell_type": "code",
   "execution_count": 32,
   "id": "686561b6-31a2-4374-95ba-a00c24cf7096",
   "metadata": {},
   "outputs": [
    {
     "data": {
      "text/plain": [
       "5.333333333333333"
      ]
     },
     "execution_count": 32,
     "metadata": {},
     "output_type": "execute_result"
    }
   ],
   "source": [
    "16/3"
   ]
  },
  {
   "cell_type": "markdown",
   "id": "a0e9c23c-77d4-444c-aac4-3874960b376c",
   "metadata": {},
   "source": [
    "Importing packages gives us access to enormous amounts of pre-programmed code from basic math functions in *math* or *numpi*, to graphics capabilities in *matplotlib*, to machine learning and AI tools in *scikitlearn*.\n",
    "\n",
    "**7. In the next few cells, import the math package and see how complex numbers work. You can enter use the code in the text that describes complex numbers but feel free to experiment too. You will likely have to add some print statements to see the values.**"
   ]
  },
  {
   "cell_type": "code",
   "execution_count": 41,
   "id": "acfd22cc-e222-4d92-8f58-2afee3791221",
   "metadata": {},
   "outputs": [
    {
     "data": {
      "text/plain": [
       "(3+2j)"
      ]
     },
     "execution_count": 41,
     "metadata": {},
     "output_type": "execute_result"
    }
   ],
   "source": [
    "2j + 3"
   ]
  },
  {
   "cell_type": "markdown",
   "id": "01f9aa4a-abad-4eeb-ba23-e965e53b6c4a",
   "metadata": {},
   "source": [
    "**Continue exploring complex numbers in polar coordinates. Do you get an error? You can import the *cmath* package. Do you also get an error if you use the phase() function? It might not know where to look for that function. In that case, cmath.phase() tells it the function phase() belongs to the *cmath* package.**"
   ]
  },
  {
   "cell_type": "code",
   "execution_count": 42,
   "id": "6f4bba1c-9bd6-47b0-90bb-fd59a97356e6",
   "metadata": {},
   "outputs": [],
   "source": [
    "import cmath"
   ]
  },
  {
   "cell_type": "code",
   "execution_count": 47,
   "id": "33ca3c51-4f2a-4d57-85c2-436e94f0cb20",
   "metadata": {},
   "outputs": [
    {
     "data": {
      "text/plain": [
       "0.5880026035475675"
      ]
     },
     "execution_count": 47,
     "metadata": {},
     "output_type": "execute_result"
    }
   ],
   "source": [
    "cmath.phase(2j+3)"
   ]
  },
  {
   "cell_type": "markdown",
   "id": "64261ea6-5f4b-4bf7-a66c-f122f333332f",
   "metadata": {},
   "source": [
    "**Let's try playing with the polar representations...**"
   ]
  },
  {
   "cell_type": "code",
   "execution_count": 48,
   "id": "9bef18b1-ea9b-4faf-a85a-f4ab2cdeadb9",
   "metadata": {
    "scrolled": true
   },
   "outputs": [
    {
     "name": "stdout",
     "output_type": "stream",
     "text": [
      "(1+1j)\n",
      "(1.4142135623730951, 0.7853981633974483)\n",
      "(1.0000000000000002+1j)\n"
     ]
    }
   ],
   "source": [
    "#Create a complex number in a cartesian representation, z = x + iy\n",
    "import cmath\n",
    "\n",
    "z = complex(1., 1.)\n",
    "print(z)\n",
    "zpolar = cmath.polar(z)\n",
    "print(zpolar)\n",
    "zrect = cmath.rect(zpolar[0],zpolar[1])\n",
    "print(zrect)"
   ]
  },
  {
   "cell_type": "markdown",
   "id": "e68e30c0-7d77-4016-8b41-239c81836a9e",
   "metadata": {},
   "source": [
    "On my computer some rounding or machine precision error showed up. I started with 1+1j and, after converting to polar representation and back to a Cartesian representation, ended with 1.0000000000000002+1.0000000000000002j. At least on my machine. Your computer or Python version may possibly be different.\n",
    "\n",
    "**Strings**\n",
    "\n",
    "Let's explore string data types and techniques to deal with these. Strings are just lists of characters. In other languages manipulating strings can be a laborious process. Python makes dealing with strings much simpler, in particular due to a technique called **slicing**, which can extract parts of a string very simply.\n",
    "\n",
    "**8.(a) Type in the code from the text and try the different cases of single, double and triple quotes.**\n",
    "\n",
    "**(b) Then print different array elements (0, 1, -1, -2). Play around until you understand what it's doing.**\n",
    "    \n",
    "**(c) Then enter the code to slice the array. Try changing the limits from [0:3] to something else and see how it works. What if you don't start at 0?**"
   ]
  },
  {
   "cell_type": "code",
   "execution_count": 53,
   "id": "d922dcd1-0c54-4e7d-ab07-0748aee30980",
   "metadata": {},
   "outputs": [
    {
     "data": {
      "text/plain": [
       "' From \"Computational Physics\"\\nProblem Solving with Python '"
      ]
     },
     "execution_count": 53,
     "metadata": {},
     "output_type": "execute_result"
    }
   ],
   "source": [
    "S = \"A string using double quotes\"\n",
    "S = \"A string using single quotes\"\n",
    "S = 'It\\'s possible to escape a quote'\n",
    "\"\"\" From \"Computational Physics\"\n",
    "Problem Solving with Python \"\"\" # Double within triple quotes"
   ]
  },
  {
   "cell_type": "code",
   "execution_count": 50,
   "id": "ab412665-5878-4b3d-81b2-843456c849a8",
   "metadata": {},
   "outputs": [
    {
     "data": {
      "text/plain": [
       "'I'"
      ]
     },
     "execution_count": 50,
     "metadata": {},
     "output_type": "execute_result"
    }
   ],
   "source": [
    "S[0]"
   ]
  },
  {
   "cell_type": "code",
   "execution_count": 57,
   "id": "ed0a7357-118c-4ca9-8333-fccf8318fe17",
   "metadata": {},
   "outputs": [
    {
     "data": {
      "text/plain": [
       "\"t's \""
      ]
     },
     "execution_count": 57,
     "metadata": {},
     "output_type": "execute_result"
    }
   ],
   "source": [
    "S[1:5]"
   ]
  },
  {
   "cell_type": "markdown",
   "id": "64adf8ff-04ff-4f53-af2c-28da40e03d27",
   "metadata": {},
   "source": [
    "In arrays (and similar structures) the position of each element is assigned a number for its position, beginning with 0 in Python and C. In some programming languages the numbering starts with 1. Notice when we refer to a \"slice\" of the array S above [1:4] it prints the letters in positions 1, 2, and 3, but not 4 so print([1:N]) will print the values in positions from 1 to N-1. (In otherwords, the last element in the array is in position N-1 because we started counting from 0.)\n",
    "\n",
    "**Math Operators**\n",
    "\n",
    "If you are unfamiliar with the % and ** operators, % is the modulus operator. It returns the remainder a fraction. And ** is quick way to do an exponential. 5**2 = 25. Many languages don't have this option for exponentials."
   ]
  },
  {
   "cell_type": "markdown",
   "id": "1da6b1fb-2796-4e7b-9cc0-e2c1d9498317",
   "metadata": {},
   "source": []
  },
  {
   "cell_type": "markdown",
   "id": "e24d8fb0-2737-448a-853b-bbfcd412005b",
   "metadata": {},
   "source": [
    "**Conditional _if_ statements**\n",
    "\n",
    "Most of the time our code will have to make decisions depending on certain conditions being met. If the conditions are not met, the program might do something else. We can us **_if_** or **_if_**-**_else_** or **_if_**-**_elif_**-**_elif_**-...-**_else_** statements to accomplish this.\n",
    "\n",
    "Conditional statements are used to determine if a block of code is executed or not. For example\n",
    "\n",
    "```\n",
    "if condition:\n",
    "   <if-block>\n",
    "elif condition 1:\n",
    "    <elif-block1>\n",
    "elif condition 2:\n",
    "    <elif-block2>\n",
    "...\n",
    "else:\n",
    "    <else-block>\n",
    "```\n",
    "\n",
    "where the code that your program runs depends on which condition is **_true_**. You can have however many *elif* statements as you want or need. Note the : and indentation of the blocks of code by 4 spaces. These are important!\n",
    "\n",
    "**9. The following are just a few examples of conditional statements, which return a boolean value *true* or *false*. Add one or two of your own.**"
   ]
  },
  {
   "cell_type": "code",
   "execution_count": 4,
   "id": "c40fad31-120d-4db7-924e-613713b45624",
   "metadata": {},
   "outputs": [
    {
     "name": "stdout",
     "output_type": "stream",
     "text": [
      "True\n",
      "False\n",
      "True\n",
      "False\n"
     ]
    }
   ],
   "source": [
    "print(1 < 2)\n",
    "print(2 < 1)\n",
    "print(2 != 1)\n",
    "print(2 == 1)"
   ]
  },
  {
   "cell_type": "markdown",
   "id": "64e0a263-ff21-49b3-af55-b4535e9b3317",
   "metadata": {},
   "source": [
    "**Loops**\n",
    "\n",
    "Most of the time we also need to perform a calculation or call a function many, many times in our programs. This is one great advantage of computers of course. We can use loops to do these repeated actions. The two main loops are *for* loops and *while* loops.\n",
    "\n",
    "**10. Run the following two examples of loops. Change the parameters in the range function *for* example or the maximum range.**"
   ]
  },
  {
   "cell_type": "code",
   "execution_count": 5,
   "id": "9dbd69d3-e08f-4ad8-8ff7-9837bf13783c",
   "metadata": {},
   "outputs": [
    {
     "name": "stdout",
     "output_type": "stream",
     "text": [
      "1\n",
      "2\n"
     ]
    }
   ],
   "source": [
    "for index in range(1, 3):\n",
    "    print(index)"
   ]
  },
  {
   "cell_type": "code",
   "execution_count": 6,
   "id": "4a9fa12d-d378-4e38-bc57-bde322dbb829",
   "metadata": {},
   "outputs": [
    {
     "name": "stdout",
     "output_type": "stream",
     "text": [
      "1\n",
      "2\n",
      "3\n",
      "4\n",
      "5\n",
      "6\n",
      "7\n",
      "8\n",
      "9\n"
     ]
    }
   ],
   "source": [
    "counter = 1\n",
    "max = 10\n",
    "while counter < max:\n",
    "    print(counter)\n",
    "    counter += 1"
   ]
  },
  {
   "cell_type": "markdown",
   "id": "cffa0b3b-ff61-41b1-83c5-2b233f744f7a",
   "metadata": {},
   "source": [
    "Note how the counter increments each time through the while loop until the condition is met. You don't have to increment by 1.\n",
    "\n",
    "**11. Try incrementing by 2 or 3 each time. Copy and paste the *while* loop code into the next cell and try adding 2 each time.** "
   ]
  },
  {
   "cell_type": "code",
   "execution_count": null,
   "id": "bd68f367-6a6e-4ff2-b532-e0c45168fc97",
   "metadata": {},
   "outputs": [],
   "source": []
  },
  {
   "cell_type": "markdown",
   "id": "a5c08670-102a-4d32-8aa8-28342a0e5f80",
   "metadata": {},
   "source": [
    "**= does not mean equal**\n",
    "\n",
    "Note that counter += 1 also is shorthand for counter = counter + 1. This second statement is a subtle but very important point. The = sign in a program is an *assignment* operator NOT an *equal* in the mathemetical sense. The code takes whatever is on the right side of the equal sign and replaces the variable on the left with that value. So counter = counter + 1, takes the old value of counter, adds one, and only then updates the variable counter with the new value."
   ]
  },
  {
   "cell_type": "markdown",
   "id": "acd423f1-5c5f-4f50-89d6-a25e6c18d600",
   "metadata": {},
   "source": [
    "### 2.3.4 Python Lists as Arrays\n",
    "Let's explore Python *lists* aand *tuples* a bit. First, lists. Lists do not have to contain only numbers but we will often use them this way. Lists are similar to what other languages call arrays. We will explore \"array* data types from the *NumPy* package later in the course.\n",
    "\n",
    "**12. Enter all the code in section 2.3.4 regarding lists in the next block.**"
   ]
  },
  {
   "cell_type": "code",
   "execution_count": null,
   "id": "e5aaf2f9-df45-415c-bf07-a60b155d3122",
   "metadata": {},
   "outputs": [],
   "source": []
  },
  {
   "cell_type": "markdown",
   "id": "2472f13e-10a5-49c3-847e-c58358ccf68c",
   "metadata": {},
   "source": [
    "Notice that you can modify individual elements of the list. In this case, the 0th element is changed from 1 to 5. \n",
    "\n",
    "A similar structure in Python is a *tuple*. They are created using parentheses rather than square breckets. They are slightly different.\n",
    "\n",
    "**13. Enter the code for a *tuple* from the text example. Print the third element and the entire _tuple_.**"
   ]
  },
  {
   "cell_type": "code",
   "execution_count": null,
   "id": "796fbb13-13bd-43a7-ad72-c03163861e9b",
   "metadata": {},
   "outputs": [],
   "source": []
  },
  {
   "cell_type": "markdown",
   "id": "93b3144e-dca3-44a6-8867-f5d5597b2d40",
   "metadata": {},
   "source": [
    "**Now try changing a single element, the first one, just like we did for the list and see what happens.**"
   ]
  },
  {
   "cell_type": "code",
   "execution_count": null,
   "id": "b9106a54-ad94-4d43-8a3d-04aa5d63f126",
   "metadata": {},
   "outputs": [],
   "source": []
  },
  {
   "cell_type": "markdown",
   "id": "f2379ca0-ab78-4c5e-9c4e-4960a9e9ee6e",
   "metadata": {},
   "source": [
    "Lists are *mutable* objects (they can be changed). Tuples are *immutable* objects (they cannot be changed.) \n",
    "\n",
    "The difference between creating these two objects is the *lists* are created with () and *tuples* with [].\n",
    "\n",
    "A super convenient feature of Python is that you do not have to specify the size or type of an array or list in Python. Multi-dimensional arrays can be created by making a list of lists. For example,\n"
   ]
  },
  {
   "cell_type": "code",
   "execution_count": 7,
   "id": "6bbdcd2f-7578-4399-ba1a-7b2038070d73",
   "metadata": {},
   "outputs": [
    {
     "name": "stdout",
     "output_type": "stream",
     "text": [
      "[[1, 2], [3, 4], [5, 6]]\n",
      "[1, 2]\n"
     ]
    }
   ],
   "source": [
    "L = [[1, 2], [3, 4], [5, 6]]      # A list of lists\n",
    "print(L)                         # Print the whole list\n",
    "print(L[0])                      # Print the first element"
   ]
  },
  {
   "cell_type": "markdown",
   "id": "f8a40c1c-f225-4d04-aba7-c1b737b18261",
   "metadata": {},
   "source": [
    "**14. In the following cell, create a list or two and play with some of the operations in the tables. Especially try the *append()* opperation. This adds new elements to the end of the list. An extraordinaraly convenient task that most other languages don't allow! Also try printing the index (position in list) of one of the specific elements of the list. Determine the length of a list.**"
   ]
  },
  {
   "cell_type": "code",
   "execution_count": null,
   "id": "f4b87844-f294-4bdf-9fbf-6032a119ae17",
   "metadata": {},
   "outputs": [],
   "source": []
  },
  {
   "cell_type": "markdown",
   "id": "a7afbd45-0b68-41af-a058-f9549d40ebf5",
   "metadata": {},
   "source": [
    "### 2.3.5 Python I/O\n",
    "\n",
    "Just in case you are familiar with Python 2, but not Python 3, an important difference is the print function. The Python 2 method below throws an error."
   ]
  },
  {
   "cell_type": "markdown",
   "id": "5819c95e-88f9-4a0e-9c47-e44ebd52e666",
   "metadata": {},
   "source": [
    "```\n",
    "print 'Hello, World!'     #Python 2\n",
    "print('Hello, World!')    # Python 3\n",
    "```"
   ]
  },
  {
   "cell_type": "markdown",
   "id": "9e45645a-4607-4520-8abc-ce3714fe73c5",
   "metadata": {},
   "source": [
    "**14. Enter the simple code to input and print your name and age. Is astr() correct, or should it say str()?**"
   ]
  },
  {
   "cell_type": "code",
   "execution_count": null,
   "id": "fee93189-4177-4e5f-9aed-7cd1692e5183",
   "metadata": {},
   "outputs": [],
   "source": []
  },
  {
   "cell_type": "markdown",
   "id": "97fe1d33-43ea-40d3-aeb3-9ad7403aea5a",
   "metadata": {},
   "source": [
    "Interactive input is useful sometimes, though often data is read from a file. We will see how to do this in the exercises in the next section. For now let's explore formatting. When we print values it is often useful to limit the output to a specific number of decimal places. Let's see how to format output. The following cell has two print statements from the text, including apparent typos. \n",
    "\n",
    "**15. Edit these both so that they print the correct output.** Debugging can be frustrating at first but it is an effective way to understand the subtle points of correct formatting."
   ]
  },
  {
   "cell_type": "code",
   "execution_count": 8,
   "id": "074ff987-9512-46b3-a6c1-c82bc4a625d7",
   "metadata": {},
   "outputs": [
    {
     "ename": "SyntaxError",
     "evalue": "invalid decimal literal (776832746.py, line 6)",
     "output_type": "error",
     "traceback": [
      "\u001b[0;36m  Cell \u001b[0;32mIn[8], line 6\u001b[0;36m\u001b[0m\n\u001b[0;31m    print(\"x=%6.3f, %(x), \"Pi=%9.6f,\" %(math.pi), \"Age=%d \"%(age),\" \\n)\u001b[0m\n\u001b[0m                                 ^\u001b[0m\n\u001b[0;31mSyntaxError\u001b[0m\u001b[0;31m:\u001b[0m invalid decimal literal\n"
     ]
    }
   ],
   "source": [
    "import math\n",
    "x = 12.345132432\n",
    "age = 39\n",
    "\n",
    "print(\"x=%6.3f,  Pi=%9.6f,  Age=%d \\n\") % (x, math.pi, age)\n",
    "print(\"x=%6.3f, %(x), \"Pi=%9.6f,\" %(math.pi), \"Age=%d \"%(age),\" \\n)"
   ]
  },
  {
   "cell_type": "markdown",
   "id": "fc4a9fb0-ef3d-470c-9182-0a92f324fb6a",
   "metadata": {},
   "source": [
    "Notice for the floats the format %6.3f specifies the number of characters, 6, and the number of places after the decimal point, 3. This kind of formatting is very common in other languages too. Pleaase note that Python has other ways to format output which you may have learned. But the text uses this we will encounter this throughout the text. Best to be familiar with it.\n",
    "\n",
    "One feature of the textbook is the \"Code Listings\" in the last section of each Chapter. Many, if not all of these are available on the textbook's website. I have a link on Blueline. It's preferable not to copy and paste because you want to practice entering code. It will allow you to do a bit of debugging of simple typos which is a noremal part of programming. But also we want to focus on the algorithms that are implemented so we don't necessarily want to start writing code from scratch everytime. \n",
    "\n",
    "Outside of class you are likely to look up code and documentation in standard or common packages and adapt these for your needs. \n",
    "\n",
    "**<span style=\"color:black;\">16. Practice some of the escape and formatting characters listed in the textbook by entering the code from Directives.py in the next cell. Locate the code in Listing 2.12.</span>**"
   ]
  },
  {
   "cell_type": "code",
   "execution_count": null,
   "id": "a35abd28-4fb5-420a-93bd-666e832ef735",
   "metadata": {},
   "outputs": [],
   "source": [
    "# Directives.py illustrates escape and formatting characters\n",
    "import sys\n",
    "print(\"hello \\n\")\n",
    "print(\"\\t it's me\")                           # tabulator\n",
    "b = 73\n",
    "print(\"decimal 73 as integer b = %d \"%(b))    # for integer\n",
    "print(\"as octal b = %o\"%(b))                  # octal\n",
    "print(\"as hexadecimal b = %x \"%(b))           # works hexadecimal\n",
    "print(\"learn \\\"Python\\\" \")                    # use of double quote symbol\n",
    "print(\"shows a backslash \\\\\")                 # use of \\\\\n",
    "print('use of single \\' quotes \\' ')          # print single quotes"
   ]
  },
  {
   "cell_type": "markdown",
   "id": "416cd2b3-aeb1-4a68-bb21-05245198dd00",
   "metadata": {},
   "source": [
    "# Section 2.4 Programming Warmup\n",
    "\n",
    "Read through this introduction to Section 2.4 and continue with Section 2.4.1 if you haven't read it already. You will enter Area.py below. \n",
    "\n",
    "We will skip parts 2.4.3 to 2.4.5 until next week.\n",
    "\n",
    "### Section 2.4.1 Program Design\n",
    "\n",
    "In this section we explore the general process of converting an idea for a computation into a piece of code the computer understands. In physics we don't often begin solving a problem by thinking in terms of equations. Through practice we think in terms of concepts, develop an idea about how a calculation should proceed, and finally beginning choosing the mathematical steps we need to solve the problem.\n",
    "\n",
    "In computational physics we use a similar approach. We almost never begin thinking in terms of code. We start with a general idea of the main steps of the program, a so called pseudocode. Then we can work on the details. If it's a complex code it may take multiple iterations to develop and translate into actual code. We often have to test our code at different stages of development. Evaluating and revising the code is all part of the process.\n",
    "\n",
    "The intro to Section 2.4 illustrates this with the Area.py program (also in Listing 2.10). Read through the intro and Section 2.4\n",
    "\n",
    "**<span style=\"color:black;\">17. Enter the Area.py program in the next cell and run it.</span>**"
   ]
  },
  {
   "cell_type": "code",
   "execution_count": null,
   "id": "6ad21830-a5a8-425d-a3ea-fd038aa4ddbd",
   "metadata": {},
   "outputs": [],
   "source": []
  },
  {
   "cell_type": "markdown",
   "id": "32fd7141-271a-4532-a3c4-8cc538c2a8fe",
   "metadata": {},
   "source": [
    "Writing a pseudocode and converting it to a program is useful for developing an idea. But what about reading other people's code and understanding it. In that case you very well may do the reverse process. Start with the code and write down what the code does in steps to understand how it works, how it is structured, or how to combine it with your code so they work together.\n",
    "\n",
    "If your lucky, the code you want to use is well documented. There are plenty of comments explaining what it does. Unfortunately, this is not always the case. Let's use the AreaFormated.py program (Code Listing 2.11 or online) to explore this. \n",
    "\n",
    "**<span style=\"color:black;\">18. Now enter AreaFormatted.py from Listing 2.11 in the next cell. You will also need to create the file *Name.dat* which the program will read. To creat the file, in the webpage with your directory/file list, click New at the top right and select text file. Name the file Name.dat. Enter your name and a number for the radius on one line. Save the file.</span>**"
   ]
  },
  {
   "cell_type": "code",
   "execution_count": null,
   "id": "6ea833e9-5356-44e3-a261-f737c6bc0496",
   "metadata": {},
   "outputs": [],
   "source": []
  },
  {
   "cell_type": "markdown",
   "id": "c572ddf6-2334-4fb0-b359-2304773e0fac",
   "metadata": {},
   "source": [
    "**Check if it created a file A.dat in the same directory as your program. What did it print? Create a Markdown cell below this and enter what is in A.dat or copy and paste.**\n",
    "\n",
    "**NOTE: Anytime you turn in your work. Remember to upload any data files that the code needs to run.**\n",
    "\n",
    "A lot of this code might be new depending on your experience with python. Review the code to see what it does. This code demonstrates how to open and close files and to read and write files. You might refer back to this as an example later. \n",
    "\n",
    "Notice this code has many comments. It explains what is happening at each step. You can quickly understand what it does without understanding every little detail. Imagine without comments. You would have to spend time looking through the details and working out what the author of the code is doing! This is why commenting code is so important and so useful. It saves a lot of time. And if someone else uses your code and you have commented it, you will get a lot fewer questions. More time saved!\n",
    "\n",
    "**A main point here is comment your code a lot. And add Markdown cells explaining the code and output. This will be an important skill, developed as part of the computational essays you write throughout the semester.**\n",
    "\n",
    "\n",
    "### 2.4.2 First Programming Steps\n",
    "**19. Exercise: Complete section 2.4.2 using either the Area.py code (or AreaFormatted.py if you prefer) BUT rather than save different .py files, you can just adapt the code in the following cell.**"
   ]
  },
  {
   "cell_type": "code",
   "execution_count": null,
   "id": "27ff26c6-95c2-4611-92fa-708391666126",
   "metadata": {},
   "outputs": [],
   "source": []
  },
  {
   "cell_type": "code",
   "execution_count": null,
   "id": "46175a72-2ab8-42f3-b303-f11cf11c53cf",
   "metadata": {},
   "outputs": [],
   "source": []
  },
  {
   "cell_type": "code",
   "execution_count": null,
   "id": "8a1a6aff-c4da-4c56-a9a2-0e5b5bff640d",
   "metadata": {},
   "outputs": [],
   "source": []
  },
  {
   "cell_type": "code",
   "execution_count": null,
   "id": "0e54c889-e219-41cd-a095-1dcdc68525fc",
   "metadata": {},
   "outputs": [],
   "source": []
  },
  {
   "cell_type": "markdown",
   "id": "9fd8f6ac-b6fe-4f3e-addb-0fa1c8375b81",
   "metadata": {},
   "source": [
    "## 2.5 Python's Visualization Tools\n",
    "\n",
    "While reading through Section 2.5, keep in mind the Code Listings in the textbook use an older module called *visual* that is obsolete. These codes have been translated to use *vpython* and are available online. The webpage was mentioned in the Preface and there is a link on Blueline. Select the option for VPython Codes.\n",
    "\n",
    "*vpython* works in Jupiter notebooks and WebVpython.\n",
    "\n",
    "Later, MatPlotLib is also explored to create different types of 2D and 3D visualizations as well.\n",
    "\n",
    "**20. Read/work through each part of Section 2.5 in the text and enter your work/code in the corresponding sections below. Add a Markdown cell before code and explain what the code will do. Add a Markdown cell after and summarize something you have learned about the code or the output.**\n",
    "\n",
    "**You should enter the code and familiarize yourself with how the code functions. You don't need to understand every detail but please take time to consider the format for creating different types of figures, how attributes of the figures are specified, how the axes are created and formatted, etc. These and many other attributes can be found online, on the *vpython* website for instance.** \n",
    "\n",
    "**_I mainly want you to see a range of tools available and have code you can refer back to for examples_.**\n",
    "\n",
    "### 2.5.1 Visual (VPython)'s 2D Plots\n",
    "\n",
    "You can find the *vpython* versions of the code on the webpage mentioned above.\n",
    "\n",
    "**NOTE:** If you have issues making the figures appear, entering canvas() on a line after \"from vpython import *\" might work.\n",
    "\n"
   ]
  },
  {
   "cell_type": "code",
   "execution_count": null,
   "id": "aabe1f0a-b5f9-4307-9d0f-bcc384e2725b",
   "metadata": {},
   "outputs": [],
   "source": []
  },
  {
   "cell_type": "code",
   "execution_count": null,
   "id": "1035bfa0-44ea-41b2-8188-7c4ea299bde6",
   "metadata": {},
   "outputs": [],
   "source": []
  },
  {
   "cell_type": "code",
   "execution_count": null,
   "id": "8a9b56fd-7a20-4d41-aa09-717d4ce69a90",
   "metadata": {},
   "outputs": [],
   "source": []
  },
  {
   "cell_type": "markdown",
   "id": "075bef69-d76b-4a8a-b2b1-a2a5032d31c4",
   "metadata": {},
   "source": [
    "One useful feature of VPython figures is that they give you the coordinates if you hover the curser over it. That could be useful if you wanted to find the location of a maximum or minimum, or the location where two curves intersect, or the roots of an equation. \n",
    "\n",
    "VPython also has some nice 3D capabilities you will explore in the next section. This will also provide some more practice converting the code from the Visual to VPython. \n",
    "\n",
    "\n",
    "Next, I just want you to see an example of the 3D capabilities of *vpython*. I have adapted 3Dshapes.py in Code Listing 2.3 from the visual format to the vpython format. \n",
    "\n",
    "**21. Run the following code and see what you find.**"
   ]
  },
  {
   "cell_type": "code",
   "execution_count": null,
   "id": "ddb9cc38-008f-49c5-ad3a-33c3dcf1c5f2",
   "metadata": {},
   "outputs": [],
   "source": [
    "# 3Dshapes.py: Some 3-D Shapes of VPython\n",
    "\n",
    "from vpython import *\n",
    "canvas()\n",
    "\n",
    "graph1 = display(width=500, height=500, title='VPython 3-D Shapes', range=10)\n",
    "sphere(pos=vector(0,0,0), radius=1, color=color.green)\n",
    "sphere(pos=vector(0,1,-3), radius=1.5, color=color.red)\n",
    "arrow(pos=vector(3,2,2), axis=vector(3,1,1), color=color.cyan)\n",
    "cylinder(pos=vector(-3,-2,3), axis=vector(6,-1,5), color=color.yellow)\n",
    "cone(pos=vector(-6,-6,0), axis=vector(-2,1,-0.5), radius=2, color=color.magenta)\n",
    "helix(pos=vector(-5,5,-2), axis=vector(5,0,0), radius=2, thickness=0.3, color=color.orange)\n",
    "ring(pos=vector(-6,1,0), axis=vector(1,1,1), radius=2, thickness=0.3,\\\n",
    "     color=vector(0.3,0.4,0.6))\n",
    "box(pos=vector(5,-2,2), length=5, width=5, height=0.4, color=vector(0.4,0.8,0.2))\n",
    "pyramid(pos=vector(2,5,2), size=vector(4,3,2), color=vector(0.7,0.7,0.2))\n",
    "ellipsoid(pos=vector(-1,-7,1), axis=vector(2,1,3), length=4, height=2, witdth=5,\\\n",
    "          color=vector(0.1,0.9,0.8))"
   ]
  },
  {
   "cell_type": "markdown",
   "id": "67da6a60-e986-4b85-bf49-ee6fa7c16233",
   "metadata": {},
   "source": [
    "### (OPTIONAL) Converting visual to vpython code\n",
    "\n",
    "In case you ever need to convert code that uses *visual* to the *vpython* format, here is a list of changes and tricks to make it work. There are a few other modifications that could be required depending on the particular code. These can be found on line, but this list of hints will get you started:\n",
    "\n",
    "1. The code to import the package is different. Change \"from visual.graph import *\" to \"from vpython import *\"\n",
    "3. Each time you want to draw graphs in a new figure, you must call the canvas() function. In EasyVisual.py, simply add the line \"canvas()\" after the first line importing the vpython package. If you don't do this, the graph will show up in the same cell where the last graph was drawn.\n",
    "4. The gdisplay() function is now called graph(). Make sure to replace that.\n",
    "5. If you try to run the code now, the first graph will not show up. That's because the gcurve color attribute is color.white. Also the default background is white. Simply change this to something else, like color.red. You can look up colors that are available by searching for VPython documentation online.\n",
    "6. If you have encounter errors, you can often copy and paste into google to search for solutions. In later programs, there are likely other differences between the textbook's code that need adapted due to differences between visual and vpython.\n"
   ]
  },
  {
   "cell_type": "code",
   "execution_count": null,
   "id": "1de5f3df-275b-4750-8627-96bbb9123838",
   "metadata": {},
   "outputs": [],
   "source": []
  },
  {
   "cell_type": "markdown",
   "id": "7f0a168e-f7b0-4adc-866d-bab5050da8bb",
   "metadata": {},
   "source": [
    "### 2.5.2 Matplotlib's 2D Plots\n",
    "\n",
    "Another common plotting package we will use is Matplotlib. Read through the text, if you haven't, and work through the examples below. The goal here is to be familiar with some of Matplotlib's capabilities and formatting as we will see this throughout the class as well.\n",
    "When you enter the code, spend some time understanding what the different parts of the code do. How axes are created, labels, titles, the plot itself and different formatting features. If you want to find all the options possible, you can look these up inthe Matplotlib documentation online. You should practice looking up information!\n",
    "\n",
    "**22. In the next cell, enter the code EasyMatPlot.py in the text or Code Listing 2.4 or on the website under Matplotlib Code. Spend a moment and play with some additional settings in Table 2.4.**"
   ]
  },
  {
   "cell_type": "code",
   "execution_count": null,
   "id": "203a9c1d-9257-466e-87f4-4c9ea4151147",
   "metadata": {},
   "outputs": [],
   "source": []
  },
  {
   "cell_type": "markdown",
   "id": "ba92ba92-456a-4896-972a-cccd5b889854",
   "metadata": {},
   "source": [
    "**23. Try the GradesMatplot.py code below. This example graphs data points asymmetric errorbars.**"
   ]
  },
  {
   "cell_type": "code",
   "execution_count": null,
   "id": "4c1dd7e4-ab70-4158-be6d-16aa407ace7e",
   "metadata": {},
   "outputs": [],
   "source": []
  },
  {
   "cell_type": "markdown",
   "id": "ed17caa7-a8c7-4b61-9c13-77f2e8e99193",
   "metadata": {},
   "source": [
    "Matplotlib allows us to construct more complex figures. The next example uses subplots to accomplish this.\n",
    "\n",
    "**24. Use the code MatPlot2figs.py in Listing 2.6 or online to reproduce Figure 2.7.**"
   ]
  },
  {
   "cell_type": "code",
   "execution_count": null,
   "id": "f0e3bd09-9902-4f6c-b2f8-c2ed19f88c73",
   "metadata": {},
   "outputs": [],
   "source": []
  },
  {
   "cell_type": "markdown",
   "id": "ed741194-7657-4b32-a625-c6b3351cf7ef",
   "metadata": {},
   "source": [
    "We often have to plot data points rather than continuous mathematical functions. Matplotlib can do this too.\n",
    "\n",
    "**24. Run the following cell and explore how to do this using the code PondMatPlot.py from Listing 2.7.**\n",
    "\n",
    "**NOTE:** The part of the code that generates the plot is what is relevant here. What is plotted will be explored later in Chapter 5. This code actually creates a graph you will see later in Chapter 5. **IMPORTANT:** If you get a syntax error related to the \\pi or \\sin escape sequences in the strings, you can add r in front of the string. For example, change \\'2\\$ \\\\ pi \\$\\' to 'r\\'2\\$ \\\\ pi\\$\\'.**"
   ]
  },
  {
   "cell_type": "code",
   "execution_count": null,
   "id": "02c60018-8bcc-44a0-9853-c8a21670476a",
   "metadata": {},
   "outputs": [],
   "source": [
    "# PondMatPlot.py:    Monte-Carlo integration via vonNeumann rejection\n",
    "\n",
    "import numpy as np\n",
    "import matplotlib.pyplot as plt\n",
    "\n",
    "N = 100;    Npts = 3000;    analyt = np.pi**2\n",
    "x1 = np.arange(0, 2*np.pi+2*np.pi/N, 2*np.pi/N)\n",
    "xi = [];    yi = [];    xo = [];    yo = []\n",
    "\n",
    "fig, ax = plt.subplots()\n",
    "y1 = x1 * np.sin(x1)**2                              # Integrand\n",
    "ax.plot(x1,y1, 'c', linewidth=4)\n",
    "ax.set_xlim( (0, 2*np.pi) )\n",
    "ax.set_ylim( (0, 5) )\n",
    "ax.set_xticks( [0, np.pi, 2*np.pi] )\n",
    "ax.set_xticklabels( ['0', r'$\\pi$', r'2$\\pi$'] )\n",
    "ax.set_ylabel(r'$ f(x) = x\\, \\sin^2 x $', fontsize=20)\n",
    "ax.set_xlabel('x', fontsize=20)\n",
    "fig.patch.set_visible(False)\n",
    "\n",
    "def fx(x):\n",
    "    return x*np.sin(x)**2                 # Integrand\n",
    "\n",
    "j = 0                                               # Inside curve counter\n",
    "xx = 2.*np.pi * np.random.rand(Npts)                # 0 =< x <= 2pi\n",
    "yy = 5*np.random.rand(Npts)                         # 0 =< y <= 5\n",
    "\n",
    "for i in range(1, Npts):\n",
    "    if (yy[i] <= fx(xx[i])):\n",
    "        if (i <= 100):\n",
    "            xi.append(xx[i])\n",
    "        if (i <= 100):\n",
    "            yi.append(yy[i])\n",
    "            j += 1\n",
    "    else:\n",
    "        if (i <= 100):\n",
    "            yo.append(yy[i])\n",
    "        if (i <= 100):\n",
    "            xo.append(xx[i])\n",
    "    boxarea = 2. * np.pi * 5.                      # Box area\n",
    "    area = boxarea*j/(Npts-1)                     # Area under curve\n",
    "    ax.plot(xo,yo,'bo',markersize=3)\n",
    "    ax.plot(xi,yi,'ro',markersize=3)\n",
    "    ax.set_title('Answers: Analytic = %5.3f, MC = %5.3f'%(analyt,area))\n",
    "\n",
    "plt.show()\n"
   ]
  },
  {
   "cell_type": "markdown",
   "id": "579cd9fe-6235-4b45-a5f8-b1b7cf23f7fd",
   "metadata": {},
   "source": [
    "### 2.5.3 Matplotlib's 3D Surface Plots\n",
    "\n",
    "3D visualizations can be quite helpful to visualize multidimensional functions or data. Matplotlib can create 3D figures that you can rotate to get a better view of the figure. In this section we explore some examples that demonstrate these capabilities on Matplotlib using two pieces of example code. First look into a \n",
    "\n",
    "**25. In the next cell, use the code Simple3Dplot.py from Listing 2.8 (or online) to produce a 3D function. NOTE: _Replace the line ax = Axes3D(fig) with ax = fig.add_subplot(projection='3d')._ The default function should reproduce Figure 2.8. You can try playing with other functions if you'd like. \"**\n",
    "\n",
    "**Try changing \"ax.plot_surface(X, Y, Z)\", try adding the attributes \"ax.plot_surface(X, Y, Z, cmap='viridis', alpha=0.5)\".**\n"
   ]
  },
  {
   "cell_type": "code",
   "execution_count": null,
   "id": "5ddbb87d-8513-4977-97a0-bb75311cd384",
   "metadata": {},
   "outputs": [],
   "source": []
  },
  {
   "cell_type": "markdown",
   "id": "107fba95-eca1-473d-b96c-1dd1db879eca",
   "metadata": {},
   "source": [
    "### AI as a learning tool\n",
    "\n",
    "The previous example does not quite work as the authors have it. It needed the line \"ax = fig.add_subplot(111, projection='3d').\" The following cell was produced by Google's AI when I searched \"How to use plot_surface and plot_wireframe in same figure matplotlib.\" That's how I discovered the \"ax = fig.add_subplot(111, projection='3d') which made the plot show up. Using AI generated code might be helpful sometimes but it is important to understand what it does before you can use it. \n",
    "\n",
    "Searching for the line \"ax = Axes3D(fig)\" that we replaced, I discovered that it is deprecated, that is it is obsolete in the current version of Python, and should be replaced by the new line of code with the add_subplot() function instead. Just as we did. I went beyond just accepting the AI code and simply used it as a guide to point me to a deeper understanding of the code. I used it as a tool to enhance my understanding of Python.\n",
    "\n",
    "We also learn from the AI code about the cmap and alpha attributes of plot_surface. You can look these up in the documentation for plot_surface online to understand what they do and how to use them. \n",
    "\n",
    "If you use AI code, it should be as a tool to understand more deeply. It can provide examples to investigate or to generate ideas. It might be helpful in conjunction with online documentation for various packages. Similarly, the webpages for documenting code often contain many, extremely useful examples to help get people started. If you use those *examples* as guides to adapt your code, you will soon be writing your own code when you need it. If you just copy and paste you will not learn, you will run into isues if you get a complex, specific task that AI can't handle it. And, a significant part of the grade will include understanding and explaining the code in your Computational Essays."
   ]
  },
  {
   "cell_type": "code",
   "execution_count": null,
   "id": "72ccb798-2eb3-4540-a325-34cab8e447c8",
   "metadata": {
    "scrolled": true
   },
   "outputs": [],
   "source": [
    "import matplotlib.pyplot as plt\n",
    "import numpy as np\n",
    "from mpl_toolkits.mplot3d import Axes3D\n",
    "\n",
    "# Create a figure and an axes object\n",
    "fig = plt.figure()\n",
    "ax = fig.add_subplot(111, projection='3d')\n",
    "\n",
    "# Generate some data\n",
    "X = np.arange(-5, 5, 0.25)\n",
    "Y = np.arange(-5, 5, 0.25)\n",
    "X, Y = np.meshgrid(X, Y)\n",
    "R = np.sqrt(X**2 + Y**2)\n",
    "Z = np.sin(R)\n",
    "\n",
    "# Plot the surface\n",
    "ax.plot_surface(X, Y, Z, cmap='viridis', alpha=0.5)\n",
    "\n",
    "# Plot the wireframe\n",
    "ax.plot_wireframe(X, Y, Z, color='black', linewidth=0.5)\n",
    "\n",
    "# Set labels and title\n",
    "ax.set_xlabel('X')\n",
    "ax.set_ylabel('Y')\n",
    "ax.set_zlabel('Z')\n",
    "ax.set_title('Surface and Wireframe Plot')\n",
    "\n",
    "# Show the plot\n",
    "plt.show()"
   ]
  },
  {
   "cell_type": "markdown",
   "id": "9bae248b-5754-42ca-afa3-5328a7ba0d0d",
   "metadata": {},
   "source": [
    "One more example before a final exercise. This example creates the 3D scatter plot.\n",
    "\n",
    "**26. Enter the code from Scatter3dPlot.py in Listing 2.9 (or online), in the following cell.**"
   ]
  },
  {
   "cell_type": "code",
   "execution_count": null,
   "id": "716c7803-1a8c-4dea-8d5b-6a4ac4896adb",
   "metadata": {},
   "outputs": [],
   "source": []
  },
  {
   "cell_type": "markdown",
   "id": "8ede3108-f701-4101-a0dd-3571d19de464",
   "metadata": {},
   "source": [
    "# 2.6 Plotting exercise\n",
    "\n",
    "1. We encourage you to make your own plots and personalize them by trying out other commands and by including further options in the commands. The Matplotlib documentation is extensive and available on the Web. As an exercise, explore:\n",
    "   \n",
    "   a. how to zoom in and zoom out on sections of a plot, \n",
    "\n",
    "   b. how to save your plots to files in various formats, \n",
    "\n",
    "   c. ~~how to print up your graphs,~~ how to add text labels on your graphs (axis labels, title)\n",
    "\n",
    "   d. the options available from the pull-down menus, \n",
    "\n",
    "   e. how to increase the space between subplots, \n",
    "\n",
    "   f. and how to rotate and scale the surfaces. \n"
   ]
  },
  {
   "cell_type": "markdown",
   "id": "8345802f-9f80-4610-877c-e78ab87f2747",
   "metadata": {},
   "source": [
    "a. Can change axis limits with plt.xlim(1,4) or plt.ylim(0, 0.5) for example. There are more complex ways, such as the inset axis, as demonstrated a couple cells down.\n",
    "b. Files can be saved using plt.savefig(\"<Directory>/<filename>.png\"), or .pdf, .gif, etc.\n",
    "c. \n",
    "e. space between subplots can be changes using plt.subplots_adjust(wspace=0.4, hspace=0.4), where wspace controls the space horizontally (width-wise) and hspace controls the space vertically (height-wise).\n",
    "f.\n",
    "\n"
   ]
  },
  {
   "cell_type": "code",
   "execution_count": null,
   "id": "6f458d38-8de5-4862-8526-41f7a5ab3a72",
   "metadata": {},
   "outputs": [],
   "source": []
  },
  {
   "cell_type": "code",
   "execution_count": null,
   "id": "9a26e504-e9d8-4b03-b05c-eb57f91cbe7e",
   "metadata": {},
   "outputs": [],
   "source": []
  },
  {
   "cell_type": "markdown",
   "id": "9d697a61-35a8-4339-9392-16e43aced427",
   "metadata": {},
   "source": [
    "# Section 2.3.6 - Python's Algebraic Tools\n",
    "\n",
    "I want you to be aware of these capabilities of Python for symbolic problem solving. This might be a useful tool in this class or other physics class too!\n",
    "\n",
    "**Investigate SymPy capabilities. You can just work through the SymPy code in Section 2.3.6 of the text as an example.**"
   ]
  },
  {
   "cell_type": "markdown",
   "id": "9499aff5-ea89-4385-8fac-5cc33ea2c7c2",
   "metadata": {},
   "source": [
    "# Looking up resources and documentation\n",
    "\n",
    "We will be using NumPy, Matplotlib, and VPython throughout the semester. It would be useful to know where to look for documentation and examples of use.\n",
    "\n",
    "**Locate online documentation for NumPy, Matplotlib, and VPython. Enter the URLs here.**"
   ]
  },
  {
   "cell_type": "code",
   "execution_count": null,
   "id": "446c076f-6633-4a04-a803-a8ad0e1bfca6",
   "metadata": {},
   "outputs": [],
   "source": []
  },
  {
   "cell_type": "code",
   "execution_count": null,
   "id": "389aa33a-bf09-4191-869e-3e22ffa15666",
   "metadata": {},
   "outputs": [],
   "source": []
  },
  {
   "cell_type": "markdown",
   "id": "da6bcca2-fe70-4b53-af47-9fed12fa8c2f",
   "metadata": {},
   "source": [
    "# END OF NOTEBOOK"
   ]
  }
 ],
 "metadata": {
  "kernelspec": {
   "display_name": "Python 3 (ipykernel)",
   "language": "python",
   "name": "python3"
  },
  "language_info": {
   "codemirror_mode": {
    "name": "ipython",
    "version": 3
   },
   "file_extension": ".py",
   "mimetype": "text/x-python",
   "name": "python",
   "nbconvert_exporter": "python",
   "pygments_lexer": "ipython3",
   "version": "3.13.0"
  }
 },
 "nbformat": 4,
 "nbformat_minor": 5
}
