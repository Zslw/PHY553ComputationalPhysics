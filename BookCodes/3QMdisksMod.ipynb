{
 "cells": [
  {
   "cell_type": "markdown",
   "metadata": {
    "deletable": true,
    "editable": true
   },
   "source": [
    "<center><h2> Quantum Scattering from Three Disks </h2>  </center>\n",
    "\n",
    "The time dependent Schroedinger\n",
    "equation \n",
    "$$\n",
    "i\\hbar \\frac {\\partial \\psi(x,z)}{\\partial t}  =  -\\frac{\\hbar^2}{2m} \\Bigl ( \\frac{\\partial^2 \\psi(x,z)}{\\partial x^2} +  \\frac{\\partial^2 \\psi(x,z)}{\\partial z^2}\\Bigr )\n",
    "+ V(x,z) \\psi \n",
    "$$\n",
    "is solved for scattering of  the Gaussian wave packet\n",
    "$$\n",
    "\\psi(x,z) =  \\exp(i(k_0 x +k_1 z))\\exp(-A(x-x_i)^2-A(z-z_i)^2) \n",
    "$$ from three disks fixed to the vertices of an equilateral triangle. "
   ]
  },
  {
   "cell_type": "code",
   "execution_count": 3,
   "metadata": {
    "collapsed": false,
    "deletable": true,
    "editable": true,
    "jupyter": {
     "outputs_hidden": false
    }
   },
   "outputs": [
    {
     "name": "stdout",
     "output_type": "stream",
     "text": [
      "0\n",
      "10\n",
      "20\n",
      "30\n",
      "40\n",
      "50\n",
      "60\n",
      "70\n",
      "80\n",
      "90\n",
      "100\n",
      "110\n",
      "120\n",
      "130\n",
      "140\n",
      "finito\n"
     ]
    },
    {
     "data": {
      "text/plain": [
       "<Figure size 640x480 with 0 Axes>"
      ]
     },
     "metadata": {},
     "output_type": "display_data"
    }
   ],
   "source": [
    "\"\"\" From COMPUTATIONAL PHYSICS\" & \"COMPUTER PROBLEMS in PHYSICS\",\n",
    "    \"    by RH Landau, MJ Paez, and CC Bordeianu (deceased).\n",
    "    \"    Copyright R Landau, Oregon State Unv, MJ Paez, Univ Antioquia,\n",
    "    \"    C Bordeianu, Univ Bucharest, 2020.\n",
    "    \"    Please respect copyright & acknowledge our work. \"\"\"\n",
    "\n",
    "# 3QMDisks.ipynb # Quantum scattering from three hard disks\n",
    "\n",
    "#% matplotlib notebook\n",
    "import matplotlib.pylab as p\n",
    "import  numpy as np\n",
    "from mpl_toolkits.mplot3d import Axes3D\n",
    "\n",
    "x1 = 51              \n",
    "r = 10                       # radius of disks\n",
    "xmax = 100                   \n",
    "nmax = 101                   \n",
    "V = np.zeros((nmax,nmax),float) # potential\n",
    "dx  =  0.1                   # increment dx = dz\n",
    "dx2  =  dx*dx                \n",
    "k0  = 20.                    # wave packet x wave vector \n",
    "k1 = 0.                      # wave packet z wave vector\n",
    "dt  =  0.002                 \n",
    "fc = dt/dx2                  # factor\n",
    "Re = np.zeros((nmax,nmax),float)    # Real psi\n",
    "I = np.zeros((nmax,nmax),float)    # Im psi\n",
    "psi = np.zeros((nmax,nmax),float)\n",
    "\n",
    "def pot(xa,ya):            # potential of disk with center (xa,za)\n",
    "     for i in range (ya-r, ya+r+1):   # r : disk radius, \n",
    "        for j in range(xa-r, xa+r+1): # to ends of disk x\n",
    "            if np.sqrt((i-ya)**2+(j-xa)**2) <= r:  # Defines potential\n",
    "                V[i,j] = 5.    # equivalent to infinite potential\n",
    "                   \n",
    "def potential():\n",
    "    pot(30,45)  # center of each ring\n",
    "    pot(70,45)\n",
    "    pot(50,80)   \n",
    "    \n",
    "def initial(xin,yin):        # initial position of wave packet (xin,zin)     \n",
    "    for i in np.arange(0,nmax):\n",
    "        for j in np.arange(0, nmax):\n",
    "             Re[i,j] = np.exp(-0.03*(i-yin)**2- 0.03*(j-xin)**2)*np.cos(k0*i+k1*j)\n",
    "             I[i,j] = np.exp(-0.03*(i-yin)**2-0.03*(j-xin)**2)*np.sin(k0*i+k1*j)\n",
    "            \n",
    "def plotinitial():\n",
    "    for i in range(1,nmax-1):\n",
    "        for j in range(1,nmax-1): \n",
    "            if V[i,j] != 0:    # wave function is zero when potential is != 0\n",
    "                Re[i,j] = 0\n",
    "                I[i,j] = 0\n",
    "            psi[i,j]  =  (Re[i,j ]**2 +I[i, j ]**2)+0.01*V[i,j]             \n",
    "\n",
    "def funcz(psi):\n",
    "    z  =  psi[X,Y]                        \n",
    "    return z\n",
    "\n",
    "potential()       # Potential of disks            \n",
    "xin = 40         # initial position of wave packet,  0 <= x,y <= 100\n",
    "yin =  25          \n",
    "initial(xin,yin)\n",
    "plotinitial()\n",
    "ix  =  np.arange(0, 101)\n",
    "iy  =  np.arange(0,101)\n",
    "X, Y  =  np.meshgrid(ix, iy)\n",
    "Z = funcz(psi)\n",
    "fig  =  p.figure()               # Create figure\n",
    "ax  =  Axes3D(fig)  \n",
    "ix  =  np.arange(0, nmax)\n",
    "iy  =  np.arange(0,nmax)\n",
    "\n",
    "for t in range(0,150):    # plots wf at time 120\n",
    "    if t%10 == 0:  print(t)      \n",
    "    I[1:-1,1:-1] =  I[1:-1,1:-1]+fc*(Re[2: ,1:-1]+Re[:-2 ,1:-1]-4*Re[1:-1,1:-1] + \\\n",
    "                       Re[1:-1,2: ]+Re[1:-1, :-2])+ V[1:-1,1:-1]*dt*Re[1:-1,1:-1]\n",
    "    Re[1:-1, 1:-1] = Re[1:-1,1:-1]-fc*(I[2: ,1:-1]+I[ :-2,1:-1]-4*I[1:-1,1:-1] \\\n",
    "                       +I[1:-1,2: ]+I[1:-1, :-2])+ V[1:-1,1:-1]*dt*I[1:-1,1:-1]   \n",
    "    for i in range(1, nmax-1):\n",
    "        for j in range(1,nmax-1): # psi=0 when V != 0\n",
    "             if V[i,j] != 0:      # 0 psi causes reflections\n",
    "                 Re[i,j] = 0\n",
    "                 I[i,j] = 0\n",
    "             yy  = 0.1* (Re[i,j ]**2 +I[i, j]**2)+0.0002*V[i,j]  \n",
    "             psi[i,j] = yy\n",
    "X, Y  =  np.meshgrid(ix, iy)\n",
    "Z = funcz(psi)   \n",
    "ax.plot_wireframe(X, Y, Z, color  =  'g')\n",
    "print(\"finito\")    \n",
    "p.show()        "
   ]
  },
  {
   "cell_type": "code",
   "execution_count": null,
   "metadata": {},
   "outputs": [],
   "source": []
  }
 ],
 "metadata": {
  "kernelspec": {
   "display_name": "Python 3 (ipykernel)",
   "language": "python",
   "name": "python3"
  },
  "language_info": {
   "codemirror_mode": {
    "name": "ipython",
    "version": 3
   },
   "file_extension": ".py",
   "mimetype": "text/x-python",
   "name": "python",
   "nbconvert_exporter": "python",
   "pygments_lexer": "ipython3",
   "version": "3.13.0"
  }
 },
 "nbformat": 4,
 "nbformat_minor": 4
}
