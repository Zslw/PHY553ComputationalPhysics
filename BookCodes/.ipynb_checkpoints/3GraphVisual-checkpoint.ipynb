{
 "cells": [
  {
   "cell_type": "code",
   "execution_count": 1,
   "id": "0f2e49cf-f1dc-4073-9446-2a43df869077",
   "metadata": {},
   "outputs": [
    {
     "data": {
      "text/plain": [
       "' From \"COMPUTATIONAL PHYSICS\" & \"COMPUTER PROBLEMS in PHYSICS\"\\n    by RH Landau, MJ Paez, and CC Bordeianu (deceased).\\n    Copyright R Landau, Oregon State Unv, MJ Paez, Univ Antioquia, \\n    C Bordeianu, Univ Bucharest, 2020. \\n    Please respect copyright & acknowledge our work.'"
      ]
     },
     "execution_count": 1,
     "metadata": {},
     "output_type": "execute_result"
    }
   ],
   "source": [
    "\"\"\" From \"COMPUTATIONAL PHYSICS\" & \"COMPUTER PROBLEMS in PHYSICS\"\n",
    "    by RH Landau, MJ Paez, and CC Bordeianu (deceased).\n",
    "    Copyright R Landau, Oregon State Unv, MJ Paez, Univ Antioquia, \n",
    "    C Bordeianu, Univ Bucharest, 2020. \n",
    "    Please respect copyright & acknowledge our work.\"\"\"\n",
    "  \n",
    "# 3GraphVisual.py: 3 plots, with bars, dots and curve"
   ]
  },
  {
   "cell_type": "code",
   "execution_count": 2,
   "id": "ce4af5f0-ce46-4185-a697-decbf9fa201e",
   "metadata": {},
   "outputs": [
    {
     "data": {
      "text/html": [
       "<div id=\"glowscript\" class=\"glowscript\"></div>"
      ],
      "text/plain": [
       "<IPython.core.display.HTML object>"
      ]
     },
     "metadata": {},
     "output_type": "display_data"
    },
    {
     "data": {
      "application/javascript": [
       "if (typeof Jupyter !== \"undefined\") { window.__context = { glowscript_container: $(\"#glowscript\").removeAttr(\"id\")};}else{ element.textContent = ' ';}"
      ],
      "text/plain": [
       "<IPython.core.display.Javascript object>"
      ]
     },
     "metadata": {},
     "output_type": "display_data"
    }
   ],
   "source": [
    "from vpython import *"
   ]
  },
  {
   "cell_type": "code",
   "execution_count": 3,
   "id": "ad67c87c-035f-4944-abd6-dc7bd2c7f1dc",
   "metadata": {},
   "outputs": [],
   "source": [
    "string=\"blue: sin^2(x), black= cos^2(x), cyan: sin(x)*cos(x)\"\n",
    "graph1=graph(title=string, xtitle='x', ytitle='y',background=color.white,foreground=color.black)\n",
    "y1 = gcurve(color=color.blue)     # curve\n",
    "y2 = gvbars(color=color.black)    # vertical bars\n",
    "y3 = gdots(color=color.cyan)      # dots"
   ]
  },
  {
   "cell_type": "code",
   "execution_count": 4,
   "id": "e2630292-6f1f-475b-b6de-acffcf601d8a",
   "metadata": {},
   "outputs": [],
   "source": [
    "for x in arange(-5,5,0.1):        # arange for  plots\n",
    "    y1.plot(pos=(x,sin(x)**2))\n",
    "    y2.plot(pos=(x,cos(x)*cos(x)/3.))\n",
    "    y3.plot(pos=(x,sin(x)*cos(x)))"
   ]
  },
  {
   "cell_type": "code",
   "execution_count": 5,
   "id": "85422eae-4a55-4381-952b-4a37deefde1e",
   "metadata": {},
   "outputs": [
    {
     "data": {
      "text/html": [
       "<div id=\"glowscript\" class=\"glowscript\"></div>"
      ],
      "text/plain": [
       "<IPython.core.display.HTML object>"
      ]
     },
     "metadata": {},
     "output_type": "display_data"
    },
    {
     "data": {
      "application/javascript": [
       "if (typeof Jupyter !== \"undefined\") { window.__context = { glowscript_container: $(\"#glowscript\").removeAttr(\"id\")};}else{ element.textContent = ' ';}"
      ],
      "text/plain": [
       "<IPython.core.display.Javascript object>"
      ]
     },
     "metadata": {},
     "output_type": "display_data"
    }
   ],
   "source": [
    "scene = canvas()"
   ]
  }
 ],
 "metadata": {
  "kernelspec": {
   "display_name": "Python 3 (ipykernel)",
   "language": "python",
   "name": "python3"
  },
  "language_info": {
   "codemirror_mode": {
    "name": "ipython",
    "version": 3
   },
   "file_extension": ".py",
   "mimetype": "text/x-python",
   "name": "python",
   "nbconvert_exporter": "python",
   "pygments_lexer": "ipython3",
   "version": "3.13.0"
  }
 },
 "nbformat": 4,
 "nbformat_minor": 5
}
